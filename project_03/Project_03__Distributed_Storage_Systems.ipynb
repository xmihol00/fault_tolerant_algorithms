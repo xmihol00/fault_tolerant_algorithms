{
  "cells": [
    {
      "cell_type": "markdown",
      "metadata": {
        "id": "hIG3sDBFyebw"
      },
      "source": [
        "# Project 3 -- Distributed Storage Systems\n",
        "\n",
        "## Instructions\n",
        "\n",
        "Please read carefully:\n",
        "\n",
        "* Solve the project yourself. No teamwork.\n",
        "* If you have questions, please post these in the public channel on Slack. The answers may be relevant to others as well. \n",
        "* Feel free to import and use any additional Python package you need.\n",
        "* You are allowed to solve the project using a different programming language. In this case, please send me your full code and instructions how to run it.\n",
        "* Your code may be tested on similar but not exactly the same inputs.\n",
        "* Make sure to fill in your `student_name` in the following block below."
      ]
    },
    {
      "cell_type": "code",
      "execution_count": 1,
      "metadata": {
        "id": "NRQm4C5L0AsG"
      },
      "outputs": [],
      "source": [
        "student_name = 'David Mihola' # fill with your student name\n",
        "assert student_name != 'your_student_name', 'Please fill in your student_name before you start.'"
      ]
    },
    {
      "cell_type": "markdown",
      "metadata": {
        "id": "nmM9HxEAJCdX"
      },
      "source": [
        "## Setup\n",
        "\n",
        "In a distributed storage system that utilizes consistent hashing, the keys are assigned to nodes as follows. Identifiers are ordered on an identifier circle modulo $2^m$. Key $k$ is assigned to the first node whose identifier is equal to or follows (the identifier of ) $k$ in the identifier space. This node is called the successor node of key $k$. If identifiers are represented as a circle of numbers from $0$ to $2^m − 1$, then `successor(k)` is the first node clockwise from $k$. The identifier circle is also called the Chord ring.\n",
        "\n",
        "The Chord protocol supports just one operation: given a key, it maps the key onto a node. Depending on the application using Chord, that node might be responsible for storing a value associated with the key. Chord uses consistent hashing to assign keys to Chord nodes. Consistent hashing tends to balance load, since each node receives roughly the same number of keys, and requires relatively little movement of keys when nodes join and leave the system. Please refer to the lecture materials and the paper [Chord: A P2P Lookup Protocol for Internet Applications](https://pdos.csail.mit.edu/papers/ton:chord/paper-ton.pdf) for further details.\n",
        "\n",
        "Necessary imports:"
      ]
    },
    {
      "cell_type": "code",
      "execution_count": 2,
      "metadata": {
        "id": "b4wrzJYpXHvN"
      },
      "outputs": [],
      "source": [
        "import hashlib\n",
        "import numpy as np \n",
        "import matplotlib.pyplot as plt"
      ]
    },
    {
      "cell_type": "markdown",
      "metadata": {
        "id": "Z6ISFTdVVyfU"
      },
      "source": [
        "We will consider $m$=`total_slots`=$2^5$. The function below is used to map the key or the host information of a node to a value on the Chord ring."
      ]
    },
    {
      "cell_type": "code",
      "execution_count": 3,
      "metadata": {
        "id": "JVLwBNtiMihr"
      },
      "outputs": [],
      "source": [
        "def hash_fn1(key: str):\n",
        "    # hash_fn creates an integer equivalent of a SHA256 hash and\n",
        "    # takes a modulo with the total number of slots in hash space.\n",
        "\n",
        "    hsh = hashlib.sha256()\n",
        "    # converting data into bytes and passing it to hash function\n",
        "    hsh.update(bytes(key.encode('utf-8')))\n",
        "    # converting the HEX digest into equivalent integer value\n",
        "    return int(hsh.hexdigest(), 16) % pow(2,5)\n",
        "\n",
        "def hash_fn2(key: str):\n",
        "    hash = hashlib.blake2b(digest_size=9)\n",
        "    hash.update(bytes(key.encode('utf-8')))\n",
        "    return int(hash.hexdigest(), 16) & ((1 << 5) - 1)\n",
        "\n",
        "def hash_fn3(key: str):\n",
        "    hash = hashlib.md5()\n",
        "    hash.update(bytes(key.encode('utf-8')))\n",
        "    return int(hash.hexdigest(), 16) & ((1 << 5) - 1)"
      ]
    },
    {
      "cell_type": "markdown",
      "metadata": {
        "id": "6qq8GbJ9pHJW"
      },
      "source": [
        "Below we define several nodes used to store files on a Chord ring. We print hash values of each node."
      ]
    },
    {
      "cell_type": "code",
      "execution_count": 4,
      "metadata": {
        "id": "AmeCg5mfWmEy"
      },
      "outputs": [
        {
          "name": "stdout",
          "output_type": "stream",
          "text": [
            "Node A has first hash 21, has second hash 31, has third hash 14.\n",
            "Node B has first hash 16, has second hash 22, has third hash 14.\n",
            "Node C has first hash 18, has second hash  3, has third hash 14.\n",
            "Node D has first hash 28, has second hash  6, has third hash 17.\n",
            "Node E has first hash  4, has second hash  8, has third hash  2.\n",
            "Node F has first hash 29, has second hash 14, has third hash 20.\n",
            "Node G has first hash 25, has second hash  1, has third hash 12.\n"
          ]
        }
      ],
      "source": [
        "class StorageNode:\n",
        "    def __init__(self, name=None, host=None):\n",
        "        self.name = name\n",
        "        self.host = host\n",
        "        \n",
        "# storage_nodes holding instances of actual storage node objects\n",
        "storage_nodes = [\n",
        "    StorageNode(name='A', host='239.67.52.72'),\n",
        "    StorageNode(name='B', host='137.70.131.229'),\n",
        "    StorageNode(name='C', host='98.5.87.182'),\n",
        "    StorageNode(name='D', host='11.225.158.95'),\n",
        "    StorageNode(name='E', host='203.187.116.210'),\n",
        "    StorageNode(name='F', host='107.117.238.203'),\n",
        "    StorageNode(name='G', host='27.161.219.131'),\n",
        "]\n",
        "\n",
        "for node in storage_nodes:\n",
        "    print(f\"Node {node.name} has first hash {hash_fn1(node.host):2}, has second hash {hash_fn2(node.host):2}, has third hash {hash_fn3(node.host):2}.\")"
      ]
    },
    {
      "cell_type": "markdown",
      "metadata": {
        "id": "C7Ncc-ygjbnx"
      },
      "source": [
        "We generate movie files and hash them using the same hash function above. The example below generates 15 files."
      ]
    },
    {
      "cell_type": "code",
      "execution_count": 5,
      "metadata": {
        "id": "nU2CWX5efnuF"
      },
      "outputs": [
        {
          "name": "stdout",
          "output_type": "stream",
          "text": [
            "File f0.mov has first hash 15, has second hash  8, has third hash  1,\n",
            "File f1.mov has first hash  7, has second hash 18, has third hash 31,\n",
            "File f2.mov has first hash  6, has second hash  7, has third hash 27,\n",
            "File f3.mov has first hash  5, has second hash  2, has third hash  5,\n",
            "File f4.mov has first hash 17, has second hash 21, has third hash 11,\n",
            "File f5.mov has first hash 30, has second hash 25, has third hash 29,\n",
            "File f6.mov has first hash 18, has second hash 30, has third hash  5,\n",
            "File f7.mov has first hash 22, has second hash 24, has third hash 12,\n",
            "File f8.mov has first hash 24, has second hash 15, has third hash 13,\n",
            "File f9.mov has first hash 12, has second hash  1, has third hash 27,\n",
            "File f10.mov has first hash 27, has second hash 22, has third hash 19,\n",
            "File f11.mov has first hash  7, has second hash  5, has third hash  6,\n",
            "File f12.mov has first hash 10, has second hash 26, has third hash  3,\n",
            "File f13.mov has first hash 12, has second hash  1, has third hash 15,\n",
            "File f14.mov has first hash  5, has second hash 15, has third hash 30,\n"
          ]
        }
      ],
      "source": [
        "# Create a list of movie files to be stores on the nodes\n",
        "def movie_file_list(num_files):\n",
        "    return [f\"f{x}.mov\" for x in range(num_files)]\n",
        "\n",
        "numfiles = 15\n",
        "filelist = movie_file_list(numfiles)\n",
        "\n",
        "for file in filelist:\n",
        "    print(f\"File {file} has first hash {hash_fn1(file):2}, has second hash {hash_fn2(file):2}, has third hash {hash_fn3(file):2},\")"
      ]
    },
    {
      "cell_type": "markdown",
      "metadata": {
        "id": "llviuq-77XS7"
      },
      "source": [
        "## 1 - Visualize Consistent Hashing [5 points]\n",
        "\n",
        "**Your task:** Given the list of files and nodes above, visualize the Chord ring with keys and nodes mapped."
      ]
    },
    {
      "cell_type": "code",
      "execution_count": 6,
      "metadata": {
        "id": "v7GjaEFSbN7s"
      },
      "outputs": [
        {
          "data": {
            "image/png": "[encoded data removed]",
            "text/plain": [
              "<Figure size 864x864 with 1 Axes>"
            ]
          },
          "metadata": {},
          "output_type": "display_data"
        }
      ],
      "source": [
        "cmap_table = plt.get_cmap(\"tab10\") # pyplot colors\n",
        "num_keys_on_ring = 1 << 5 # 2^5\n",
        "\n",
        "num_nodes = len(storage_nodes)\n",
        "files = [[hash_fn1(file), file] for file in filelist]\n",
        "nodes = [[hash_fn1(node.host), node.name] for node in storage_nodes]\n",
        "nodes.sort() # sort the nodes clocwise on the chord ring\n",
        "\n",
        "angles = np.linspace(-np.pi * 0.5, 1.5 * np.pi, num_keys_on_ring + 1) * -1 # create and rotate the circle correctly\n",
        "\n",
        "node_angles = angles[[hash for hash, _ in nodes]]\n",
        "file_angles = angles[[hash for hash, *_ in files]]\n",
        "for i, file_angle in enumerate(file_angles):\n",
        "    files[i].append(file_angle)\n",
        "\n",
        "file_angles_dictonaries = []\n",
        "for file in files:\n",
        "    i = 0\n",
        "    while True:\n",
        "        if len(file_angles_dictonaries) == i: # all previos circles are full, create new one\n",
        "            file_angles_dictonaries.append({file[0]: file})\n",
        "            break\n",
        "        elif not file_angles_dictonaries[i].get(file[0], False): # empty space in already created circle\n",
        "            file_angles_dictonaries[i][file[0]] = file\n",
        "            break\n",
        "        else:  # circle is already full, move to the next one\n",
        "            i += 1 \n",
        "\n",
        "file_circles = [sorted(list(file_angles_dict.values())) for file_angles_dict in file_angles_dictonaries] # order files in each circle clockwise\n",
        "\n",
        "figure, axis = plt.subplots(1, figsize=(12, 12), facecolor=\"white\")\n",
        "axis.set_aspect(1)\n",
        "\n",
        "radius = 8\n",
        "angles = angles[:num_keys_on_ring]\n",
        "x = radius * np.cos(angles)\n",
        "y = radius * np.sin(angles)\n",
        "axis.scatter(x, y, s=25, c=\"gray\") # plot all keys as a reference\n",
        "for i, (xi, yi) in enumerate(zip(x, y)):\n",
        "    axis.annotate(i, (xi + 0.15, yi - 0.15))\n",
        "\n",
        "radius = 10\n",
        "x = radius * np.cos(node_angles)\n",
        "y = radius * np.sin(node_angles)\n",
        "for i, (xi, yi) in enumerate(zip(x, y)): # plot all nodes \n",
        "    axis.plot(xi, yi, marker=\"o\", markersize=16, markerfacecolor=cmap_table(i), markeredgecolor=cmap_table(i))\n",
        "for i, ((_, node_name), xi, yi) in enumerate(zip(nodes, x, y)):\n",
        "    axis.annotate(node_name, (xi + 0.32, yi - 0.15), fontweight=\"bold\")\n",
        "\n",
        "for file_circle in file_circles:\n",
        "    radius += 0.75 # make sure circles don't overlap\n",
        "    file_angles = [file_angle for *_, file_angle in file_circle]\n",
        "    x = radius * np.cos(file_angles)\n",
        "    y = radius * np.sin(file_angles)\n",
        "    for i, ((file_hash, *_), xi, yi) in enumerate(zip(file_circle, x, y)):\n",
        "        for j, (node_hash, _) in enumerate(nodes):\n",
        "            if file_hash > node_hash and file_hash <= nodes[(j + 1) % num_nodes][0]:\n",
        "                break\n",
        "        color = cmap_table((j + 1) % num_nodes) # assign the file to the corrent node\n",
        "        axis.plot(xi, yi, marker=\"o\", markersize=10, markerfacecolor=color, markeredgecolor=color)\n",
        "\n",
        "    for i, (file, xi, yi) in enumerate(zip(file_circle, x, y)):\n",
        "        axis.annotate(file[1], (xi, yi + 0.25), ha=\"center\")\n",
        "\n",
        "# make the chord ring look better\n",
        "axis.set_xlim((-radius - 1, radius + 1))\n",
        "axis.set_ylim((-radius - 1, radius + 1))\n",
        "axis.set_frame_on(False)\n",
        "axis.set_xticks([], [])\n",
        "axis.set_yticks([], [])\n",
        "\n",
        "plt.title(\"Chord ring\")\n",
        "plt.savefig(\"plots/chord_ring\", dpi=500)\n",
        "plt.show()"
      ]
    },
    {
      "cell_type": "markdown",
      "metadata": {
        "id": "MB9Und0-_BPu"
      },
      "source": [
        "## 2 - Compute Finger tables in Chord [5 points]\n",
        "\n",
        "Each Chord node needs “routing” information about only a few other nodes. Because the routing table is distributed, a Chord node communicates with other nodes in order to perform a lookup. In the steady state, in an N-node system, each node maintains information about only O(log N ) other nodes, and resolves all lookups via O(log N ) messages to other nodes. \n",
        "\n",
        "**Your task:** Compute a finger table for each node on the Chord ring. The function `compute_finger_tables()` returns a dictionary `{node.name : [finger table entries]}`."
      ]
    },
    {
      "cell_type": "code",
      "execution_count": 7,
      "metadata": {
        "id": "MjvC_hOkkEqf"
      },
      "outputs": [
        {
          "name": "stdout",
          "output_type": "stream",
          "text": [
            "{'E': ['B', 'B', 'B', 'B', 'A'], 'B': ['C', 'C', 'A', 'G', 'E'], 'C': ['A', 'A', 'G', 'D', 'E'], 'A': ['G', 'G', 'G', 'F', 'B'], 'G': ['D', 'D', 'F', 'E', 'B'], 'D': ['F', 'E', 'E', 'E', 'B'], 'F': ['E', 'E', 'E', 'B', 'B']}\n"
          ]
        }
      ],
      "source": [
        "def compute_finger_tables(nodes):\n",
        "    M = 5\n",
        "    nodes_hashed = [(hash_fn1(node.host), node.name) for node in nodes]\n",
        "    nodes_hashed.sort()\n",
        "    supper_table = [] # contains for every key of the chord ring, which node stores this key\n",
        "    idx = 0\n",
        "    for node_hash, node_name in nodes_hashed:\n",
        "        while idx <= node_hash:\n",
        "            supper_table.append(node_name)\n",
        "            idx += 1\n",
        "    \n",
        "    max_nodes = 1 << M\n",
        "    while len(supper_table) < max_nodes: # fill in the remaining with the name of the first node\n",
        "        supper_table.append(nodes_hashed[0][1])\n",
        "\n",
        "    finger_tables = {}\n",
        "    for node_hash, node_name in nodes_hashed:\n",
        "        finger_table = []\n",
        "        for i in range(M):\n",
        "            offset = 1 << i\n",
        "            finger_table.append(supper_table[(node_hash + offset) % max_nodes]) # find the node, to which the file belong in the super table\n",
        "        finger_tables[node_name] = finger_table\n",
        "\n",
        "    return finger_tables\n",
        "\n",
        "ftabs = compute_finger_tables(storage_nodes)\n",
        "print(ftabs)"
      ]
    },
    {
      "cell_type": "markdown",
      "metadata": {
        "id": "HPyhwbAT_BCM"
      },
      "source": [
        "## 3 - Find a key [5 points]\n",
        "\n",
        "**Your task:** Provided an initial node and a key on the ring, print the nodes on the route from the initial node to the node that stores the key. Include the initial node and the destination node in the routing path. Use the finger tables computed above."
      ]
    },
    {
      "cell_type": "code",
      "execution_count": 8,
      "metadata": {
        "id": "fftZV4Qmsrvq"
      },
      "outputs": [
        {
          "name": "stdout",
          "output_type": "stream",
          "text": [
            "['A', 'F', 'E', 'B']\n"
          ]
        }
      ],
      "source": [
        "def route_to_key(init_node : str, key : int, finger_tables, nodes_dict):\n",
        "    M = 5\n",
        "    max_nodes = 1 << M\n",
        "    max_nodes_mask = max_nodes - 1\n",
        "    node_list = []\n",
        "    for _ in range(M): # max log(32) messages\n",
        "        node_list.append(init_node)\n",
        "        finger_table = finger_tables[init_node]\n",
        "        node_hash = hash_fn1(nodes_dict[init_node])\n",
        "        distance_to_key = (key + max_nodes - node_hash) & max_nodes_mask # make sure the distance is always positive\n",
        "        for i in range(M):\n",
        "            if distance_to_key < (1 << i):\n",
        "                break # node with routing info found\n",
        "        \n",
        "        candidate = hash_fn1(nodes_dict[finger_table[i - 1]])\n",
        "        distance_to_candidate = (candidate + max_nodes - node_hash) & max_nodes_mask\n",
        "        \n",
        "        if finger_table[i - 1] == finger_table[0] and distance_to_key <= distance_to_candidate: # the candidate is the successor of the node and it stores the key\n",
        "            node_list.append(finger_table[0])\n",
        "            return node_list\n",
        "        \n",
        "        for j in range(i, -2, -1): # move backward, stop at -1\n",
        "            init_node = finger_table[j]\n",
        "            candidate = hash_fn1(nodes_dict[init_node])\n",
        "            distance_to_candidate = (key + max_nodes - candidate) & max_nodes_mask\n",
        "            if distance_to_candidate < distance_to_key:\n",
        "                break # first preceeding node for the key (predecessor) found\n",
        "\n",
        "nodes_dict = { node.name: node.host for node in storage_nodes }\n",
        "print(route_to_key(\"A\", hash_fn1(\"f0.mov\"), ftabs, nodes_dict))"
      ]
    },
    {
      "cell_type": "markdown",
      "metadata": {
        "id": "Q43SHMhi2DuL"
      },
      "source": [
        "## 4 - Equal load on every node [5 points]\n",
        "\n",
        "**Your task:** Generate 1000 key to store in the constructred system (similar to above) and measure the empirical load on every node (=show a bar plot). To improve the load distribution on all nodes, introduce additional hash functions (see [hashlib](https://docs.python.org/3/library/hashlib.html)) and hash the same node to multiple locations on the ring (also see the lecture). Re-run the test and plot the change to the distribution (show the result for using 1, 2 and 3 hash functions)."
      ]
    },
    {
      "cell_type": "code",
      "execution_count": 9,
      "metadata": {
        "id": "G8XqAky2tcww"
      },
      "outputs": [],
      "source": [
        "def assign_files_to_nodes(files, nodes, num_keys_on_ring=32):\n",
        "    files_per_node = {node_name: [] for _, node_name in nodes} # dictionary of lists of files for each node    \n",
        "\n",
        "    for file_hashes, *_ in files:\n",
        "        best_distance = num_keys_on_ring + 1\n",
        "        best_node_name = None\n",
        "        best_file_hash = None\n",
        "        for node_hashes, node_name in nodes: # if two nodes have the same hash, all files will belong to the first node with that hash\n",
        "            for file_hash, node_hash in zip(file_hashes, node_hashes):\n",
        "                distance = (node_hash - file_hash + num_keys_on_ring) & (num_keys_on_ring - 1)\n",
        "                if distance < best_distance:\n",
        "                    best_distance = distance\n",
        "                    best_node_name = node_name\n",
        "                    best_file_hash = file_hash\n",
        "        files_per_node[best_node_name].append(best_file_hash)\n",
        "\n",
        "    return files_per_node\n",
        "\n",
        "def plot_files_distrib(hash_functions, title):\n",
        "    file_list = movie_file_list(1000)\n",
        "    files = [[[hash_func(file) for hash_func in hash_functions], file] for file in file_list] # files and their hashes\n",
        "    nodes = [[[hash_func(node.host) for hash_func in hash_functions], node.name] for node in storage_nodes] # nodes and their hashes\n",
        "    files_per_node = assign_files_to_nodes(files, nodes)\n",
        "    bins = np.arange(0, num_nodes + 1) * 10\n",
        "    counts = [len(files) for files in files_per_node.values()]\n",
        "    _, axis = plt.subplots(1, figsize=(6, 5), facecolor=\"white\")\n",
        "    *_, patches = axis.hist(bins[:-1], bins, weights=counts) # artificial histogram\n",
        "\n",
        "    for i, patch in enumerate(patches):\n",
        "        patch.set_facecolor(cmap_table(i))\n",
        "\n",
        "    y_pos = max(counts) * 0.025\n",
        "    for node_name, x_pos in zip(files_per_node.keys(), bins[:-1] + 5):\n",
        "        axis.annotate(node_name, (x_pos, y_pos), fontweight=\"bold\", ha=\"center\")\n",
        "\n",
        "    for count, x_pos in zip(counts, bins[:-1] + 5):\n",
        "        axis.annotate(str(count), (x_pos, count + 3), ha=\"center\")\n",
        "\n",
        "    # make the plot look better\n",
        "    axis.set_xticks([], [])\n",
        "    axis.set_yticks([], [])\n",
        "    axis.set_frame_on(False)\n",
        "    plt.title(title)\n",
        "    plt.savefig(\"plots/\" + title.lower().replace(\" \", \"_\"), dpi=500)\n",
        "    plt.show()"
      ]
    },
    {
      "cell_type": "code",
      "execution_count": 10,
      "metadata": {},
      "outputs": [
        {
          "data": {
            "image/png": "[encoded data removed]",
            "text/plain": [
              "<Figure size 432x360 with 1 Axes>"
            ]
          },
          "metadata": {},
          "output_type": "display_data"
        }
      ],
      "source": [
        "plot_files_distrib([hash_fn1], \"Initial node load\")"
      ]
    },
    {
      "cell_type": "code",
      "execution_count": 11,
      "metadata": {},
      "outputs": [
        {
          "data": {
            "image/png": "[encoded data removed]",
            "text/plain": [
              "<Figure size 432x360 with 1 Axes>"
            ]
          },
          "metadata": {},
          "output_type": "display_data"
        }
      ],
      "source": [
        "plot_files_distrib([hash_fn1, hash_fn2], \"Node load with two hash functions\")\n",
        "# The load improved quite well, as with 'hash_fn1' and 'hash_fn2' there are no nodes mapped on the same key."
      ]
    },
    {
      "cell_type": "code",
      "execution_count": 12,
      "metadata": {},
      "outputs": [
        {
          "data": {
            "image/png": "[encoded data removed]",
            "text/plain": [
              "<Figure size 432x360 with 1 Axes>"
            ]
          },
          "metadata": {},
          "output_type": "display_data"
        }
      ],
      "source": [
        "plot_files_distrib([hash_fn1, hash_fn2, hash_fn3], \"Node load with three hash functions\")\n",
        "# The load is not improving a lot, because the 'hash_fn3' introduces collisions when mapping nodes onto keys."
      ]
    },
    {
      "cell_type": "markdown",
      "metadata": {
        "id": "5AXgCZ6pzoO4"
      },
      "source": [
        "## 5 - How to Submit Your Solution?\n",
        "\n",
        "Download your notebook (File --> Download --> Download .ipynb) and send per email to [saukh@tugraz.at](mailto:saukh@tugraz.at)."
      ]
    },
    {
      "cell_type": "code",
      "execution_count": null,
      "metadata": {
        "id": "hlA86iBu-9RG"
      },
      "outputs": [],
      "source": []
    }
  ],
  "metadata": {
    "colab": {
      "provenance": [],
      "toc_visible": true
    },
    "kernelspec": {
      "display_name": "Python 3",
      "language": "python",
      "name": "python3"
    },
    "language_info": {
      "codemirror_mode": {
        "name": "ipython",
        "version": 3
      },
      "file_extension": ".py",
      "mimetype": "text/x-python",
      "name": "python",
      "nbconvert_exporter": "python",
      "pygments_lexer": "ipython3",
      "version": "3.10.6"
    },
    "vscode": {
      "interpreter": {
        "hash": "916dbcbb3f70747c44a77c7bcd40155683ae19c65e1c03b4aa3499c5328201f1"
      }
    }
  },
  "nbformat": 4,
  "nbformat_minor": 0
}
