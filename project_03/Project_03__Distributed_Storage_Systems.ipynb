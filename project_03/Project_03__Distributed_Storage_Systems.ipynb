{
  "cells": [
    {
      "cell_type": "markdown",
      "metadata": {
        "id": "hIG3sDBFyebw"
      },
      "source": [
        "# Project 3 -- Distributed Storage Systems\n",
        "\n",
        "## Instructions\n",
        "\n",
        "Please read carefully:\n",
        "\n",
        "* Solve the project yourself. No teamwork.\n",
        "* If you have questions, please post these in the public channel on Slack. The answers may be relevant to others as well. \n",
        "* Feel free to import and use any additional Python package you need.\n",
        "* You are allowed to solve the project using a different programming language. In this case, please send me your full code and instructions how to run it.\n",
        "* Your code may be tested on similar but not exactly the same inputs.\n",
        "* Make sure to fill in your `student_name` in the following block below."
      ]
    },
    {
      "cell_type": "code",
      "execution_count": null,
      "metadata": {
        "id": "NRQm4C5L0AsG"
      },
      "outputs": [],
      "source": [
        "student_name = 'your_student_name' # fill with your student name\n",
        "assert student_name != 'your_student_name', 'Please fill in your student_name before you start.'"
      ]
    },
    {
      "cell_type": "markdown",
      "metadata": {
        "id": "nmM9HxEAJCdX"
      },
      "source": [
        "## Setup\n",
        "\n",
        "In a distributed storage system that utilizes consistent hashing, the keys are assigned to nodes as follows. Identifiers are ordered on an identifier circle modulo $2^m$. Key $k$ is assigned to the first node whose identifier is equal to or follows (the identifier of ) $k$ in the identifier space. This node is called the successor node of key $k$. If identifiers are represented as a circle of numbers from $0$ to $2^m − 1$, then `successor(k)` is the first node clockwise from $k$. The identifier circle is also called the Chord ring.\n",
        "\n",
        "The Chord protocol supports just one operation: given a key, it maps the key onto a node. Depending on the application using Chord, that node might be responsible for storing a value associated with the key. Chord uses consistent hashing to assign keys to Chord nodes. Consistent hashing tends to balance load, since each node receives roughly the same number of keys, and requires relatively little movement of keys when nodes join and leave the system. Please refer to the lecture materials and the paper [Chord: A P2P Lookup Protocol for Internet Applications](https://pdos.csail.mit.edu/papers/ton:chord/paper-ton.pdf) for further details.\n",
        "\n",
        "Necessary imports:"
      ]
    },
    {
      "cell_type": "code",
      "execution_count": 11,
      "metadata": {
        "id": "b4wrzJYpXHvN"
      },
      "outputs": [],
      "source": [
        "import hashlib\n",
        "import matplotlib.pyplot as plt\n",
        "from typing import Union\n",
        "from bisect import bisect, bisect_left, bisect_right"
      ]
    },
    {
      "cell_type": "markdown",
      "metadata": {
        "id": "Z6ISFTdVVyfU"
      },
      "source": [
        "We will consider $m$=`total_slots`=$2^5$. The function below is used to map the key or the host information of a node to a value on the Chord ring."
      ]
    },
    {
      "cell_type": "code",
      "execution_count": 12,
      "metadata": {
        "id": "JVLwBNtiMihr"
      },
      "outputs": [],
      "source": [
        "def hash_fn(key: str):\n",
        "    # hash_fn creates an integer equivalent of a SHA256 hash and\n",
        "    # takes a modulo with the total number of slots in hash space.\n",
        "\n",
        "    hsh = hashlib.sha256()\n",
        "    # converting data into bytes and passing it to hash function\n",
        "    hsh.update(bytes(key.encode('utf-8')))\n",
        "    # converting the HEX digest into equivalent integer value\n",
        "    return int(hsh.hexdigest(), 16) % pow(2,5)"
      ]
    },
    {
      "cell_type": "markdown",
      "metadata": {
        "id": "6qq8GbJ9pHJW"
      },
      "source": [
        "Below we define several nodes used to store files on a Chord ring. We print hash values of each node."
      ]
    },
    {
      "cell_type": "code",
      "execution_count": 14,
      "metadata": {
        "id": "AmeCg5mfWmEy"
      },
      "outputs": [
        {
          "name": "stdout",
          "output_type": "stream",
          "text": [
            "node A has hash 21\n",
            "node B has hash 16\n",
            "node C has hash 18\n",
            "node D has hash 28\n",
            "node E has hash 4\n",
            "node F has hash 29\n",
            "node G has hash 25\n"
          ]
        }
      ],
      "source": [
        "class StorageNode:\n",
        "    def __init__(self, name=None, host=None):\n",
        "        self.name = name\n",
        "        self.host = host\n",
        "        \n",
        "# storage_nodes holding instances of actual storage node objects\n",
        "storage_nodes = [\n",
        "    StorageNode(name='A', host='239.67.52.72'),\n",
        "    StorageNode(name='B', host='137.70.131.229'),\n",
        "    StorageNode(name='C', host='98.5.87.182'),\n",
        "    StorageNode(name='D', host='11.225.158.95'),\n",
        "    StorageNode(name='E', host='203.187.116.210'),\n",
        "    StorageNode(name='F', host='107.117.238.203'),\n",
        "    StorageNode(name='G', host='27.161.219.131'),\n",
        "]\n",
        "\n",
        "for node in storage_nodes:\n",
        "    print(f\"node {node.name} has hash {hash_fn(node.host)}\")"
      ]
    },
    {
      "cell_type": "markdown",
      "metadata": {
        "id": "C7Ncc-ygjbnx"
      },
      "source": [
        "We generate movie files and hash them using the same hash function above. The example below generates 15 files."
      ]
    },
    {
      "cell_type": "code",
      "execution_count": 28,
      "metadata": {
        "id": "nU2CWX5efnuF"
      },
      "outputs": [
        {
          "name": "stdout",
          "output_type": "stream",
          "text": [
            "file f0.mov has hash 15\n",
            "file f1.mov has hash 7\n",
            "file f2.mov has hash 6\n",
            "file f3.mov has hash 5\n",
            "file f4.mov has hash 17\n",
            "file f5.mov has hash 30\n",
            "file f6.mov has hash 18\n",
            "file f7.mov has hash 22\n",
            "file f8.mov has hash 24\n",
            "file f9.mov has hash 12\n",
            "file f10.mov has hash 27\n",
            "file f11.mov has hash 7\n",
            "file f12.mov has hash 10\n",
            "file f13.mov has hash 12\n",
            "file f14.mov has hash 5\n"
          ]
        }
      ],
      "source": [
        "# Create a list of movie files to be stores on the nodes\n",
        "numfiles = 15\n",
        "filelist = ['f%d.mov' % x for x in range(0,numfiles)]\n",
        "\n",
        "for file in filelist:\n",
        "    print(f\"file {file} has hash {hash_fn(file)}\")"
      ]
    },
    {
      "cell_type": "markdown",
      "metadata": {
        "id": "llviuq-77XS7"
      },
      "source": [
        "## 1 - Visualize Consistent Hashing [5 points]\n",
        "\n",
        "**Your task:** Given the list of files and nodes above, visualize the Chord ring with keys and nodes mapped."
      ]
    },
    {
      "cell_type": "code",
      "execution_count": 98,
      "metadata": {
        "id": "v7GjaEFSbN7s"
      },
      "outputs": [
        {
          "name": "stdout",
          "output_type": "stream",
          "text": [
            "[1.         0.71428571 0.42857143 0.14285714 0.14285714 0.42857143\n",
            " 0.71428571 1.        ]\n"
          ]
        },
        {
          "data": {
            "image/png": "[encoded data removed]",
            "text/plain": [
              "<Figure size 640x480 with 1 Axes>"
            ]
          },
          "metadata": {},
          "output_type": "display_data"
        }
      ],
      "source": [
        "import numpy as np \n",
        "import matplotlib.pyplot as plt \n",
        "\n",
        "num_nodes = len(storage_nodes)\n",
        "angle = np.linspace(0, 2 * np.pi, num_nodes + 1)\n",
        "rotation_amount = np.abs((np.pi - np.abs((angle - np.pi))) / np.pi - 1)\n",
        "print(rotation_amount)\n",
        "roation_direction = (angle - np.pi < 0) * 2 - 1\n",
        "\n",
        "radius = 5\n",
        "\n",
        "x = radius * np.cos(angle)\n",
        "y = radius * np.sin(angle)\n",
        "\n",
        "figure, axes = plt.subplots(1)\n",
        "axes.set_aspect(1)\n",
        "axes.scatter(x, y, s=100, c=\"green\")\n",
        "\n",
        "for node, xi, yi in zip(storage_nodes, x, y):\n",
        "    axes.annotate(node.name, (xi + 0.25, yi + 0.1))\n",
        "\n",
        "current_num_files = numfiles\n",
        "idx = 0\n",
        "while current_num_files > 0:\n",
        "    radius += 1.25\n",
        "    angle = np.linspace(0, 2 * np.pi, num_nodes + 1)\n",
        "    angle = angle[:num_nodes]\n",
        "    angle = angle[:current_num_files]\n",
        "    x = radius * np.cos(angle)\n",
        "    y = radius * np.sin(angle)\n",
        "    axes.scatter(x, y, s=100, c=\"red\")\n",
        "    for i, (xi, yi) in enumerate(zip(x, y)):\n",
        "        axes.annotate(filelist[idx], (xi + (roation_direction[i] - 1) * 0.0, yi + (roation_direction[i] - 1) * 0.75), rotation=roation_direction[i] * rotation_amount[i] * 30)\n",
        "        idx += 1\n",
        "    current_num_files -= num_nodes\n",
        "\n",
        "axes.set_xlim((-radius - 1, radius + 1))\n",
        "axes.set_ylim((-radius - 1, radius + 1))\n",
        "\n",
        " \n",
        "plt.title(\"Consistent Hashing\")\n",
        "plt.show()"
      ]
    },
    {
      "cell_type": "markdown",
      "metadata": {
        "id": "MB9Und0-_BPu"
      },
      "source": [
        "## 2 - Compute Finger tables in Chord [5 points]\n",
        "\n",
        "Each Chord node needs “routing” information about only a few other nodes. Because the routing table is distributed, a Chord node communicates with other nodes in order to perform a lookup. In the steady state, in an N-node system, each node maintains information about only O(log N ) other nodes, and resolves all lookups via O(log N ) messages to other nodes. \n",
        "\n",
        "**Your task:** Compute a finger table for each node on the Chord ring. The function `compute_finger_tables()` returns a dictionary `{node.name : [finger table entries]}`."
      ]
    },
    {
      "cell_type": "code",
      "execution_count": null,
      "metadata": {
        "id": "MjvC_hOkkEqf"
      },
      "outputs": [],
      "source": [
        "def compute_finger_tables(nodes):\n",
        "    finger_tables = {}\n",
        "    ### START CODE HERE ###\n",
        "    None\n",
        "    ### END CODE HERE ###\n",
        "    return finger_tables\n",
        "\n",
        "ftabs = compute_finger_tables(storage_nodes);\n",
        "print(ftabs[storage_nodes[0].name])"
      ]
    },
    {
      "cell_type": "markdown",
      "metadata": {
        "id": "HPyhwbAT_BCM"
      },
      "source": [
        "## 3 - Find a key [5 points]\n",
        "\n",
        "**Your task:** Provided an initial node and a key on the ring, print the nodes on the route from the initial node to the node that stores the key. Include the initial node and the destination node in the routing path. Use the finger tables computed above."
      ]
    },
    {
      "cell_type": "code",
      "execution_count": null,
      "metadata": {
        "id": "fftZV4Qmsrvq"
      },
      "outputs": [],
      "source": [
        "def route_to_key(init_node : str, key : int):\n",
        "    node_list = []\n",
        "    ### START CODE HERE ###\n",
        "    None\n",
        "    ### END CODE HERE ###\n",
        "    return node_list\n",
        "\n",
        "print(route_to_key(storage_nodes[0].name, filelist[0]))"
      ]
    },
    {
      "cell_type": "markdown",
      "metadata": {
        "id": "Q43SHMhi2DuL"
      },
      "source": [
        "## 4 - Equal load on every node [5 points]\n",
        "\n",
        "**Your task:** Generate 1000 key to store in the constructred system (similar to above) and measure the empirical load on every node (=show a bar plot). To improve the load distribution on all nodes, introduce additional hash functions (see [hashlib](https://docs.python.org/3/library/hashlib.html)) and hash the same node to multiple locations on the ring (also see the lecture). Re-run the test and plot the change to the distribution (show the result for using 1, 2 and 3 hash functions)."
      ]
    },
    {
      "cell_type": "code",
      "execution_count": null,
      "metadata": {
        "id": "G8XqAky2tcww"
      },
      "outputs": [],
      "source": [
        "### START CODE HERE ###\n",
        "None \n",
        "### END CODE HERE ###"
      ]
    },
    {
      "cell_type": "markdown",
      "metadata": {
        "id": "5AXgCZ6pzoO4"
      },
      "source": [
        "## 5 - How to Submit Your Solution?\n",
        "\n",
        "Download your notebook (File --> Download --> Download .ipynb) and send per email to [saukh@tugraz.at](mailto:saukh@tugraz.at)."
      ]
    },
    {
      "cell_type": "code",
      "execution_count": null,
      "metadata": {
        "id": "hlA86iBu-9RG"
      },
      "outputs": [],
      "source": []
    }
  ],
  "metadata": {
    "colab": {
      "provenance": [],
      "toc_visible": true
    },
    "kernelspec": {
      "display_name": "Python 3",
      "language": "python",
      "name": "python3"
    },
    "language_info": {
      "codemirror_mode": {
        "name": "ipython",
        "version": 3
      },
      "file_extension": ".py",
      "mimetype": "text/x-python",
      "name": "python",
      "nbconvert_exporter": "python",
      "pygments_lexer": "ipython3",
      "version": "3.10.6"
    },
    "vscode": {
      "interpreter": {
        "hash": "916dbcbb3f70747c44a77c7bcd40155683ae19c65e1c03b4aa3499c5328201f1"
      }
    }
  },
  "nbformat": 4,
  "nbformat_minor": 0
}
