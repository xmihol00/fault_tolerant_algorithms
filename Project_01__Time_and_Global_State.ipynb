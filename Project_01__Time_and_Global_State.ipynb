{
  "cells": [
    {
      "cell_type": "markdown",
      "metadata": {
        "id": "hIG3sDBFyebw"
      },
      "source": [
        "# Project 1 -- Time and Global State\n",
        "\n",
        "## Instructions\n",
        "\n",
        "Please read carefully:\n",
        "\n",
        "* Solve the project yourself. No teamwork.\n",
        "* If you have questions, please post these in the public channel on Slack. The answers may be relevant to others as well. \n",
        "* Feel free to import and use any additional Python packages you need.\n",
        "* Keep in mind that the correctness of your solution will also be verified on a *different input file*. This means that you are asked to provide an algorithm, not to hardcode the answer. If your solution for a task works only on the provided input (i.e., `sampledb.log` file), but does not work on the held back input, you will get only 50% of the points for that task.\n",
        "* You are allowed to solve the project using a different programming language. In this case, please send me your full code and instructions how to run it.\n",
        "* Make sure to fill in your `student_name` in the following block below."
      ]
    },
    {
      "cell_type": "code",
      "execution_count": 66,
      "metadata": {
        "id": "NRQm4C5L0AsG"
      },
      "outputs": [],
      "source": [
        "student_name = 'David Mihola' # fill with your student name\n",
        "assert student_name != 'your_student_name', 'Please fill in your student_name before you start.'\n",
        "mattrikel_nummer = 12211951"
      ]
    },
    {
      "cell_type": "markdown",
      "metadata": {
        "id": "2aL0oIQ0z-9F"
      },
      "source": [
        "## Setup\n",
        "\n",
        "In this mini-project, you will use your knowledge of logical clocks to analyse a sample distributed system execution. You are given a sample log file `sampledb.log` containing an event log of five communicating processes: Alice, Bob, Carol, Dave and Eve. The log file format is as follows:\n",
        "```\n",
        "(<event name>)\\n(<host>) (<local_clock>)\n",
        "```\n",
        "The code below installs the utility `gdown` and downloads `sampledb.log`."
      ]
    },
    {
      "cell_type": "code",
      "execution_count": 67,
      "metadata": {
        "id": "WFgW2nEdyX7r"
      },
      "outputs": [
        {
          "name": "stdout",
          "output_type": "stream",
          "text": [
            "Defaulting to user installation because normal site-packages is not writeable\n",
            "Requirement already satisfied: gdown in /mnt/sdc3/david/.local/lib/python3.10/site-packages (4.5.3)\n",
            "Requirement already satisfied: filelock in /mnt/sdc3/david/.local/lib/python3.10/site-packages (from gdown) (3.8.0)\n",
            "Requirement already satisfied: requests[socks] in /usr/lib/python3/dist-packages (from gdown) (2.25.1)\n",
            "Requirement already satisfied: beautifulsoup4 in /mnt/sdc3/david/.local/lib/python3.10/site-packages (from gdown) (4.11.1)\n",
            "Requirement already satisfied: six in /mnt/sdc3/david/.local/lib/python3.10/site-packages (from gdown) (1.16.0)\n",
            "Requirement already satisfied: tqdm in /mnt/sdc3/david/.local/lib/python3.10/site-packages (from gdown) (4.64.1)\n",
            "Requirement already satisfied: soupsieve>1.2 in /mnt/sdc3/david/.local/lib/python3.10/site-packages (from beautifulsoup4->gdown) (2.3.2.post1)\n",
            "Requirement already satisfied: PySocks!=1.5.7,>=1.5.6 in /mnt/sdc3/david/.local/lib/python3.10/site-packages (from requests[socks]->gdown) (1.7.1)\n",
            "Downloading...\n",
            "From: https://drive.google.com/uc?id=1s7BALY1RQyHjk06Okul7_lwUpoizZVNZ\n",
            "To: /mnt/sdc3/david/projs/fault_tolerant_systems/sampledb.log\n",
            "100%|██████████████████████████████████████| 3.09k/3.09k [00:00<00:00, 21.5MB/s]\n"
          ]
        }
      ],
      "source": [
        "# DO NOT CHANGE THESE LINES\n",
        "!pip install gdown\n",
        "!gdown https://drive.google.com/file/d/1s7BALY1RQyHjk06Okul7_lwUpoizZVNZ/view?usp=sharing --fuzzy"
      ]
    },
    {
      "cell_type": "markdown",
      "metadata": {
        "id": "KCzktHUUM3oD"
      },
      "source": [
        "To inspect the `sampledb.log` file click on the folder icon in your Google Colab called `Files` on the left. \n",
        "\n",
        "Examples of events in the log file:\n",
        "* Event `Making progress` finished on the host `Bob` at its local time 2.\n",
        "```\n",
        "Making progress \n",
        "Bob {\"Bob\":2}\n",
        "```\n",
        "* Event `Receive event` is a message receive event at the host `Alice` at its local clock time 3. The message comes from host `Bob` sent at its local time 2.\n",
        "```\n",
        "Receive event\n",
        "Alice {\"Alice\":3, \"Bob\":2}\n",
        "```\n",
        "* Event `Checkpoint` takes place on the host `Carol` at its local time 12.\n",
        "```\n",
        "Checkpoint\n",
        "Carol {\"Carol\":12}\n",
        "```\n",
        "\n",
        "The code below will help you to correctly parse the input file."
      ]
    },
    {
      "cell_type": "code",
      "execution_count": 68,
      "metadata": {
        "id": "80QhwUJjBA06"
      },
      "outputs": [
        {
          "name": "stdout",
          "output_type": "stream",
          "text": [
            "Events: [{'event': 'Init event', 'host': 'Alice', 'clock': {'Alice': 1}}, {'event': 'Init event', 'host': 'Bob', 'clock': {'Bob': 1}}, {'event': 'Send event', 'host': 'Alice', 'clock': {'Alice': 2}}, {'event': 'Making progress', 'host': 'Bob', 'clock': {'Bob': 2}}, {'event': 'Receive event', 'host': 'Bob', 'clock': {'Bob': 3, 'Alice': 2}}, {'event': 'Computing', 'host': 'Alice', 'clock': {'Alice': 3}}, {'event': 'Checkpoint', 'host': 'Alice', 'clock': {'Alice': 4}}, {'event': 'Making progress', 'host': 'Bob', 'clock': {'Bob': 4}}, {'event': 'Init event', 'host': 'Carol', 'clock': {'Carol': 1}}, {'event': 'Init event', 'host': 'Dave', 'clock': {'Dave': 1}}, {'event': 'Init event', 'host': 'Eve', 'clock': {'Eve': 1}}, {'event': 'Send event', 'host': 'Carol', 'clock': {'Carol': 2}}, {'event': 'Checkpoint', 'host': 'Carol', 'clock': {'Carol': 3}}, {'event': 'Send event', 'host': 'Carol', 'clock': {'Carol': 4}}, {'event': 'Send event', 'host': 'Bob', 'clock': {'Bob': 5}}, {'event': 'Receive event', 'host': 'Dave', 'clock': {'Dave': 2, 'Carol': 2}}, {'event': 'Checkpoint', 'host': 'Dave', 'clock': {'Dave': 3}}, {'event': 'Send event', 'host': 'Eve', 'clock': {'Eve': 2}}, {'event': 'Checkpoint', 'host': 'Eve', 'clock': {'Eve': 3}}, {'event': 'Receive event', 'host': 'Bob', 'clock': {'Bob': 6, 'Carol': 4}}, {'event': 'Checkpoint', 'host': 'Carol', 'clock': {'Carol': 5}}, {'event': 'Receive event', 'host': 'Eve', 'clock': {'Eve': 4, 'Carol': 2}}, {'event': 'Receive event', 'host': 'Dave', 'clock': {'Dave': 4, 'Eve': 2}}, {'event': 'Checkpoint', 'host': 'Dave', 'clock': {'Dave': 5}}, {'event': 'Receive event', 'host': 'Carol', 'clock': {'Carol': 6, 'Bob': 5}}, {'event': 'Making progress', 'host': 'Carol', 'clock': {'Carol': 7}}, {'event': 'Send event', 'host': 'Alice', 'clock': {'Alice': 5}}, {'event': 'Receive event', 'host': 'Alice', 'clock': {'Alice': 6, 'Carol': 4}}, {'event': 'Receive event', 'host': 'Bob', 'clock': {'Bob': 7, 'Alice': 5}}, {'event': 'Checkpoint', 'host': 'Bob', 'clock': {'Bob': 8}}, {'event': 'Send event', 'host': 'Alice', 'clock': {'Alice': 7}}, {'event': 'Making progress', 'host': 'Alice', 'clock': {'Alice': 8}}, {'event': 'Checkpoint', 'host': 'Alice', 'clock': {'Alice': 9}}, {'event': 'Computing', 'host': 'Eve', 'clock': {'Eve': 5}}, {'event': 'Processing results', 'host': 'Eve', 'clock': {'Eve': 6}}, {'event': 'Checkpoint', 'host': 'Carol', 'clock': {'Carol': 8}}, {'event': 'Send event', 'host': 'Dave', 'clock': {'Dave': 6}}, {'event': 'Receive event', 'host': 'Eve', 'clock': {'Eve': 7, 'Dave': 6}}, {'event': 'Making progress', 'host': 'Eve', 'clock': {'Eve': 8}}, {'event': 'Checkpoint', 'host': 'Eve', 'clock': {'Eve': 9}}, {'event': 'Receive event', 'host': 'Dave', 'clock': {'Dave': 7, 'Alice': 5}}, {'event': 'Receive event', 'host': 'Carol', 'clock': {'Carol': 9, 'Dave': 6}}, {'event': 'Receive event', 'host': 'Carol', 'clock': {'Carol': 10, 'Alice': 7}}, {'event': 'Send event', 'host': 'Carol', 'clock': {'Carol': 11}}, {'event': 'Receive event', 'host': 'Bob', 'clock': {'Bob': 9, 'Alice': 7}}, {'event': 'Checkpoint', 'host': 'Bob', 'clock': {'Bob': 10}}, {'event': 'Making progress', 'host': 'Carol', 'clock': {'Carol': 12}}, {'event': 'Receive event', 'host': 'Dave', 'clock': {'Dave': 8, 'Carol': 11}}, {'event': 'Checkpoint', 'host': 'Dave', 'clock': {'Dave': 9}}, {'event': 'Receive event', 'host': 'Dave', 'clock': {'Dave': 10, 'Alice': 7}}, {'event': 'Checkpoint', 'host': 'Dave', 'clock': {'Dave': 11}}, {'event': 'Send event', 'host': 'Bob', 'clock': {'Bob': 11}}, {'event': 'Receive event', 'host': 'Alice', 'clock': {'Alice': 10, 'Bob': 11}}, {'event': 'Receive event', 'host': 'Eve', 'clock': {'Eve': 10, 'Alice': 7}}, {'event': 'Receive event', 'host': 'Carol', 'clock': {'Carol': 13, 'Bob': 11}}, {'event': 'Checkpoint', 'host': 'Eve', 'clock': {'Eve': 11}}, {'event': 'Send event', 'host': 'Dave', 'clock': {'Dave': 12}}, {'event': 'Making progress', 'host': 'Dave', 'clock': {'Dave': 13}}, {'event': 'Checkpoint', 'host': 'Carol', 'clock': {'Carol': 14}}, {'event': 'Receive event', 'host': 'Bob', 'clock': {'Bob': 12, 'Carol': 11}}, {'event': 'Checkpoint', 'host': 'Bob', 'clock': {'Bob': 13}}, {'event': 'Send event', 'host': 'Bob', 'clock': {'Bob': 14}}, {'event': 'Checkpoint', 'host': 'Dave', 'clock': {'Dave': 14}}, {'event': 'Send event', 'host': 'Dave', 'clock': {'Dave': 15}}, {'event': 'Computing', 'host': 'Alice', 'clock': {'Alice': 11}}, {'event': 'Receive event', 'host': 'Alice', 'clock': {'Alice': 12, 'Bob': 14}}, {'event': 'Checkpoint', 'host': 'Alice', 'clock': {'Alice': 13}}, {'event': 'Computing', 'host': 'Bob', 'clock': {'Bob': 15}}, {'event': 'Receive event', 'host': 'Alice', 'clock': {'Alice': 14, 'Dave': 6}}, {'event': 'Processing results', 'host': 'Bob', 'clock': {'Bob': 16}}, {'event': 'Receive event', 'host': 'Carol', 'clock': {'Carol': 15, 'Dave': 12}}, {'event': 'Receive event', 'host': 'Dave', 'clock': {'Dave': 16, 'Bob': 5}}, {'event': 'Receive event', 'host': 'Eve', 'clock': {'Eve': 12, 'Bob': 17}}, {'event': 'Checkpoint', 'host': 'Eve', 'clock': {'Eve': 13}}, {'event': 'Receive event', 'host': 'Bob', 'clock': {'Bob': 17, 'Dave': 12}}, {'event': 'Checkpoint', 'host': 'Bob', 'clock': {'Bob': 18}}, {'event': 'Send event', 'host': 'Bob', 'clock': {'Bob': 19}}, {'event': 'Receive event', 'host': 'Eve', 'clock': {'Eve': 14, 'Dave': 15}}, {'event': 'Computing', 'host': 'Eve', 'clock': {'Eve': 15}}, {'event': 'Processing results', 'host': 'Eve', 'clock': {'Eve': 16}}, {'event': 'Receive event', 'host': 'Carol', 'clock': {'Carol': 16, 'Dave': 15}}, {'event': 'Checkpoint', 'host': 'Carol', 'clock': {'Carol': 17}}, {'event': 'Receive event', 'host': 'Carol', 'clock': {'Carol': 18, 'Bob': 14}}, {'event': 'Checkpoint', 'host': 'Carol', 'clock': {'Carol': 19}}, {'event': 'Send event', 'host': 'Bob', 'clock': {'Bob': 20}}, {'event': 'Checkpoint', 'host': 'Bob', 'clock': {'Bob': 21}}, {'event': 'Send event', 'host': 'Bob', 'clock': {'Bob': 22}}, {'event': 'Receive event', 'host': 'Alice', 'clock': {'Alice': 15, 'Bob': 19}}, {'event': 'Making progress', 'host': 'Alice', 'clock': {'Alice': 16}}, {'event': 'Making progress', 'host': 'Dave', 'clock': {'Dave': 17}}, {'event': 'Receive event', 'host': 'Dave', 'clock': {'Dave': 18, 'Bob': 22}}, {'event': 'Receive event', 'host': 'Eve', 'clock': {'Eve': 17, 'Bob': 20}}, {'event': 'Receive event', 'host': 'Alice', 'clock': {'Alice': 17, 'Bob': 22}}, {'event': 'Receive event', 'host': 'Carol', 'clock': {'Carol': 20, 'Bob': 22}}]\n",
            "Total number of events: 94\n"
          ]
        }
      ],
      "source": [
        "# DO NOT CHANGE THESE LINES\n",
        "import re\n",
        "import ast\n",
        "\n",
        "regex = '(.*)\\n(\\S*) ({.*})'\n",
        "events = []\n",
        "\n",
        "with open(f'sampledb.log') as f:\n",
        "    events = [{'event': event, 'host': host, 'clock': ast.literal_eval(clock)}\n",
        "               for event, host, clock in re.findall(regex, f.read())]\n",
        "print('Events:', events)\n",
        "print('Total number of events:', len(events))"
      ]
    },
    {
      "cell_type": "code",
      "execution_count": 84,
      "metadata": {},
      "outputs": [
        {
          "name": "stdout",
          "output_type": "stream",
          "text": [
            "Defaulting to user installation because normal site-packages is not writeable\n",
            "Requirement already satisfied: py-linq in /mnt/sdc3/david/.local/lib/python3.10/site-packages (1.3.0)\n",
            "Requirement already satisfied: future<0.19.0,>=0.18.2 in /mnt/sdc3/david/.local/lib/python3.10/site-packages (from py-linq) (0.18.2)\n"
          ]
        },
        {
          "ename": "TypeError",
          "evalue": "'dict_values' object is not subscriptable",
          "output_type": "error",
          "traceback": [
            "\u001b[0;31m---------------------------------------------------------------------------\u001b[0m",
            "\u001b[0;31mTypeError\u001b[0m                                 Traceback (most recent call last)",
            "\u001b[1;32m/mnt/sdc3/david/projs/fault_tolerant_systems/Project_01__Time_and_Global_State.ipynb Cell 7\u001b[0m in \u001b[0;36m<cell line: 39>\u001b[0;34m()\u001b[0m\n\u001b[1;32m     <a href='vscode-notebook-cell:/mnt/sdc3/david/projs/fault_tolerant_systems/Project_01__Time_and_Global_State.ipynb#W6sZmlsZQ%3D%3D?line=35'>36</a>\u001b[0m         \u001b[39mfor\u001b[39;00m moved \u001b[39min\u001b[39;00m Enumerable(timeline)\u001b[39m.\u001b[39mwhere(\u001b[39mlambda\u001b[39;00m x: \u001b[39mlen\u001b[39m(x[\u001b[39m1\u001b[39m]) \u001b[39m>\u001b[39m \u001b[39m1\u001b[39m \u001b[39mand\u001b[39;00m x[\u001b[39m1\u001b[39m][\u001b[39m1\u001b[39m][\u001b[39m0\u001b[39m] \u001b[39m==\u001b[39m missplaced_name \u001b[39mand\u001b[39;00m x[\u001b[39m1\u001b[39m][\u001b[39m1\u001b[39m][\u001b[39m1\u001b[39m] \u001b[39m>\u001b[39m index):\n\u001b[1;32m     <a href='vscode-notebook-cell:/mnt/sdc3/david/projs/fault_tolerant_systems/Project_01__Time_and_Global_State.ipynb#W6sZmlsZQ%3D%3D?line=36'>37</a>\u001b[0m             moved[\u001b[39m1\u001b[39m][\u001b[39m1\u001b[39m] \u001b[39m=\u001b[39m (missplaced_name, moved[\u001b[39m1\u001b[39m][\u001b[39m1\u001b[39m][\u001b[39m1\u001b[39m] \u001b[39m+\u001b[39m noops)\n\u001b[0;32m---> <a href='vscode-notebook-cell:/mnt/sdc3/david/projs/fault_tolerant_systems/Project_01__Time_and_Global_State.ipynb#W6sZmlsZQ%3D%3D?line=38'>39</a>\u001b[0m events_by_names_ordered_dict\u001b[39m.\u001b[39;49mvalues()[\u001b[39m0\u001b[39;49m]\n",
            "\u001b[0;31mTypeError\u001b[0m: 'dict_values' object is not subscriptable"
          ]
        }
      ],
      "source": [
        "# pre process data into better format\n",
        "!pip install py-linq\n",
        "from py_linq import Enumerable\n",
        "events_grouped = Enumerable(events).group_by([\"name\"], lambda x: x[\"host\"]) # group the events by each person\n",
        "names_enumerable = events_grouped.select(lambda x: x.key.name) # get the names of each person\n",
        "names = names_enumerable.to_list()\n",
        "\n",
        "events_by_names = (events_grouped.select(lambda x: (x.key.name, x.select(lambda y: (y[\"event\"], list(y[\"clock\"].items())))))\n",
        "                                 .to_list())\n",
        "events_by_names_ordered_dict = dict(tuple(events_grouped.select(lambda x: [x.key.name, x.select(lambda y: [y[\"event\"], list(y[\"clock\"].items())])\n",
        "                                                                                        .order_by(lambda y: y[1][0][1])     # events seem to be order, but might not be always the case, order them to be sure\n",
        "                                                                                        .to_list()])\n",
        "                                                        .to_list()))\n",
        "#print(events_by_names_ordered_dict)\n",
        "\n",
        "while True:\n",
        "    missplaced_recieve_event = (Enumerable(events_by_names_ordered_dict.values()).where(lambda x: x[0] == \"Receive event\" and x[1][0][1] <= x[1][1][1])\n",
        "                                                                                 .select(lambda x: x[1])\n",
        "                                                                                 .order_by(lambda x: x[1][1])\n",
        "                                                                                 .first_or_default())\n",
        "    if missplaced_recieve_event == None:\n",
        "        break\n",
        "    \n",
        "    missplaced_name = missplaced_recieve_event[0][0]\n",
        "    index = missplaced_recieve_event[0][1] - 1\n",
        "    noops = missplaced_recieve_event[1][1] - missplaced_recieve_event[0][1] + 1\n",
        "    timeline = events_by_names_ordered_dict[missplaced_name]\n",
        "    for i in range(noops):\n",
        "        timeline.insert(index, [\"Noop\", [(missplaced_name, index + noops - i)]])\n",
        "    \n",
        "    for event in timeline[index + noops:]:\n",
        "        event[1][0] = (event[1][0][0], event[1][0][1] + noops)\n",
        "\n",
        "    for name in names_enumerable.where(lambda x: x != missplaced_name):\n",
        "        timeline = events_by_names_ordered_dict[name]\n",
        "        for moved in Enumerable(timeline).where(lambda x: len(x[1]) > 1 and x[1][1][0] == missplaced_name and x[1][1][1] > index):\n",
        "            moved[1][1] = (missplaced_name, moved[1][1][1] + noops)\n",
        "\n",
        "#events_by_names_ordered_dict.values()\n",
        "#length = Enumerable(events_by_names_ordered_dict.values()).max(lambda x: print(len(x)))\n",
        "#length"
      ]
    },
    {
      "cell_type": "markdown",
      "metadata": {
        "id": "-kfZ2QiXKPhu"
      },
      "source": [
        "## 1 - Visualize Execution [5+ points]\n",
        "\n",
        "**Your task:** Visualize the execution (similarly to the visualizations in the lecture). The author of the best visualization gets 3 points on top!"
      ]
    },
    {
      "cell_type": "code",
      "execution_count": 75,
      "metadata": {
        "id": "XpFTw8EDJ9Wl"
      },
      "outputs": [],
      "source": [
        "### START CODE HERE ###\n",
        "None\n",
        "### END CODE HERE ###"
      ]
    },
    {
      "cell_type": "markdown",
      "metadata": {
        "id": "fbXvxZ2AJ984"
      },
      "source": [
        "## 2 - Count Concurrent Events [5 points]\n",
        "\n",
        "**Your task**: Count the *total number of unique* concurrent event pairs in the log file."
      ]
    },
    {
      "cell_type": "code",
      "execution_count": 76,
      "metadata": {
        "id": "fhc9XKyU41YB"
      },
      "outputs": [
        {
          "name": "stdout",
          "output_type": "stream",
          "text": [
            "Number of concurrent event pairs: None\n"
          ]
        }
      ],
      "source": [
        "def count_concurrent_events(events):\n",
        "  ### START CODE HERE ###\n",
        "  None\n",
        "  ### END CODE HERE ###\n",
        "\n",
        "print('Number of concurrent event pairs:', count_concurrent_events(events))"
      ]
    },
    {
      "cell_type": "markdown",
      "metadata": {
        "id": "1GoQ-dbnPGdk"
      },
      "source": [
        "## 3 - Assign Vector Clocks [4 points]\n",
        "\n",
        "**Your task:** Assign vector timestamps to each event. Annotate the event captions with the corresponting vector timestamp. E.g., \n",
        "```\n",
        "`Dummy event` --> `Dummy event [0,12,2,4,0]`.\n",
        "```\n"
      ]
    },
    {
      "cell_type": "code",
      "execution_count": 77,
      "metadata": {
        "id": "VcK9zClDNWYL"
      },
      "outputs": [
        {
          "name": "stdout",
          "output_type": "stream",
          "text": [
            "None\n"
          ]
        }
      ],
      "source": [
        "def assign_vector_timestamps(events):\n",
        "  ### START CODE HERE ###\n",
        "  None\n",
        "  ### END CODE HERE ###\n",
        "\n",
        "print(assign_vector_timestamps(events))"
      ]
    },
    {
      "cell_type": "markdown",
      "metadata": {
        "id": "hC1QuYiHzJpt"
      },
      "source": [
        "## 4 - Rollback Recovery [6 points]\n",
        "All events annotated with the `Checkpoint` in the title are checkpointing events. According to the provided log file `sampledb.log`, the hosts Alice, Bob, Carol, Dave and Eve are at their logical time 17, 22, 20, 18 and 17 respectively. Once of a sudden, Bob fails and has to rollback at least to its latest checkpoint.\n",
        "\n",
        "**Your task:** Write an algorithm to calculate the correct recovery line given one or multiple host failures."
      ]
    },
    {
      "cell_type": "code",
      "execution_count": 78,
      "metadata": {
        "id": "DIZcUW3EyykH"
      },
      "outputs": [
        {
          "name": "stdout",
          "output_type": "stream",
          "text": [
            "Computed recovery line:  None\n"
          ]
        }
      ],
      "source": [
        "def recovery_line(events, failed_processes):\n",
        "  ### START CODE HERE ###\n",
        "  None\n",
        "  ### END CODE HERE ###\n",
        "\n",
        "print(\"Computed recovery line: \", recovery_line(events, [\"Bob\"]))"
      ]
    },
    {
      "cell_type": "markdown",
      "metadata": {
        "id": "5AXgCZ6pzoO4"
      },
      "source": [
        "## 5 - How to Submit Your Solution?\n",
        "Download your notebook (File --> Download --> Download .ipynb) and send per email to [saukh@tugraz.at](mailto:saukh@tugraz.at)."
      ]
    },
    {
      "cell_type": "code",
      "execution_count": null,
      "metadata": {
        "id": "i8D4VSnBT5Iz"
      },
      "outputs": [],
      "source": []
    }
  ],
  "metadata": {
    "colab": {
      "collapsed_sections": [],
      "provenance": [],
      "toc_visible": true
    },
    "kernelspec": {
      "display_name": "Python 3.10.6 64-bit",
      "language": "python",
      "name": "python3"
    },
    "language_info": {
      "codemirror_mode": {
        "name": "ipython",
        "version": 3
      },
      "file_extension": ".py",
      "mimetype": "text/x-python",
      "name": "python",
      "nbconvert_exporter": "python",
      "pygments_lexer": "ipython3",
      "version": "3.10.6"
    },
    "vscode": {
      "interpreter": {
        "hash": "916dbcbb3f70747c44a77c7bcd40155683ae19c65e1c03b4aa3499c5328201f1"
      }
    }
  },
  "nbformat": 4,
  "nbformat_minor": 0
}
