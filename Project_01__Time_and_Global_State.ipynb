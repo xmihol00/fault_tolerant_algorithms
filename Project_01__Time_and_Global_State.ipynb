{
 "cells": [
  {
   "cell_type": "markdown",
   "metadata": {
    "id": "hIG3sDBFyebw"
   },
   "source": [
    "# Project 1 -- Time and Global State\n",
    "\n",
    "## Instructions\n",
    "\n",
    "Please read carefully:\n",
    "\n",
    "* Solve the project yourself. No teamwork.\n",
    "* If you have questions, please post these in the public channel on Slack. The answers may be relevant to others as well. \n",
    "* Feel free to import and use any additional Python packages you need.\n",
    "* Keep in mind that the correctness of your solution will also be verified on a *different input file*. This means that you are asked to provide an algorithm, not to hardcode the answer. If your solution for a task works only on the provided input (i.e., `sampledb.log` file), but does not work on the held back input, you will get only 50% of the points for that task.\n",
    "* You are allowed to solve the project using a different programming language. In this case, please send me your full code and instructions how to run it.\n",
    "* Make sure to fill in your `student_name` in the following block below."
   ]
  },
  {
   "cell_type": "code",
   "execution_count": 9,
   "metadata": {
    "id": "NRQm4C5L0AsG"
   },
   "outputs": [],
   "source": [
    "student_name = 'David Mihola' # fill with your student name\n",
    "assert student_name != 'your_student_name', 'Please fill in your student_name before you start.'\n",
    "mattrikel_nummer = 12211951"
   ]
  },
  {
   "cell_type": "markdown",
   "metadata": {
    "id": "2aL0oIQ0z-9F"
   },
   "source": [
    "## Setup\n",
    "\n",
    "In this mini-project, you will use your knowledge of logical clocks to analyse a sample distributed system execution. You are given a sample log file `sampledb.log` containing an event log of five communicating processes: Alice, Bob, Carol, Dave and Eve. The log file format is as follows:\n",
    "```\n",
    "(<event name>)\\n(<host>) (<local_clock>)\n",
    "```\n",
    "The code below installs the utility `gdown` and downloads `sampledb.log`."
   ]
  },
  {
   "cell_type": "code",
   "execution_count": 10,
   "metadata": {
    "id": "WFgW2nEdyX7r"
   },
   "outputs": [
    {
     "name": "stdout",
     "output_type": "stream",
     "text": [
      "Defaulting to user installation because normal site-packages is not writeable\n",
      "Requirement already satisfied: gdown in /mnt/sdc3/david/.local/lib/python3.10/site-packages (4.5.3)\n",
      "Requirement already satisfied: six in /mnt/sdc3/david/.local/lib/python3.10/site-packages (from gdown) (1.16.0)\n",
      "Requirement already satisfied: beautifulsoup4 in /mnt/sdc3/david/.local/lib/python3.10/site-packages (from gdown) (4.11.1)\n",
      "Requirement already satisfied: requests[socks] in /usr/lib/python3/dist-packages (from gdown) (2.25.1)\n",
      "Requirement already satisfied: tqdm in /mnt/sdc3/david/.local/lib/python3.10/site-packages (from gdown) (4.64.1)\n",
      "Requirement already satisfied: filelock in /mnt/sdc3/david/.local/lib/python3.10/site-packages (from gdown) (3.8.0)\n",
      "Requirement already satisfied: soupsieve>1.2 in /mnt/sdc3/david/.local/lib/python3.10/site-packages (from beautifulsoup4->gdown) (2.3.2.post1)\n",
      "Requirement already satisfied: PySocks!=1.5.7,>=1.5.6 in /mnt/sdc3/david/.local/lib/python3.10/site-packages (from requests[socks]->gdown) (1.7.1)\n",
      "Downloading...\n",
      "From: https://drive.google.com/uc?id=1s7BALY1RQyHjk06Okul7_lwUpoizZVNZ\n",
      "To: /mnt/sdc3/david/projs/fault_tolerant_systems/sampledb.log\n",
      "100%|██████████████████████████████████████| 3.09k/3.09k [00:00<00:00, 20.0MB/s]\n"
     ]
    }
   ],
   "source": [
    "# DO NOT CHANGE THESE LINES\n",
    "!pip install gdown\n",
    "!gdown https://drive.google.com/file/d/1s7BALY1RQyHjk06Okul7_lwUpoizZVNZ/view?usp=sharing --fuzzy\n",
    "\n",
    "RECEIVE_EVENT = \"Receive event\"\n",
    "SEND_EVENT = \"Send event\"\n",
    "CHECKPOINT = \"Checkpoint\"\n",
    "INIT_EVENT = \"Init event\"\n",
    "MAKING_PROGRESS = \"Making progress\"\n",
    "COMPUTING = \"Computing\"\n",
    "NOP = \"Nop\""
   ]
  },
  {
   "cell_type": "markdown",
   "metadata": {
    "id": "KCzktHUUM3oD"
   },
   "source": [
    "To inspect the `sampledb.log` file click on the folder icon in your Google Colab called `Files` on the left. \n",
    "\n",
    "Examples of events in the log file:\n",
    "* Event `Making progress` finished on the host `Bob` at its local time 2.\n",
    "```\n",
    "Making progress \n",
    "Bob {\"Bob\":2}\n",
    "```\n",
    "* Event `Receive event` is a message receive event at the host `Alice` at its local clock time 3. The message comes from host `Bob` sent at its local time 2.\n",
    "```\n",
    "Receive event\n",
    "Alice {\"Alice\":3, \"Bob\":2}\n",
    "```\n",
    "* Event `Checkpoint` takes place on the host `Carol` at its local time 12.\n",
    "```\n",
    "Checkpoint\n",
    "Carol {\"Carol\":12}\n",
    "```\n",
    "\n",
    "The code below will help you to correctly parse the input file."
   ]
  },
  {
   "cell_type": "code",
   "execution_count": 11,
   "metadata": {
    "id": "80QhwUJjBA06"
   },
   "outputs": [
    {
     "name": "stdout",
     "output_type": "stream",
     "text": [
      "Events: [{'event': 'Init event', 'host': 'Alice', 'clock': {'Alice': 1}}, {'event': 'Init event', 'host': 'Bob', 'clock': {'Bob': 1}}, {'event': 'Send event', 'host': 'Alice', 'clock': {'Alice': 2}}, {'event': 'Making progress', 'host': 'Bob', 'clock': {'Bob': 2}}, {'event': 'Receive event', 'host': 'Bob', 'clock': {'Bob': 3, 'Alice': 2}}, {'event': 'Computing', 'host': 'Alice', 'clock': {'Alice': 3}}, {'event': 'Checkpoint', 'host': 'Alice', 'clock': {'Alice': 4}}, {'event': 'Making progress', 'host': 'Bob', 'clock': {'Bob': 4}}, {'event': 'Init event', 'host': 'Carol', 'clock': {'Carol': 1}}, {'event': 'Init event', 'host': 'Dave', 'clock': {'Dave': 1}}, {'event': 'Init event', 'host': 'Eve', 'clock': {'Eve': 1}}, {'event': 'Send event', 'host': 'Carol', 'clock': {'Carol': 2}}, {'event': 'Checkpoint', 'host': 'Carol', 'clock': {'Carol': 3}}, {'event': 'Send event', 'host': 'Carol', 'clock': {'Carol': 4}}, {'event': 'Send event', 'host': 'Bob', 'clock': {'Bob': 5}}, {'event': 'Receive event', 'host': 'Dave', 'clock': {'Dave': 2, 'Carol': 2}}, {'event': 'Checkpoint', 'host': 'Dave', 'clock': {'Dave': 3}}, {'event': 'Send event', 'host': 'Eve', 'clock': {'Eve': 2}}, {'event': 'Checkpoint', 'host': 'Eve', 'clock': {'Eve': 3}}, {'event': 'Receive event', 'host': 'Bob', 'clock': {'Bob': 6, 'Carol': 4}}, {'event': 'Checkpoint', 'host': 'Carol', 'clock': {'Carol': 5}}, {'event': 'Receive event', 'host': 'Eve', 'clock': {'Eve': 4, 'Carol': 2}}, {'event': 'Receive event', 'host': 'Dave', 'clock': {'Dave': 4, 'Eve': 2}}, {'event': 'Checkpoint', 'host': 'Dave', 'clock': {'Dave': 5}}, {'event': 'Receive event', 'host': 'Carol', 'clock': {'Carol': 6, 'Bob': 5}}, {'event': 'Making progress', 'host': 'Carol', 'clock': {'Carol': 7}}, {'event': 'Send event', 'host': 'Alice', 'clock': {'Alice': 5}}, {'event': 'Receive event', 'host': 'Alice', 'clock': {'Alice': 6, 'Carol': 4}}, {'event': 'Receive event', 'host': 'Bob', 'clock': {'Bob': 7, 'Alice': 5}}, {'event': 'Checkpoint', 'host': 'Bob', 'clock': {'Bob': 8}}, {'event': 'Send event', 'host': 'Alice', 'clock': {'Alice': 7}}, {'event': 'Making progress', 'host': 'Alice', 'clock': {'Alice': 8}}, {'event': 'Checkpoint', 'host': 'Alice', 'clock': {'Alice': 9}}, {'event': 'Computing', 'host': 'Eve', 'clock': {'Eve': 5}}, {'event': 'Processing results', 'host': 'Eve', 'clock': {'Eve': 6}}, {'event': 'Checkpoint', 'host': 'Carol', 'clock': {'Carol': 8}}, {'event': 'Send event', 'host': 'Dave', 'clock': {'Dave': 6}}, {'event': 'Receive event', 'host': 'Eve', 'clock': {'Eve': 7, 'Dave': 6}}, {'event': 'Making progress', 'host': 'Eve', 'clock': {'Eve': 8}}, {'event': 'Checkpoint', 'host': 'Eve', 'clock': {'Eve': 9}}, {'event': 'Receive event', 'host': 'Dave', 'clock': {'Dave': 7, 'Alice': 5}}, {'event': 'Receive event', 'host': 'Carol', 'clock': {'Carol': 9, 'Dave': 6}}, {'event': 'Receive event', 'host': 'Carol', 'clock': {'Carol': 10, 'Alice': 7}}, {'event': 'Send event', 'host': 'Carol', 'clock': {'Carol': 11}}, {'event': 'Receive event', 'host': 'Bob', 'clock': {'Bob': 9, 'Alice': 7}}, {'event': 'Checkpoint', 'host': 'Bob', 'clock': {'Bob': 10}}, {'event': 'Making progress', 'host': 'Carol', 'clock': {'Carol': 12}}, {'event': 'Receive event', 'host': 'Dave', 'clock': {'Dave': 8, 'Carol': 11}}, {'event': 'Checkpoint', 'host': 'Dave', 'clock': {'Dave': 9}}, {'event': 'Receive event', 'host': 'Dave', 'clock': {'Dave': 10, 'Alice': 7}}, {'event': 'Checkpoint', 'host': 'Dave', 'clock': {'Dave': 11}}, {'event': 'Send event', 'host': 'Bob', 'clock': {'Bob': 11}}, {'event': 'Receive event', 'host': 'Alice', 'clock': {'Alice': 10, 'Bob': 11}}, {'event': 'Receive event', 'host': 'Eve', 'clock': {'Eve': 10, 'Alice': 7}}, {'event': 'Receive event', 'host': 'Carol', 'clock': {'Carol': 13, 'Bob': 11}}, {'event': 'Checkpoint', 'host': 'Eve', 'clock': {'Eve': 11}}, {'event': 'Send event', 'host': 'Dave', 'clock': {'Dave': 12}}, {'event': 'Making progress', 'host': 'Dave', 'clock': {'Dave': 13}}, {'event': 'Checkpoint', 'host': 'Carol', 'clock': {'Carol': 14}}, {'event': 'Receive event', 'host': 'Bob', 'clock': {'Bob': 12, 'Carol': 11}}, {'event': 'Checkpoint', 'host': 'Bob', 'clock': {'Bob': 13}}, {'event': 'Send event', 'host': 'Bob', 'clock': {'Bob': 14}}, {'event': 'Checkpoint', 'host': 'Dave', 'clock': {'Dave': 14}}, {'event': 'Send event', 'host': 'Dave', 'clock': {'Dave': 15}}, {'event': 'Computing', 'host': 'Alice', 'clock': {'Alice': 11}}, {'event': 'Receive event', 'host': 'Alice', 'clock': {'Alice': 12, 'Bob': 14}}, {'event': 'Checkpoint', 'host': 'Alice', 'clock': {'Alice': 13}}, {'event': 'Computing', 'host': 'Bob', 'clock': {'Bob': 15}}, {'event': 'Receive event', 'host': 'Alice', 'clock': {'Alice': 14, 'Dave': 6}}, {'event': 'Processing results', 'host': 'Bob', 'clock': {'Bob': 16}}, {'event': 'Receive event', 'host': 'Carol', 'clock': {'Carol': 15, 'Dave': 12}}, {'event': 'Receive event', 'host': 'Dave', 'clock': {'Dave': 16, 'Bob': 5}}, {'event': 'Receive event', 'host': 'Eve', 'clock': {'Eve': 12, 'Bob': 14}}, {'event': 'Checkpoint', 'host': 'Eve', 'clock': {'Eve': 13}}, {'event': 'Receive event', 'host': 'Bob', 'clock': {'Bob': 17, 'Dave': 12}}, {'event': 'Checkpoint', 'host': 'Bob', 'clock': {'Bob': 18}}, {'event': 'Send event', 'host': 'Bob', 'clock': {'Bob': 19}}, {'event': 'Receive event', 'host': 'Eve', 'clock': {'Eve': 14, 'Dave': 15}}, {'event': 'Computing', 'host': 'Eve', 'clock': {'Eve': 15}}, {'event': 'Processing results', 'host': 'Eve', 'clock': {'Eve': 16}}, {'event': 'Receive event', 'host': 'Carol', 'clock': {'Carol': 16, 'Dave': 15}}, {'event': 'Checkpoint', 'host': 'Carol', 'clock': {'Carol': 17}}, {'event': 'Receive event', 'host': 'Carol', 'clock': {'Carol': 18, 'Bob': 14}}, {'event': 'Checkpoint', 'host': 'Carol', 'clock': {'Carol': 19}}, {'event': 'Send event', 'host': 'Bob', 'clock': {'Bob': 20}}, {'event': 'Checkpoint', 'host': 'Bob', 'clock': {'Bob': 21}}, {'event': 'Send event', 'host': 'Bob', 'clock': {'Bob': 22}}, {'event': 'Receive event', 'host': 'Alice', 'clock': {'Alice': 15, 'Bob': 19}}, {'event': 'Making progress', 'host': 'Alice', 'clock': {'Alice': 16}}, {'event': 'Making progress', 'host': 'Dave', 'clock': {'Dave': 17}}, {'event': 'Receive event', 'host': 'Dave', 'clock': {'Dave': 18, 'Bob': 22}}, {'event': 'Receive event', 'host': 'Eve', 'clock': {'Eve': 17, 'Bob': 20}}, {'event': 'Receive event', 'host': 'Alice', 'clock': {'Alice': 17, 'Bob': 22}}, {'event': 'Receive event', 'host': 'Carol', 'clock': {'Carol': 20, 'Bob': 22}}]\n",
      "Total number of events: 94\n"
     ]
    }
   ],
   "source": [
    "# DO NOT CHANGE THESE LINES\n",
    "import re\n",
    "import ast\n",
    "\n",
    "regex = '(.*)\\n(\\S*) ({.*})'\n",
    "events = []\n",
    "\n",
    "with open(f'sampledb.log') as f:\n",
    "    events = [{'event': event, 'host': host, 'clock': ast.literal_eval(clock)}\n",
    "               for event, host, clock in re.findall(regex, f.read())]\n",
    "print('Events:', events)\n",
    "print('Total number of events:', len(events))"
   ]
  },
  {
   "cell_type": "code",
   "execution_count": 12,
   "metadata": {},
   "outputs": [],
   "source": [
    "# constatnts\n",
    "RECEIVE_EVENT = \"Receive event\"\n",
    "SEND_EVENT = \"Send event\"\n",
    "CHECKPOINT = \"Checkpoint\"\n",
    "INIT_EVENT = \"Init event\"\n",
    "MAKING_PROGRESS = \"Making progress\"\n",
    "COMPUTING = \"Computing\"\n",
    "NOP = \"Nop\""
   ]
  },
  {
   "cell_type": "markdown",
   "metadata": {
    "id": "-kfZ2QiXKPhu"
   },
   "source": [
    "## 1 - Visualize Execution [5+ points]\n",
    "\n",
    "**Your task:** Visualize the execution (similarly to the visualizations in the lecture). The author of the best visualization gets 3 points on top!"
   ]
  },
  {
   "cell_type": "code",
   "execution_count": 13,
   "metadata": {
    "id": "XpFTw8EDJ9Wl"
   },
   "outputs": [
    {
     "name": "stdout",
     "output_type": "stream",
     "text": [
      "Defaulting to user installation because normal site-packages is not writeable\n",
      "Requirement already satisfied: py-linq in /mnt/sdc3/david/.local/lib/python3.10/site-packages (1.3.0)\n",
      "Requirement already satisfied: future<0.19.0,>=0.18.2 in /mnt/sdc3/david/.local/lib/python3.10/site-packages (from py-linq) (0.18.2)\n"
     ]
    },
    {
     "data": {
      "image/png": "[encoded data removed]",
      "text/plain": [
       "<Figure size 1440x720 with 1 Axes>"
      ]
     },
     "metadata": {
      "needs_background": "light"
     },
     "output_type": "display_data"
    }
   ],
   "source": [
    "!pip install py-linq\n",
    "import numpy as np\n",
    "import matplotlib.pyplot as plt\n",
    "import matplotlib.animation as animation\n",
    "from py_linq import Enumerable\n",
    "import copy\n",
    "\n",
    "events_grouped = Enumerable(events).group_by([\"name\"], lambda x: x[\"host\"]).order_by(lambda x: x.key.name) # group the events by each person and order them alphabetically\n",
    "names_enumerable = events_grouped.select(lambda x: x.key.name) # get the names of each person and keep the enumerable\n",
    "names = names_enumerable.to_list() \n",
    "\n",
    "events_dict = dict( # create a dictornary from tuples\n",
    "                  tuple( # make tuples ('name', 'events')\n",
    "                      events_grouped.select(lambda x: [x.key.name, # name of the person\n",
    "                                                       x.select(lambda y: [y[\"event\"], list(y[\"clock\"].items())]) # select the event name and time information into single list\n",
    "                                                        .order_by(lambda y: y[1][0][1])  # events seem to be order, but might not be always the case, order them to be sure from 1 to N\n",
    "                                                        .to_list() # make list of the events for one person\n",
    "                                                      ]\n",
    "                                           )\n",
    "                                    .to_list() # make a list of lists ['name', 'events']\n",
    "                        )\n",
    "                  )\n",
    "events_dict_without_nops = copy.deepcopy(events_dict)\n",
    "\n",
    "for _ in range(1000): # 'while True:' would never finish, if the events are invalid\n",
    "    missplaced_recieve_event = (Enumerable(events_dict.values()).select_many(lambda x: x) # make one list of events from all people\n",
    "                                                                .where(lambda x: x[0] == \"Receive event\" and x[1][0][1] <= x[1][1][1]) # choose missplaced 'Recieve events'\n",
    "                                                                .select(lambda x: x[1]) # select the time information\n",
    "                                                                .order_by(lambda x: x[1][1]) # order the missplaced events by the time they happen from 1 to N\n",
    "                                                                .first_or_default()) # take the first one or 'None'\n",
    "    if missplaced_recieve_event == None: # no more missplaced events\n",
    "        break\n",
    "    \n",
    "    missplaced_name = missplaced_recieve_event[0][0] # get person X, whose timeline isn't correct\n",
    "    index = missplaced_recieve_event[0][1] - 1\n",
    "    nops = missplaced_recieve_event[1][1] - missplaced_recieve_event[0][1] + 1 # get the number of nooperations the person X must do to correct their timeline\n",
    "    timeline = events_dict[missplaced_name]\n",
    "    for i in range(nops):\n",
    "        timeline.insert(index, [NOP, [(missplaced_name, index + nops - i)]]) # correct the timeline\n",
    "    \n",
    "    for event in timeline[index + nops:]:\n",
    "        event[1][0] = (event[1][0][0], event[1][0][1] + nops) \n",
    "\n",
    "    for name in names_enumerable.where(lambda x: x != missplaced_name): # get other people\n",
    "        timeline = events_dict[name]\n",
    "        for moved in Enumerable(timeline).where(lambda x: len(x[1]) > 1 and x[1][1][0] == missplaced_name and x[1][1][1] > index): # chose events affected by the change of timeline of person X\n",
    "            moved[1][1] = (missplaced_name, moved[1][1][1] + nops) # adjust corrected timeline in timelines of other people\n",
    "\n",
    "max_length = Enumerable(events_dict.values()).max(lambda x: len(x)) # find the longes timeline\n",
    "for key, value in events_dict.items():\n",
    "    while len(value) <= max_length:\n",
    "        value.append([NOP, [(key, len(value))]]) # padd the shorter timelines\n",
    "\n",
    "names_reversed = names.copy()\n",
    "names_reversed.reverse() # to plot the names alphabetically order from top to bottom\n",
    "\n",
    "SCALE = 20 # scale of the plot\n",
    "space_width = max_length * SCALE\n",
    "\n",
    "# configure the plot\n",
    "figure, axis = plt.subplots(figsize=(20, 10))\n",
    "axis.set_frame_on(False)\n",
    "axis.set_xticks([], [])\n",
    "axis.set_yticks(np.arange(len(names_reversed)) + 0.5, names_reversed)\n",
    "axis.tick_params(labelsize=16.0, color=\"white\")\n",
    "axis.set_xlim(5, space_width + 10)\n",
    "axis.set_ylim(0, len(names))\n",
    "cmap_table = plt.get_cmap(\"tab10\") # colors used by matplotlib\n",
    "\n",
    "# create a tepmplate for a timeline of a perosn\n",
    "line_x = np.linspace(5, space_width + 10, space_width + 5)\n",
    "line_y = np.zeros(space_width + 5, dtype=np.uint32) + 0.5\n",
    "\n",
    "events_coordinates = []\n",
    "events_names = []\n",
    "events_indices = []\n",
    "events_plots = []\n",
    "recieve_events_coordinates = []\n",
    "recieve_events_plots = []\n",
    "\n",
    "for i, name in enumerate(names_reversed):\n",
    "    axis.plot(line_x, line_y + i, linewidth=2, color=cmap_table(i)) # plot timelines of each person with specific color\n",
    "\n",
    "    event_coordinates = np.array(Enumerable(events_dict[name]).where(lambda x: x[0] != NOP) # don't plot 'Nop' events\n",
    "                                                                               .select(lambda x: [x[1][0][1] * SCALE, i + 0.5]) # [x, y]\n",
    "                                                                               .to_list()) # get a numpy array of x, y coordinates of events for the plot\n",
    "    event_names = (Enumerable(events_dict_without_nops[name]).select(lambda x: f\"{x[1][0][1]}. {x[0]}\")\n",
    "                                                             .to_list()) # get a list of event names in the same order as the coordinates for these events\n",
    "    \n",
    "    events_names.append(event_names) # store the names of events for the animation \n",
    "    events_indices.append([-1, -1])  # for each person initialize with invalid index\n",
    "\n",
    "    event_plot, = axis.plot(event_coordinates[:, 0], event_coordinates[:, 1], 'o', color=\"black\") # plot events for a person\n",
    "    events_coordinates.append(event_coordinates) # store the coordiantes for animation\n",
    "    events_plots.append(event_plot)              # store the plot of events for animation\n",
    "\n",
    "recieve_events = (Enumerable(events_dict.values()).select_many(lambda x: x) # select events from every person\n",
    "                                                                   .where(lambda x: x[0] == \"Receive event\") # select only recieve events\n",
    "                                                                   .select(lambda x: [x[1][1][1] * SCALE, # x1\n",
    "                                                                                      names_reversed.index(x[1][1][0]) + 0.5, # y1\n",
    "                                                                                      x[1][0][1] * SCALE, # x2\n",
    "                                                                                      names_reversed.index(x[1][0][0]) + 0.5, # y2\n",
    "                                                                                      x[1][1][0]]) # sender\n",
    "                                                                   .to_list())\n",
    "for x1, y1, x2, y2, sender in recieve_events:\n",
    "    span_x = x2 - x1\n",
    "    recieve_event_coordinates = [x1, np.linspace(x1, x2, span_x), np.linspace(y1, y2, span_x)] # store a starting point of a line and create the line\n",
    "    plot, = axis.plot(recieve_event_coordinates[1], recieve_event_coordinates[2], linewidth=1.0, \n",
    "                      color=cmap_table(names_reversed.index(sender)), marker=\"D\", markevery=[-1], markersize=9.0) # plot the message line with the color of the sender\n",
    "    recieve_events_coordinates.append(recieve_event_coordinates) # store the line info for animation\n",
    "    recieve_events_plots.append(plot) # store the plot for animation\n",
    "\n",
    "label_adjustments = [-0.22, 0.05, -0.12, 0.15] # make sure the labels don't overlap\n",
    "def update(time, events_coordinates, events_plots, event_names, indices, recieve_events_coordinates, recieve_events_plots):\n",
    "    for i in range(len(events_plots)):\n",
    "        event_points = events_coordinates[i]\n",
    "        event_points = event_points[event_points[:, 0] <= time] # get the events that should be displayed at a given time\n",
    "        events_plots[i].set_data(event_points[:, 0], event_points[:, 1]) # show only these events\n",
    "\n",
    "        if event_points.shape[0] > 0 and event_points[-1, 0] > indices[i][0]: # new event was displayed, therfore its label must be displayed as well\n",
    "            indices[i][0] = event_points[-1, 0] # store the currently last event \n",
    "            indices[i][1] += 1  # update the index of the label\n",
    "            height_adjust = event_points.shape[0] % 4 # put the labels of events into 4 different positions, so they don't overlap\n",
    "            axis.annotate(event_names[i][indices[i][1]], (event_points[-1, 0] - 15, event_points[-1, 1] + label_adjustments[height_adjust]), fontweight=\"bold\") # display the label\n",
    "    \n",
    "    for i, recieve_event_coordinates in enumerate(recieve_events_coordinates):\n",
    "        x1 = recieve_event_coordinates[0]\n",
    "        if time > x1: # display the message from sender to reciever\n",
    "            recieve_events_plots[i].set_data(recieve_event_coordinates[1][:time - x1], recieve_event_coordinates[2][:time - x1]) # show part or the whole line\n",
    "        else: # don't display the message\n",
    "            recieve_events_plots[i].set_data(recieve_event_coordinates[1][:0], recieve_event_coordinates[2][:0]) # show zero points of the line\n",
    "\n",
    "    return events_plots + recieve_events_plots # return all the plots that changed\n",
    "\n",
    "anim = animation.FuncAnimation(figure, update, fargs=[events_coordinates, events_plots, events_names, events_indices, recieve_events_coordinates, recieve_events_plots], \n",
    "                               interval=25, blit=True, repeat=False) # animate the plot\n",
    "plt.show()\n"
   ]
  },
  {
   "cell_type": "markdown",
   "metadata": {},
   "source": [
    "# <font color=#FF0000>Run the code in the file visualisation.py, the animation does not work in a jupyter notebook.</font>"
   ]
  },
  {
   "cell_type": "markdown",
   "metadata": {
    "id": "fbXvxZ2AJ984"
   },
   "source": [
    "## 2 - Count Concurrent Events [5 points]\n",
    "\n",
    "**Your task**: Count the *total number of unique* concurrent event pairs in the log file."
   ]
  },
  {
   "cell_type": "code",
   "execution_count": 14,
   "metadata": {
    "id": "fhc9XKyU41YB"
   },
   "outputs": [
    {
     "name": "stdout",
     "output_type": "stream",
     "text": [
      "Defaulting to user installation because normal site-packages is not writeable\n",
      "Requirement already satisfied: networkx in /mnt/sdc3/david/.local/lib/python3.10/site-packages (2.8.8)\n",
      "Number of concurrent event pairs: 1837\n"
     ]
    }
   ],
   "source": [
    "!pip install networkx\n",
    "import networkx as nx\n",
    "\n",
    "def count_concurrent_events(events, plot_graph=False): # see another approach using the vector timestamps in count_concurrent_events.py\n",
    "    events_grouped = (Enumerable(events).group_by([\"name\"], lambda x: x[\"host\"]) # group the events by each person\n",
    "                                        .order_by(lambda x: x.key.name)) # order them alphabetically\n",
    "    \n",
    "    names_enumerable = events_grouped.select(lambda x: x.key.name) # select just the names\n",
    "    \n",
    "    name_events_enumerable = (events_grouped.select(lambda x: [x.key.name, # name of the person\n",
    "                                                               x.select(lambda y: list(y[\"clock\"].items())) # select the time information\n",
    "                                                                .order_by(lambda y: y[0][1])  # events seem to be order, but might not be always the case, order them to be sure from 1 to N\n",
    "                                                                .to_list() # make list of the events for the person\n",
    "                                                              ]))\n",
    "    \n",
    "    events_dict = (dict(tuple(name_events_enumerable.to_list()))) # create a dictonary of events for each person\n",
    "\n",
    "    G = nx.DiGraph() # create a directed graph\n",
    "\n",
    "    for name in names_enumerable:\n",
    "        previous_event = events_dict[name][0][0] # get the first event for a given person\n",
    "        G.add_node(previous_event)\n",
    "        for current_event in events_dict[name][1:]: # for all events from the given person apart form the first\n",
    "            current_event = current_event[0]\n",
    "            G.add_node(current_event) # add it to the graph\n",
    "            G.add_edge(previous_event, current_event) # create a directed connection between subsequent events\n",
    "            previous_event = current_event\n",
    "    \n",
    "    for recieve_event in (name_events_enumerable.select_many(lambda x: x[1])\n",
    "                                                .where(lambda x: len(x) > 1)): # get all Receive events\n",
    "        G.add_edge(recieve_event[1], recieve_event[0]) # create a directed connection between the sender and reciever\n",
    "\n",
    "    if plot_graph: # optionally plot the graph, there are too many events, so it isn't very clear\n",
    "        _, axis = plt.subplots(figsize=(15, 15))\n",
    "        nx.draw(G, ax=axis, pos=nx.spring_layout(G))\n",
    "        plt.show()\n",
    "\n",
    "    concurrent_event_pairs_dict = { } # dictonary to store already found concurrent event pairs \n",
    "    pure_events_enumerable = ((Enumerable(events).select(lambda x: list(x[\"clock\"].items())[0])))\n",
    "    for event_A in pure_events_enumerable: \n",
    "        for event_B in pure_events_enumerable.where(lambda x: x != event_A): # do the cartesian product of events\n",
    "            if not (concurrent_event_pairs_dict.get((event_A, event_B), False) or \n",
    "                    concurrent_event_pairs_dict.get((event_B, event_A), False)): # check if the event pair isn't already marked as concurrent\n",
    "                if not (nx.has_path(G, event_A, event_B) or nx.has_path(G, event_B, event_A)): # no path from 'event_A' to 'event_B' or the other way around, therefore they must be concurrent\n",
    "                    concurrent_event_pairs_dict[(event_A, event_B)] = True # mark the pair as a concurrent event pair\n",
    "\n",
    "    return len(concurrent_event_pairs_dict) # number of concurrent event pairs is equal to the number of unique entries in the dictonary\n",
    "\n",
    "print('Number of concurrent event pairs:', count_concurrent_events(events))"
   ]
  },
  {
   "cell_type": "markdown",
   "metadata": {
    "id": "1GoQ-dbnPGdk"
   },
   "source": [
    "## 3 - Assign Vector Clocks [4 points]\n",
    "\n",
    "**Your task:** Assign vector timestamps to each event. Annotate the event captions with the corresponting vector timestamp. E.g., \n",
    "```\n",
    "`Dummy event` --> `Dummy event [0,12,2,4,0]`.\n",
    "```\n"
   ]
  },
  {
   "cell_type": "code",
   "execution_count": 15,
   "metadata": {
    "id": "VcK9zClDNWYL"
   },
   "outputs": [
    {
     "name": "stdout",
     "output_type": "stream",
     "text": [
      "Init event [1, 0, 0, 0, 0]\n",
      "Init event [0, 1, 0, 0, 0]\n",
      "Send event [2, 0, 0, 0, 0]\n",
      "Making progress [0, 2, 0, 0, 0]\n",
      "Receive event [2, 3, 0, 0, 0]\n",
      "Computing [3, 0, 0, 0, 0]\n",
      "Checkpoint [4, 0, 0, 0, 0]\n",
      "Making progress [2, 4, 0, 0, 0]\n",
      "Init event [0, 0, 1, 0, 0]\n",
      "Init event [0, 0, 0, 1, 0]\n",
      "Init event [0, 0, 0, 0, 1]\n",
      "Send event [0, 0, 2, 0, 0]\n",
      "Checkpoint [0, 0, 3, 0, 0]\n",
      "Send event [0, 0, 4, 0, 0]\n",
      "Send event [2, 5, 0, 0, 0]\n",
      "Receive event [0, 0, 2, 2, 0]\n",
      "Checkpoint [0, 0, 2, 3, 0]\n",
      "Send event [0, 0, 0, 0, 2]\n",
      "Checkpoint [0, 0, 0, 0, 3]\n",
      "Receive event [2, 6, 4, 0, 0]\n",
      "Checkpoint [0, 0, 5, 0, 0]\n",
      "Receive event [0, 0, 2, 0, 4]\n",
      "Receive event [0, 0, 2, 4, 2]\n",
      "Checkpoint [0, 0, 2, 5, 2]\n",
      "Receive event [2, 5, 6, 0, 0]\n",
      "Making progress [2, 5, 7, 0, 0]\n",
      "Send event [5, 0, 0, 0, 0]\n",
      "Receive event [6, 0, 4, 0, 0]\n",
      "Receive event [5, 7, 4, 0, 0]\n",
      "Checkpoint [5, 8, 4, 0, 0]\n",
      "Send event [7, 0, 4, 0, 0]\n",
      "Making progress [8, 0, 4, 0, 0]\n",
      "Checkpoint [9, 0, 4, 0, 0]\n",
      "Computing [0, 0, 2, 0, 5]\n",
      "Processing results [0, 0, 2, 0, 6]\n",
      "Checkpoint [2, 5, 8, 0, 0]\n",
      "Send event [0, 0, 2, 6, 2]\n",
      "Receive event [0, 0, 2, 6, 7]\n",
      "Making progress [0, 0, 2, 6, 8]\n",
      "Checkpoint [0, 0, 2, 6, 9]\n",
      "Receive event [5, 0, 2, 7, 2]\n",
      "Receive event [2, 5, 9, 6, 2]\n",
      "Receive event [7, 5, 10, 6, 2]\n",
      "Send event [7, 5, 11, 6, 2]\n",
      "Receive event [7, 9, 4, 0, 0]\n",
      "Checkpoint [7, 10, 4, 0, 0]\n",
      "Making progress [7, 5, 12, 6, 2]\n",
      "Receive event [7, 5, 11, 8, 2]\n",
      "Checkpoint [7, 5, 11, 9, 2]\n",
      "Receive event [7, 5, 11, 10, 2]\n",
      "Checkpoint [7, 5, 11, 11, 2]\n",
      "Send event [7, 11, 4, 0, 0]\n",
      "Receive event [10, 11, 4, 0, 0]\n",
      "Receive event [7, 0, 4, 6, 10]\n",
      "Receive event [7, 11, 13, 6, 2]\n",
      "Checkpoint [7, 0, 4, 6, 11]\n",
      "Send event [7, 5, 11, 12, 2]\n",
      "Making progress [7, 5, 11, 13, 2]\n",
      "Checkpoint [7, 11, 14, 6, 2]\n",
      "Receive event [7, 12, 11, 6, 2]\n",
      "Checkpoint [7, 13, 11, 6, 2]\n",
      "Send event [7, 14, 11, 6, 2]\n",
      "Checkpoint [7, 5, 11, 14, 2]\n",
      "Send event [7, 5, 11, 15, 2]\n",
      "Computing [11, 11, 4, 0, 0]\n",
      "Receive event [12, 14, 11, 6, 2]\n",
      "Checkpoint [13, 14, 11, 6, 2]\n",
      "Computing [7, 15, 11, 6, 2]\n",
      "Receive event [14, 14, 11, 6, 2]\n",
      "Processing results [7, 16, 11, 6, 2]\n",
      "Receive event [7, 11, 15, 12, 2]\n",
      "Receive event [7, 5, 11, 16, 2]\n",
      "Receive event [7, 14, 11, 6, 12]\n",
      "Checkpoint [7, 14, 11, 6, 13]\n",
      "Receive event [7, 17, 11, 12, 2]\n",
      "Checkpoint [7, 18, 11, 12, 2]\n",
      "Send event [7, 19, 11, 12, 2]\n",
      "Receive event [7, 14, 11, 15, 14]\n",
      "Computing [7, 14, 11, 15, 15]\n",
      "Processing results [7, 14, 11, 15, 16]\n",
      "Receive event [7, 11, 16, 15, 2]\n",
      "Checkpoint [7, 11, 17, 15, 2]\n",
      "Receive event [7, 14, 18, 15, 2]\n",
      "Checkpoint [7, 14, 19, 15, 2]\n",
      "Send event [7, 20, 11, 12, 2]\n",
      "Checkpoint [7, 21, 11, 12, 2]\n",
      "Send event [7, 22, 11, 12, 2]\n",
      "Receive event [15, 19, 11, 12, 2]\n",
      "Making progress [16, 19, 11, 12, 2]\n",
      "Making progress [7, 5, 11, 17, 2]\n",
      "Receive event [7, 22, 11, 18, 2]\n",
      "Receive event [7, 20, 11, 15, 17]\n",
      "Receive event [17, 22, 11, 12, 2]\n",
      "Receive event [7, 22, 20, 15, 2]\n"
     ]
    }
   ],
   "source": [
    "def assign_vector_timestamps(events):\n",
    "    names = (Enumerable(events).group_by([\"name\"], lambda x: x[\"host\"])\n",
    "                               .select(lambda x: x.key.name)\n",
    "                               .order_by(lambda x: x) # order alphabetically\n",
    "                               .to_list()) # get names to get the size of the vector timestamp\n",
    "    vector_dict = {}\n",
    "    indices_dict = {}\n",
    "    for i, name in enumerate(names):\n",
    "        vector_dict[name] = [[0] * len(names)] # create initial vector for each person\n",
    "        indices_dict[name] = i # store the 'i' index of the person\n",
    "\n",
    "    stammed_events = []\n",
    "    for event in events:\n",
    "        name = event[\"host\"]\n",
    "        index = indices_dict[name]\n",
    "        vector = vector_dict[name][-1].copy() # copy the last vector, from which the new vector is created\n",
    "        vector[index] += 1 # 'Vi[i] = Vi[i] + 1'\n",
    "        if event[\"event\"] == RECEIVE_EVENT:\n",
    "            sender = list(event[\"clock\"].items())[1] \n",
    "            sender_vector = vector_dict[sender[0]][sender[1]] # get the sender vector at the time of sending\n",
    "            final_vector = np.array([vector, sender_vector])\n",
    "            final_vector = final_vector.max(axis=0) # 'max(Vmessage[j], Vi[j]) for j != i'\n",
    "            final_vector[index] = vector[index] # fix the vector so 'j != i' holds\n",
    "            vector = final_vector.tolist()\n",
    "        \n",
    "        vector_dict[name].append(vector) # store the updated vector as a new entry\n",
    "        stammed_events.append(f\"{event['event']} {vector}\") # store the event with vector time stamp\n",
    "\n",
    "    return \"\\n\".join(stammed_events)\n",
    "\n",
    "print(assign_vector_timestamps(events))"
   ]
  },
  {
   "cell_type": "markdown",
   "metadata": {
    "id": "hC1QuYiHzJpt"
   },
   "source": [
    "## 4 - Rollback Recovery [6 points]\n",
    "All events annotated with the `Checkpoint` in the title are checkpointing events. According to the provided log file `sampledb.log`, the hosts Alice, Bob, Carol, Dave and Eve are at their logical time 17, 22, 20, 18 and 17 respectively. Once of a sudden, Bob fails and has to rollback at least to its latest checkpoint.\n",
    "\n",
    "**Your task:** Write an algorithm to calculate the correct recovery line given one or multiple host failures."
   ]
  },
  {
   "cell_type": "code",
   "execution_count": 16,
   "metadata": {
    "id": "DIZcUW3EyykH"
   },
   "outputs": [
    {
     "name": "stdout",
     "output_type": "stream",
     "text": [
      "Computed recovery line:  [13, 21, 14, 14, 13]\n"
     ]
    }
   ],
   "source": [
    "import sys\n",
    "\n",
    "def recovery_line(events, failed_processes, verbose=False): # see another approach using the vector timestamps in recovery_line.py\n",
    "    events_dict = dict(\n",
    "                      tuple(\n",
    "                          Enumerable(events).group_by([\"name\"], lambda x: x[\"host\"]) # group the events by each person\n",
    "                                            .order_by(lambda x: x.key.name) # order them alphabetically\n",
    "                                            .select(lambda x: [x.key.name, # name of the person\n",
    "                                                               x.select(lambda y: [y[\"event\"]] + list(y[\"clock\"].items())) # select the event name and time information, time is given by the number of events\n",
    "                                                                .order_by(lambda y: y[1][1])  # events seem to be order, but might not be always the case, order them to be sure from 1 to N\n",
    "                                                                .to_list() # make list of the events for the person\n",
    "                                                              ])\n",
    "                                            .to_list()\n",
    "                           )\n",
    "                      )\n",
    "\n",
    "    failed_processes_dict = { name: len(events_dict[name]) for name in failed_processes } # convert the list to dictonary, to be able to use hashing for storing each name just once\n",
    "\n",
    "    for receiver, sender in (Enumerable(events).where(lambda x: x[\"event\"] == RECEIVE_EVENT)\n",
    "                                               .select(lambda x: list(x[\"clock\"].items()))):\n",
    "        events_dict[sender[0]][sender[1] - 1].append(receiver) # add recievers to all send events\n",
    "    \n",
    "    while len(failed_processes_dict): # until there are failed processes\n",
    "        canceled_send_events = []\n",
    "        for name, time in failed_processes_dict.items():\n",
    "            timeline = events_dict[name]\n",
    "            while len(timeline) > time or (timeline[-1][0] != CHECKPOINT and timeline[-1][0] != INIT_EVENT): # rollback to either of these events\n",
    "                if timeline[-1][0] == SEND_EVENT:\n",
    "                    canceled_send_events.append(timeline[-1][2:]) # store all recievers of send events, which didn't happen due to rollback\n",
    "                timeline.pop()\n",
    "\n",
    "        failed_processes_dict = {} # all failed processes were rolled back, clear them\n",
    "        for canceled_send_event in canceled_send_events:\n",
    "            for receiver, time in canceled_send_event:\n",
    "                if len(events_dict[receiver]) >= time and time < failed_processes_dict.get(receiver, sys.maxsize): # reciever received message, that wasn't send, and when receiving multiple of these, he must rollback to the first of them\n",
    "                    failed_processes_dict[receiver] = time  # reciever must rollback at least to this time\n",
    "\n",
    "    if verbose:\n",
    "        return \"\\n\" + \"\\n\".join([f\"{events[-1][0]} from {events[-1][1][0]} at time {events[-1][1][1]}\" for events in events_dict.values()])\n",
    "    else:\n",
    "        return [events[-1][1][1] for events in events_dict.values()]\n",
    "\n",
    "print(\"Computed recovery line: \", recovery_line(events, [\"Bob\"], verbose=False)) # set 'verbose' to True for enhanced print"
   ]
  },
  {
   "cell_type": "markdown",
   "metadata": {
    "id": "5AXgCZ6pzoO4"
   },
   "source": [
    "## 5 - How to Submit Your Solution?\n",
    "Download your notebook (File --> Download --> Download .ipynb) and send per email to [saukh@tugraz.at](mailto:saukh@tugraz.at)."
   ]
  },
  {
   "cell_type": "code",
   "execution_count": null,
   "metadata": {
    "id": "i8D4VSnBT5Iz"
   },
   "outputs": [],
   "source": []
  }
 ],
 "metadata": {
  "colab": {
   "collapsed_sections": [],
   "provenance": [],
   "toc_visible": true
  },
  "kernelspec": {
   "display_name": "Python 3 (ipykernel)",
   "language": "python",
   "name": "python3"
  },
  "language_info": {
   "codemirror_mode": {
    "name": "ipython",
    "version": 3
   },
   "file_extension": ".py",
   "mimetype": "text/x-python",
   "name": "python",
   "nbconvert_exporter": "python",
   "pygments_lexer": "ipython3",
   "version": "3.10.6"
  },
  "vscode": {
   "interpreter": {
    "hash": "916dbcbb3f70747c44a77c7bcd40155683ae19c65e1c03b4aa3499c5328201f1"
   }
  }
 },
 "nbformat": 4,
 "nbformat_minor": 1
}
