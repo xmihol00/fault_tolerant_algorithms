{
  "cells": [
    {
      "cell_type": "markdown",
      "metadata": {
        "id": "hIG3sDBFyebw"
      },
      "source": [
        "# Project 2 -- Gossip Style Failure Detectors\n",
        "\n",
        "## Instructions\n",
        "\n",
        "Please read carefully:\n",
        "\n",
        "* Solve the project yourself. No teamwork.\n",
        "* If you have questions, please post these in the public channel on Slack. The answers may be relevant to others as well. \n",
        "* Feel free to import and use any additional Python package you need.\n",
        "* You are allowed to solve the project using a different programming language. In this case, please send me your full code and instructions how to run it (in this case you may have to use a different socket library).\n",
        "* Your code may be tested on more than 2 nodes. Two nodes are used for the sake of an example.\n",
        "* In case you experience errors when running your code - read the error carefully. It may happen that the port has not been freed and you just need to wait for a few more seconds to fix the problem.\n",
        "* Make sure to fill in your `student_name` in the following block below."
      ]
    },
    {
      "cell_type": "code",
      "execution_count": 3,
      "metadata": {
        "id": "NRQm4C5L0AsG"
      },
      "outputs": [],
      "source": [
        "student_name = 'David Mihola' # fill with your student name\n",
        "assert student_name != 'your_student_name', 'Please fill in your student_name before you start.'"
      ]
    },
    {
      "cell_type": "markdown",
      "metadata": {
        "id": "2aL0oIQ0z-9F"
      },
      "source": [
        "You will be sending and receiving messages via sockets. We will use ZeroMQ library, is a  high-performance asynchronous messaging library, aimed at use in distributed or concurrent applications. ZeroMQ simplifies communication handling between distributed nodes. ZeroMQ reference guide: https://zguide.zeromq.org/docs/chapter2/ \n",
        "\n",
        "\n",
        "Below you will find an example of generating a pair of communicating nodes, which periodically exchange messages. Both nodes eventually terminate. "
      ]
    },
    {
      "cell_type": "code",
      "execution_count": 4,
      "metadata": {
        "id": "80QhwUJjBA06"
      },
      "outputs": [
        {
          "name": "stderr",
          "output_type": "stream",
          "text": [
            "T_gossip: 3 s, T_fail: 24.188752834578743 s, T_cleanup: 48.377505669157486 s\n",
            "Node 0 is waiting for 3.747487646598334 s befor sending first gossip messages...\n",
            "Node 1 is waiting for 1.753268911718806 s befor sending first gossip messages...\n",
            "Node 2 is waiting for 4.140564143594352 s befor sending first gossip messages...\n",
            "Node 3 is waiting for 0.24305675419612593 s befor sending first gossip messages...\n",
            "Node 4 is waiting for 4.9603408660014825 s befor sending first gossip messages...\n",
            "Node 5 is waiting for 5.321942949692031 s befor sending first gossip messages...\n"
          ]
        },
        {
          "name": "stdout",
          "output_type": "stream",
          "text": [
            "Node 3 gossips to node 0.\n",
            "Node 1 gossips to node 0.\n",
            "Node 3 gossips to node 1.\n",
            "Node 1 received gossip from node 3, neighborship list: [ 0 0 0 2 0 0 ]\n",
            "Node 0 gossips to node 2.\n",
            "Node 0 received gossip from node 3, neighborship list: [ 0 0 0 1 0 0 ]\n",
            "Node 0 received gossip from node 1, neighborship list: [ 0 1 0 1 0 0 ]\n",
            "Node 2 gossips to node 0.\n",
            "Node 0 received gossip from node 2, neighborship list: [ 0 1 1 1 0 0 ]\n",
            "Node 2 received gossip from node 0, neighborship list: [ 1 0 0 0 0 0 ]\n",
            "Node 1 gossips to node 4.\n",
            "Node 4 gossips to node 0.\n",
            "Node 4 received gossip from node 1, neighborship list: [ 0 1 0 2 0 0 ]\n",
            "Node 0 received gossip from node 4, neighborship list: [ 0 1 1 1 1 0 ]\n",
            "Node 5 gossips to node 1.\n"
          ]
        },
        {
          "name": "stderr",
          "output_type": "stream",
          "text": [
            "Node 5 failed.\n"
          ]
        },
        {
          "name": "stdout",
          "output_type": "stream",
          "text": [
            "Node 1 received gossip from node 5, neighborship list: [ 0 0 0 2 0 1 ]\n",
            "Node 3 gossips to node 5.\n",
            "Node 0 gossips to node 1.\n",
            "Node 1 received gossip from node 0, neighborship list: [ 1 1 1 2 1 1 ]\n",
            "Node 2 gossips to node 3.\n",
            "Node 3 received gossip from node 2, neighborship list: [ 1 0 1 0 0 0 ]\n",
            "Node 1 gossips to node 2.\n",
            "Node 2 received gossip from node 1, neighborship list: [ 1 2 1 2 1 1 ]\n",
            "Node 4 gossips to node 2.\n",
            "Node 2 received gossip from node 4, neighborship list: [ 1 2 1 2 1 1 ]\n"
          ]
        },
        {
          "name": "stderr",
          "output_type": "stream",
          "text": [
            "Node 5 restarted.\n"
          ]
        },
        {
          "name": "stdout",
          "output_type": "stream",
          "text": [
            "Node 3 gossips to node 4.\n",
            "Node 4 received gossip from node 3, neighborship list: [ 1 1 1 2 0 0 ]\n",
            "Node 0 gossips to node 5.\n",
            "Node 5 received gossip from node 0, neighborship list: [ 2 1 1 1 1 0 ]\n",
            "Node 2 gossips to node 1.\n",
            "Node 1 received gossip from node 2, neighborship list: [ 1 2 2 2 1 1 ]\n",
            "Node 1 gossips to node 2.\n",
            "Node 2 received gossip from node 1, neighborship list: [ 1 3 2 2 1 1 ]\n",
            "Node 4 gossips to node 2.\n",
            "Node 2 received gossip from node 4, neighborship list: [ 1 3 2 2 1 1 ]\n",
            "Node 5 gossips to node 4.\n"
          ]
        },
        {
          "name": "stderr",
          "output_type": "stream",
          "text": [
            "Node 5 failed.\n"
          ]
        },
        {
          "name": "stdout",
          "output_type": "stream",
          "text": [
            "Node 4 received gossip from node 5, neighborship list: [ 2 1 1 2 1 1 ]\n",
            "Node 3 gossips to node 1.\n",
            "Node 1 received gossip from node 3, neighborship list: [ 1 2 2 2 1 1 ]\n",
            "Node 0 gossips to node 1.\n",
            "Node 1 received gossip from node 0, neighborship list: [ 3 2 2 2 1 1 ]\n",
            "Node 2 gossips to node 3.\n",
            "Node 3 received gossip from node 2, neighborship list: [ 1 3 3 2 1 1 ]\n",
            "Node 1 gossips to node 4.\n",
            "Node 4 received gossip from node 1, neighborship list: [ 3 3 2 2 1 1 ]\n",
            "Node 4 gossips to node 0.\n",
            "Node 0 received gossip from node 4, neighborship list: [ 3 3 2 2 2 1 ]\n"
          ]
        },
        {
          "name": "stderr",
          "output_type": "stream",
          "text": [
            "Node 5 restarted.\n",
            "Node 0 is working, its perception of the network is:\n",
            "   Node 1 is running.\n",
            "   Node 2 is running.\n",
            "   Node 3 is running.\n",
            "   Node 4 is running.\n",
            "   Node 5 is running.\n",
            "Node 4 is working, its perception of the network is:\n",
            "   Node 0 is running.\n",
            "   Node 1 is running.\n",
            "   Node 2 is running.\n",
            "   Node 3 is running.\n",
            "   Node 5 is running.\n",
            "Node 1 is working, its perception of the network is:\n",
            "   Node 0 is running.\n",
            "   Node 2 is running.\n",
            "   Node 3 is running.\n",
            "   Node 4 is running.\n",
            "   Node 5 is running.\n",
            "Node 2 is working, its perception of the network is:\n",
            "   Node 0 is running.\n",
            "   Node 1 is running.\n",
            "   Node 3 is running.\n",
            "   Node 4 is running.\n",
            "   Node 5 is running.\n",
            "Node 5 is working, its perception of the network is:\n",
            "   Node 0 is unknown.\n",
            "   Node 1 is unknown.\n",
            "   Node 2 is unknown.\n",
            "   Node 3 is unknown.\n",
            "   Node 4 is unknown.\n",
            "Node 3 is working, its perception of the network is:\n",
            "   Node 0 is running.\n",
            "   Node 1 is running.\n",
            "   Node 2 is running.\n",
            "   Node 4 is running.\n",
            "   Node 5 is running.\n",
            "\n",
            "State of the network at time 15:\n"
          ]
        },
        {
          "name": "stdout",
          "output_type": "stream",
          "text": [
            "Node 3 gossips to node 1.\n",
            "Node 1 received gossip from node 3, neighborship list: [ 3 3 3 3 1 1 ]\n",
            "Node 0 gossips to node 4.\n",
            "Node 4 received gossip from node 0, neighborship list: [ 4 3 2 2 2 1 ]\n",
            "Node 2 gossips to node 3.\n"
          ]
        },
        {
          "name": "stderr",
          "output_type": "stream",
          "text": [
            "Node 2 failed.\n"
          ]
        },
        {
          "name": "stdout",
          "output_type": "stream",
          "text": [
            "Node 3 received gossip from node 2, neighborship list: [ 1 3 4 2 1 1 ]\n",
            "Node 1 gossips to node 4.\n",
            "Node 4 received gossip from node 1, neighborship list: [ 4 4 3 3 2 1 ]\n",
            "Node 4 gossips to node 3.\n",
            "Node 3 received gossip from node 4, neighborship list: [ 4 4 4 3 3 1 ]\n",
            "Node 5 gossips to node 3.\n"
          ]
        },
        {
          "name": "stderr",
          "output_type": "stream",
          "text": [
            "Node 5 failed.\n"
          ]
        },
        {
          "name": "stdout",
          "output_type": "stream",
          "text": [
            "Node 3 received gossip from node 5, neighborship list: [ 4 4 4 3 3 1 ]\n",
            "Node 3 gossips to node 4.\n",
            "Node 4 received gossip from node 3, neighborship list: [ 4 4 4 4 3 1 ]\n",
            "Node 0 gossips to node 3.\n",
            "Node 3 received gossip from node 0, neighborship list: [ 5 4 4 3 3 1 ]\n"
          ]
        },
        {
          "name": "stderr",
          "output_type": "stream",
          "text": [
            "Node 2 restarted.\n"
          ]
        },
        {
          "name": "stdout",
          "output_type": "stream",
          "text": [
            "Node 1 gossips to node 4.\n"
          ]
        },
        {
          "name": "stderr",
          "output_type": "stream",
          "text": [
            "Node 1 failed.\n"
          ]
        },
        {
          "name": "stdout",
          "output_type": "stream",
          "text": [
            "Node 4 received gossip from node 1, neighborship list: [ 4 5 4 4 3 1 ]\n",
            "Node 4 gossips to node 5.\n"
          ]
        },
        {
          "name": "stderr",
          "output_type": "stream",
          "text": [
            "Node 5 restarted.\n"
          ]
        },
        {
          "name": "stdout",
          "output_type": "stream",
          "text": [
            "Node 3 gossips to node 2.\n",
            "Node 2 received gossip from node 3, neighborship list: [ 5 4 4 4 3 1 ]\n",
            "Node 0 gossips to node 1.\n"
          ]
        },
        {
          "name": "stderr",
          "output_type": "stream",
          "text": [
            "Node 0 failed.\n"
          ]
        },
        {
          "name": "stdout",
          "output_type": "stream",
          "text": [
            "Node 2 gossips to node 3.\n",
            "Node 3 received gossip from node 2, neighborship list: [ 5 4 5 4 3 1 ]\n",
            "Node 4 gossips to node 0.\n",
            "Node 5 gossips to node 0.\n"
          ]
        },
        {
          "name": "stderr",
          "output_type": "stream",
          "text": [
            "Node 5 failed.\n"
          ]
        },
        {
          "name": "stdout",
          "output_type": "stream",
          "text": [
            "Node 3 gossips to node 0.\n"
          ]
        },
        {
          "name": "stderr",
          "output_type": "stream",
          "text": [
            "Node 3 failed.\n"
          ]
        },
        {
          "name": "stdout",
          "output_type": "stream",
          "text": [
            "Node 2 gossips to node 1.\n",
            "Node 4 gossips to node 5.\n"
          ]
        },
        {
          "name": "stderr",
          "output_type": "stream",
          "text": [
            "Node 5 restarted.\n"
          ]
        },
        {
          "name": "stdout",
          "output_type": "stream",
          "text": [
            "Node 2 gossips to node 4.\n",
            "Node 4 received gossip from node 2, neighborship list: [ 5 5 7 4 3 1 ]\n",
            "Node 4 gossips to node 0.\n",
            "Node 5 gossips to node 0.\n"
          ]
        },
        {
          "name": "stderr",
          "output_type": "stream",
          "text": [
            "Node 5 failed.\n",
            "Node 1 is not working.\n",
            "Node 0 is not working.\n",
            "Node 3 is not working.\n",
            "Node 5 is not working.\n",
            "Node 4 is working, its perception of the network is:\n",
            "   Node 0 is running.\n",
            "   Node 1 is running.\n",
            "   Node 2 is running.\n",
            "   Node 3 is running.\n",
            "Node 2 is working, its perception of the network is:\n",
            "\n",
            "   Node 5 is running.   Node 0 is running.\n",
            "   Node 1 is running.\n",
            "   Node 3 is running.\n",
            "   Node 4 is running.\n",
            "   Node 5 is running.\n",
            "\n",
            "State of the network at time 30:\n"
          ]
        },
        {
          "name": "stdout",
          "output_type": "stream",
          "text": [
            "Node 2 gossips to node 1.\n",
            "Node 4 gossips to node 0.\n"
          ]
        },
        {
          "name": "stderr",
          "output_type": "stream",
          "text": [
            "Node 5 restarted.\n"
          ]
        },
        {
          "name": "stdout",
          "output_type": "stream",
          "text": [
            "Node 2 gossips to node 3.\n",
            "Node 4 gossips to node 1.\n",
            "Node 5 gossips to node 3.\n"
          ]
        },
        {
          "name": "stderr",
          "output_type": "stream",
          "text": [
            "Node 5 failed.\n"
          ]
        },
        {
          "name": "stdout",
          "output_type": "stream",
          "text": [
            "Node 2 gossips to node 0.\n",
            "Node 4 gossips to node 1.\n"
          ]
        },
        {
          "name": "stderr",
          "output_type": "stream",
          "text": [
            "Node 5 restarted.\n"
          ]
        },
        {
          "name": "stdout",
          "output_type": "stream",
          "text": [
            "Node 2 gossips to node 5.\n",
            "Node 5 received gossip from node 2, neighborship list: [ 5 4 11 4 3 1 ]\n",
            "Node 4 gossips to node 0.\n",
            "Node 5 gossips to node 0.\n"
          ]
        },
        {
          "name": "stderr",
          "output_type": "stream",
          "text": [
            "Node 5 failed.\n",
            "\n",
            "Terminating...\n",
            "\n"
          ]
        }
      ],
      "source": [
        "import random\n",
        "import multiprocessing\n",
        "import time\n",
        "import os\n",
        "import sys\n",
        "import numpy as np\n",
        "import socket\n",
        "import pickle\n",
        "import signal\n",
        "import colorama as cm\n",
        "\n",
        "# constants\n",
        "RUN_LENGTH = 600 # lenght of the simulation in seconds\n",
        "STATE_PRINTOUT_PERIOD = 15 # period of node states report\n",
        "NUMBER_OF_PRINTOUTS = RUN_LENGTH // STATE_PRINTOUT_PERIOD\n",
        "\n",
        "# play with the number of nodes and their fail/restart probabilities\n",
        "NODES_FAIL_RESTART_PROBS = [\n",
        "                               (0.15, 0.02), (0.05, 0.05), (0.02, 0.15), (0.01, 0.1), # arbitrarily chosen probabilities\n",
        "                               (0.0, 0.0), # always running node\n",
        "                               (1.0, 1.0)  # on/off node (quite interresting, how this one behaves)\n",
        "                           ]\n",
        "\n",
        "HEARTBEATS = \"HBs\"\n",
        "SENDER_ID = \"s_id\"\n",
        "IP = \"127.0.0.1\" # localhost\n",
        "PORT_OFFSET = 5500 \n",
        "\n",
        "T_MUL_CONST = 0.75 # this seems to work quite nice\n",
        "T_ADD_CONST = 0\n",
        "\n",
        "T_GOSSIP = lambda _: (\n",
        "    3\n",
        ") # The paper suggests 'T_GOSSIP = xN/B', where: x is the number of bytes per gossip message,\n",
        "  #                                              N is the number of processes and\n",
        "  #                                              B is the available bandwith.\n",
        "  # In this case, on localhost the bandwith is CPU bound - usually in Gb/s, the number of processes is expected to be low and\n",
        "  # the number of bytes send by each process is also low, although increasing with number of processes, as the heartbeat vector increases. \n",
        "  # But still in this setting the gossip time using this equation would be very small, therfore a minimum gossip time of 3 s is \n",
        "  # introduced, as the paper also suggests.\n",
        "\n",
        "T_FAIL = lambda numnodes, multiplicative_constant = 1, additive_constant = 0: (\n",
        "    T_GOSSIP(numnodes) * numnodes * np.log(numnodes) * multiplicative_constant + additive_constant\n",
        ") # From the graphs and explanations in the paper, I undetstood that 'T_FAIL' should be multiplied linearithmically by the number of nodes. \n",
        "  # By adding aditive and multiplicative constans, the 'P_misstake' can be further decreased/increased.\n",
        "\n",
        "T_CLEANUP = lambda numnodes, multiplicative_constant = 1, additive_constant = 0: (\n",
        "    2 * T_FAIL(numnodes, multiplicative_constant, additive_constant)\n",
        ") # 2 * 'T_FAIL'\n",
        "\n",
        "# node states in the heartbeat vector\n",
        "UNKNOWN_NODE = -3\n",
        "FAILED_NODE = -2\n",
        "CLEANED_NODE = -1\n",
        "ACTIVATED_NODE = 0\n",
        "\n",
        "COLORS = True # Set to 'False' to print without colors, otherwise printing without colors is only to non-terminal devices.\n",
        "TEXT_COLORS = [cm.Fore.LIGHTBLUE_EX, cm.Fore.LIGHTGREEN_EX, cm.Fore.MAGENTA, cm.Fore.LIGHTYELLOW_EX, cm.Fore.LIGHTRED_EX, cm.Fore.CYAN, \n",
        "               cm.Fore.YELLOW, cm.Fore.GREEN, cm.Fore.BLUE, cm.Fore.LIGHTMAGENTA_EX, cm.Fore.LIGHTCYAN_EX, cm.Fore.RED]\n",
        "TEXT_COLOR_LEN = len(TEXT_COLORS)\n",
        "\n",
        "def color(node_id):\n",
        "    if COLORS:\n",
        "        return f\"{TEXT_COLORS[node_id % TEXT_COLOR_LEN]}\\33[1m\"\n",
        "    else:\n",
        "        return \"\"\n",
        "\n",
        "def bg_fail():\n",
        "    if COLORS:\n",
        "        return f\"{cm.Back.RED}{cm.Fore.WHITE}\"\n",
        "    else:\n",
        "        return \"\"\n",
        "\n",
        "def bg_success():\n",
        "    if COLORS:\n",
        "        return f\"{cm.Back.GREEN}{cm.Fore.WHITE}\"\n",
        "    else:\n",
        "        return \"\"\n",
        "\n",
        "def bg_warning():\n",
        "    if COLORS:\n",
        "        return f\"{cm.Back.YELLOW}{cm.Fore.WHITE}\"\n",
        "    else:\n",
        "        return \"\"\n",
        "\n",
        "def bg_unknown():\n",
        "    if COLORS:\n",
        "        return f\"{cm.Back.BLACK}{cm.Fore.WHITE}\"\n",
        "    else:\n",
        "        return \"\"\n",
        "\n",
        "def reset():\n",
        "    if COLORS:\n",
        "        return f\"{cm.Style.RESET_ALL}\"\n",
        "    else:\n",
        "        return \"\"\n",
        "\n",
        "class Node(multiprocessing.Process): # each node is a process\n",
        "    def __init__(self, id, number_of_nodes, print_lock, fail_prob, restart_prob):\n",
        "        super(Node, self).__init__()\n",
        "        self.id = id\n",
        "        self.number_of_nodes = number_of_nodes\n",
        "        self.print_lock = print_lock\n",
        "        self.fail_prob = fail_prob\n",
        "        self.restart_prob = restart_prob\n",
        "    \n",
        "    def init(self): # other initialization only after fork() to prevent copying memory\n",
        "        self.ones = np.ones(self.number_of_nodes)\n",
        "        self.t_cleanup = T_CLEANUP(N, T_MUL_CONST, T_ADD_CONST) * self.ones\n",
        "        self.t_fail = T_FAIL(N, T_MUL_CONST, T_ADD_CONST) * self.ones\n",
        "        self.t_gossip = T_GOSSIP(N)\n",
        "        self.heartbeats = np.zeros(self.number_of_nodes) * UNKNOWN_NODE # A node does not know the state of other nodes at the beginning.\n",
        "        self.heartbeats[self.id] = ACTIVATED_NODE                       # But sets itsel to active.\n",
        "        self.last_heartbeats = np.zeros(self.number_of_nodes)  * UNKNOWN_NODE\n",
        "        self.last_heartbeats[self.id] = ACTIVATED_NODE\n",
        "        \n",
        "        # As the paper suggests \"In gossip protocols, a member forwards new information to randomly chosen members.\", the communication\n",
        "        # should be unicast, not some kind of broadcast as in the original code\n",
        "        self.gossip_socket = socket.socket(socket.AF_INET, socket.SOCK_DGRAM) # internet - UDP, transmission of gossip messages does not have to be reliable\n",
        "        self.receiver_socket = socket.socket(socket.AF_INET, socket.SOCK_DGRAM)\n",
        "        self.receiver_socket.bind((IP, PORT_OFFSET + self.id)) # node listens on this socket\n",
        "        # sockets will be closed by the OS\n",
        "\n",
        "        self.fail_timestamps = None\n",
        "        self.cleanup_timestamps = None\n",
        "        self.failed = False\n",
        "    \n",
        "    def timestamps_reset(self):\n",
        "        current_time = time.time() # initiate timestamps to current time\n",
        "        self.fail_timestamps = self.ones * current_time\n",
        "        self.cleanup_timestamps = self.ones * current_time\n",
        "\n",
        "    def stop(self):\n",
        "        self.terminate()\n",
        "        self.join()\n",
        "        \n",
        "    def print_state(self, *_):\n",
        "        with self.print_lock:\n",
        "            print(f\"{color(self.id)}Node {self.id}{reset()} is {f'{bg_fail()}not working{reset()}.' if self.failed else f'{bg_success()}working{reset()}, its perception of the network is:'}{reset()}\", file=sys.stderr)\n",
        "            if not self.failed:\n",
        "                for i, heartbeat in enumerate(self.heartbeats):\n",
        "                    if i != self.id:\n",
        "                        print(f\"   {color(i)}Node {i}{reset()} is {f'{bg_warning()}failed' if heartbeat == FAILED_NODE else f'{bg_fail()}cleaned' if heartbeat == CLEANED_NODE else f'{bg_unknown()}unknown' if heartbeat == UNKNOWN_NODE else f'{bg_success()}running'}{reset()}.\", file=sys.stderr)\n",
        "    \n",
        "    def verbose_heartbeats(self):\n",
        "        heartbeats = \"[ \"\n",
        "        for heartbeat in self.heartbeats:\n",
        "            if heartbeat == FAILED_NODE:\n",
        "                heartbeats += \"failed \"\n",
        "            elif heartbeat == CLEANED_NODE:\n",
        "                heartbeats += \"cleaned \"\n",
        "            elif heartbeat == UNKNOWN_NODE:\n",
        "                heartbeats += \"unknown \"\n",
        "            else:\n",
        "                heartbeats += f\"{int(heartbeat)} \"\n",
        "        heartbeats += \"]\"\n",
        "        return heartbeats\n",
        "    \n",
        "    def register_signal_handlers(self):\n",
        "        signal.signal(signal.SIGUSR1, self.print_state) # signal handler to print the state of a node\n",
        "        signal.siginterrupt(signal.SIGUSR1, False)\n",
        "\n",
        "    def run(self):\n",
        "        self.register_signal_handlers()\n",
        "        self.init() # initialize necessary variables\n",
        "\n",
        "        # Randomly waiting before nodes start to gossip as described in the paper: \"In practice, the protocols are not run in rounds. \n",
        "        # Each member gossips at regular intervals, but the intervals are not synchronized.\"\n",
        "        sleep_time = random.uniform(0.0, N)\n",
        "        with self.print_lock:\n",
        "            print(f\"{color(self.id)}Node {self.id}{reset()} is waiting for {sleep_time} s befor sending first gossip messages...\", file=sys.stderr)\n",
        "        time.sleep(sleep_time)\n",
        "\n",
        "        self.timestamps_reset()\n",
        "\n",
        "        while True:\n",
        "            if self.failed:\n",
        "                if random.random() <= self.restart_prob: # Process can be restarted with a given probability.\n",
        "                    self.failed = False\n",
        "                    self.timestamps_reset()\n",
        "                    for i in range(N):\n",
        "                        self.heartbeats[i] = UNKNOWN_NODE # Node does not know the state of other nodes after restarting.\n",
        "                        self.last_heartbeats[i] = UNKNOWN_NODE\n",
        "\n",
        "                    self.heartbeats[self.id] = ACTIVATED_NODE # Sets its heartbeat to active again.\n",
        "                    self.last_heartbeats[self.id] = ACTIVATED_NODE\n",
        "                    with self.print_lock:\n",
        "                        print(f\"{color(self.id)}Node {self.id}{reset()} {bg_success()}restarted{reset()}.\", file=sys.stderr)\n",
        "            else:\n",
        "                self.send_gossip()\n",
        "                if random.random() <= self.fail_prob: # Process can fail with a given probability.\n",
        "                    self.failed = True\n",
        "                    with self.print_lock:\n",
        "                        print(f\"{color(self.id)}Node {self.id}{reset()} {bg_fail()}failed{reset()}.\", file=sys.stderr)\n",
        "\n",
        "            try: # Waiting on a single socket is used instead of polling multiple sockets, which was used in the previous code. \n",
        "                 # Combined waiting up to T_GOSSIP, then new gossip message must be sent.\n",
        "                sleep_start = time.time() # timestamp of the start of the waiting\n",
        "                current_time = sleep_start\n",
        "                while sleep_start + self.t_gossip > current_time: # waited less than for T_GOSSIP\n",
        "                    self.receiver_socket.settimeout(sleep_start + self.t_gossip - current_time) # set the timeout to wait exactly for T_GOSSIP to be fullfilled\n",
        "                    message = self.receiver_socket.recvfrom(65507) # expecting the gossip message is never larger than maximum UDP payload size\n",
        "                    message = pickle.loads(message[0]) # deserilize\n",
        "                    if not self.failed: # Message is processed only if the node is running.\n",
        "                        self.process_gossip(message) # Parses the gossip message and updates heartbeats.\n",
        "                    current_time = time.time()\n",
        "\n",
        "            except: # socket timed out, waiting for T_GOSSIP was fullfiled\n",
        "                pass\n",
        "    \n",
        "    def send_gossip(self):\n",
        "        heartbeats_numpy = np.array(self.heartbeats)\n",
        "        heartbeats_numpy[self.id] = CLEANED_NODE # Mark self as cleaned to exclude the possibility of sending messages to itself.\n",
        "        heartbeats_numpy = np.where((heartbeats_numpy != FAILED_NODE) & (heartbeats_numpy != CLEANED_NODE))[0] # exclude failed and cleaned processes\n",
        "\n",
        "        if heartbeats_numpy.shape[0]: # only send message if there is any listener\n",
        "            listener_id = heartbeats_numpy[random.randint(0, heartbeats_numpy.shape[0] - 1)] # select randomly another node\n",
        "\n",
        "            with self.print_lock:\n",
        "                print(f\"{color(self.id)}Node {self.id}{reset()} gossips to {color(listener_id)}node {listener_id}{reset()}.\", file=sys.stdout)\n",
        "\n",
        "            self.heartbeats[self.id] += 1 # increase its heartbeat\n",
        "            status = { SENDER_ID: int(self.id), HEARTBEATS: self.heartbeats }\n",
        "            self.gossip_socket.sendto(\n",
        "                pickle.dumps(status), (IP, PORT_OFFSET + listener_id)\n",
        "            ) # serilize and send a message to one specific node - unicast\n",
        "\n",
        "    def process_gossip(self, message):\n",
        "        current_time = time.time()\n",
        "        recieved_heartbeats = message[HEARTBEATS]\n",
        "        updated_heartbeats_mask = recieved_heartbeats > self.last_heartbeats  # mask, where recieved hearbeats are higher than current\n",
        "\n",
        "        self.fail_timestamps *= ~updated_heartbeats_mask # mask out changed timestamps\n",
        "        self.fail_timestamps += current_time * updated_heartbeats_mask # set masked timestamps to current time\n",
        "\n",
        "        self.cleanup_timestamps *= ~updated_heartbeats_mask # mask out changed timestamps\n",
        "        self.cleanup_timestamps += current_time * updated_heartbeats_mask # set masked timestamps to current time\n",
        "\n",
        "        updated_heartbeats = np.max(\n",
        "            np.stack((self.last_heartbeats, recieved_heartbeats)\n",
        "        ), axis=0).astype(np.float64) # merge the heartbeat lists and adopt the maximum value for each member\n",
        "\n",
        "        cleaned_processes_mask = self.cleanup_timestamps < (current_time - self.t_cleanup) # mask, where heartbeats weren't updated for T_CLEANUP\n",
        "        updated_heartbeats *= ~cleaned_processes_mask # mask out cleaned processes\n",
        "        updated_heartbeats += self.ones * CLEANED_NODE * cleaned_processes_mask # set the cleaned processes as cleaned\n",
        "        self.last_heartbeats = updated_heartbeats.copy() # keep a copy, where failed processes remain with current heartbeat value\n",
        "\n",
        "        failed_processes_mask = (self.fail_timestamps < (current_time - self.t_fail)) & ~cleaned_processes_mask # mask, where heartbeats weren't updated for T_FAIL and aren't cleaned\n",
        "        updated_heartbeats *= ~failed_processes_mask # mask out failed processes\n",
        "        updated_heartbeats += self.ones * FAILED_NODE * failed_processes_mask # set fail processes as failed, so they are not resend\n",
        "\n",
        "        self.heartbeats = updated_heartbeats # update the heartbeats, which are going to be sent in the next gossip iteration\n",
        "\n",
        "        with self.print_lock:\n",
        "            print(f\"{color(self.id)}Node {self.id}{reset()} received gossip from {color(message[SENDER_ID])}node {message[SENDER_ID]}{reset()}, neighborship list: {color(self.id)}{self.verbose_heartbeats()}{reset()}\", file=sys.stdout)\n",
        "\n",
        "def run_network(network, print_lock):\n",
        "    for node in network: # start node processes\n",
        "        node.start()\n",
        "    \n",
        "    for i in range(1, NUMBER_OF_PRINTOUTS + 1): # run the simulation for a given time\n",
        "        time.sleep(STATE_PRINTOUT_PERIOD)\n",
        "        with print_lock:\n",
        "            print(f\"\\nState of the network at time {i * STATE_PRINTOUT_PERIOD}:\", file=sys.stderr) \n",
        "        for node in network:\n",
        "            os.kill(node.pid, signal.SIGUSR1)\n",
        "\n",
        "    for node in network: # terminate and join node processes\n",
        "        node.stop()\n",
        "\n",
        "if __name__ == \"__main__\":\n",
        "    if not sys.stdout.isatty(): # When the output of the script is not a terminal, print without colors.\n",
        "        COLORS = False\n",
        "\n",
        "    print(f\"{reset()}\", end=\"\", file=sys.stdout)\n",
        "    N = len(NODES_FAIL_RESTART_PROBS)\n",
        "    print(f\"T_gossip: {T_GOSSIP(N)} s, T_fail: {T_FAIL(N, T_MUL_CONST, T_ADD_CONST)} s, T_cleanup: {T_CLEANUP(N, T_MUL_CONST, T_ADD_CONST)} s\", file=sys.stderr)\n",
        "\n",
        "    print_lock = multiprocessing.Lock() # Process safe mutex to ensure processes, that don't print over each other.\n",
        "    network = [Node(id, N, print_lock, fail_prob, restart_prob)\n",
        "                  for id, (fail_prob, restart_prob) in enumerate(NODES_FAIL_RESTART_PROBS)]\n",
        "    try:\n",
        "        run_network(network, print_lock)\n",
        "    except KeyboardInterrupt: # ensure all processes terminate\n",
        "        with print_lock:\n",
        "            print(\"\\nTerminating...\\n\", file=sys.stderr)\n",
        "        for node in network:\n",
        "            node.stop()\n"
      ]
    },
    {
      "cell_type": "markdown",
      "metadata": {
        "id": "NSKn39cG99jO"
      },
      "source": [
        "A sample output of the above example may look like this:\n",
        "```\n",
        "Node IDs:  [1 0]\n",
        "Listener:1\n",
        "Listener:0\n",
        "GOSSIP msg sent by 1 to 0\n",
        "GOSSIP msg received by 0 from 1\n",
        "GOSSIP msg sent by 0 to 1\n",
        "GOSSIP msg received by 1 from 0\n",
        "GOSSIP msg sent by 1 to 0\n",
        "Terminating 0 ...\n",
        "GOSSIP msg received by 0 from 1\n",
        "GOSSIP msg sent by 1 to 0\n",
        "GOSSIP msg sent by 1 to 0\n",
        "GOSSIP msg sent by 1 to 0\n",
        "GOSSIP msg sent by 1 to 0\n",
        "GOSSIP msg sent by 1 to 0\n",
        "Terminating 1 ...\n",
        "```"
      ]
    },
    {
      "cell_type": "markdown",
      "metadata": {
        "id": "k2wSog_eCU-H"
      },
      "source": [
        "## A Gossip Style Failure Detection Service\n",
        "\n",
        "In this homework, you are asked to modify and extend the above example to implement a gossip style failure detection protocol based on the following publication: https://www.cs.cornell.edu/home/rvr/papers/GossipFD.pdf. The protocol was also covered in the lecture. The essential points are summarized below (also see Section 2 in the paper and revisit the slides of Lecture 4 -- Coordination). \n",
        "\n",
        "Each node maintains a list with for each known node its address and an integer which is going to be used for failure detection. We call the integer the _heartbeat counter_. Every $T_{gossip}$ seconds, each node increments its own heartbeat counter, and selects one other node at random to send its list to. Upon receipt of such a gossip message, a node merges the list in the message with its own list, and adopts the maximum heartbeat counter for each node.\n",
        "\n",
        "Each node also maintains, for each other node in the list, the last time that its corresponding heartbeat counter has increased. If the heartbeat counter has not increased for more than $T_{fail}$ seconds, then the node is considered failed. $T_{fail}$ is selected so that the probability that anybody makes an erroneous failure detection is less than some small threshold $P_{mistake}$.\n",
        "\n",
        "After a node is considered faulty, it cannot immediately be forgotten about. The problem is that not all nodes will detect failures at the same time, and thus a node A may receive a gossip about another node B that A has previously detected as faulty. If A had forgotten about B, it would reinstall B in its membership list, since A would think that it was seeing B’s heartbeat for the first time. A would continue to gossip this information on to other nodes, and, in effect, the faulty node B never quite disappears from the membership.\n",
        "\n",
        "Therefore, the failure detector does not remove a node from its membership list until after $T_{cleanup}$ seconds ($T_{cleanup} \\geq T_{fail}$). $T_{cleanup}$ is chosen so that the probability that a gossip is received about this node, after it has been detected as faulty, is less than some small threshold $P_{cleanup}$. We can make $P_{cleanup}$ equal to $P_{fail}$ by setting $T_{cleanup}$ to $2 \\times T_{fail}$.\n",
        "\n",
        "To see why, let B be some failed node, and consider another node A that heard B’s last heartbeat at time $t$. With probability $P_{fail}$, every other node will have heard B’s last heartbeat by $t+T_{fail}$, and so every process will fail B by time $t+2\\times T_{fail}$. Thus, if we set $T_{cleanup}$ to $2\\times T_{fail}$, then with probability $P_{fail}$, no failed node will ever reappear on A’s list of nodes once that node has been removed."
      ]
    },
    {
      "cell_type": "markdown",
      "metadata": {
        "id": "llviuq-77XS7"
      },
      "source": [
        "## 1 - Gossiping Neighborship Lists [6 points]\n",
        "\n",
        "**Your task:** Modify the sample code above to make nodes gossip their neighborship lists to a randomly chosen neighbor."
      ]
    },
    {
      "cell_type": "markdown",
      "metadata": {
        "id": "MB9Und0-_BPu"
      },
      "source": [
        "## 2 - Receiving and Updating Neighborship Lists [6 points]\n",
        "\n",
        "**Your task:** Extend the code to correctly update the neighborship lists maintained by every node."
      ]
    },
    {
      "cell_type": "markdown",
      "metadata": {
        "id": "HPyhwbAT_BCM"
      },
      "source": [
        "## 3 - Detect Node Failures [8 points]\n",
        "\n",
        "**Your task:** Extend the code to correctly handle node failures by maintaining $T_{fail}$ and $T_{cleanup}$ timeouts and updating the neighborbood list according to the protocol."
      ]
    },
    {
      "cell_type": "markdown",
      "metadata": {
        "id": "5AXgCZ6pzoO4"
      },
      "source": [
        "## 4 - How to Submit Your Solution?\n",
        "\n",
        "Download your notebook (File --> Download --> Download .ipynb) and send per email to [saukh@tugraz.at](mailto:saukh@tugraz.at)."
      ]
    }
  ],
  "metadata": {
    "colab": {
      "collapsed_sections": [],
      "provenance": [],
      "toc_visible": true
    },
    "kernelspec": {
      "display_name": "Python 3.10.6 64-bit",
      "language": "python",
      "name": "python3"
    },
    "language_info": {
      "codemirror_mode": {
        "name": "ipython",
        "version": 3
      },
      "file_extension": ".py",
      "mimetype": "text/x-python",
      "name": "python",
      "nbconvert_exporter": "python",
      "pygments_lexer": "ipython3",
      "version": "3.10.6"
    },
    "vscode": {
      "interpreter": {
        "hash": "916dbcbb3f70747c44a77c7bcd40155683ae19c65e1c03b4aa3499c5328201f1"
      }
    }
  },
  "nbformat": 4,
  "nbformat_minor": 0
}
