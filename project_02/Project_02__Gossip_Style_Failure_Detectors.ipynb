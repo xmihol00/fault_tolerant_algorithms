{
  "cells": [
    {
      "cell_type": "markdown",
      "metadata": {
        "id": "hIG3sDBFyebw"
      },
      "source": [
        "# Project 2 -- Gossip Style Failure Detectors\n",
        "\n",
        "## Instructions\n",
        "\n",
        "Please read carefully:\n",
        "\n",
        "* Solve the project yourself. No teamwork.\n",
        "* If you have questions, please post these in the public channel on Slack. The answers may be relevant to others as well. \n",
        "* Feel free to import and use any additional Python package you need.\n",
        "* You are allowed to solve the project using a different programming language. In this case, please send me your full code and instructions how to run it (in this case you may have to use a different socket library).\n",
        "* Your code may be tested on more than 2 nodes. Two nodes are used for the sake of an example.\n",
        "* In case you experience errors when running your code - read the error carefully. It may happen that the port has not been freed and you just need to wait for a few more seconds to fix the problem.\n",
        "* Make sure to fill in your `student_name` in the following block below."
      ]
    },
    {
      "cell_type": "code",
      "execution_count": null,
      "metadata": {
        "id": "NRQm4C5L0AsG"
      },
      "outputs": [],
      "source": [
        "student_name = 'David Mihola' # fill with your student name\n",
        "assert student_name != 'your_student_name', 'Please fill in your student_name before you start.'"
      ]
    },
    {
      "cell_type": "markdown",
      "metadata": {
        "id": "nmM9HxEAJCdX"
      },
      "source": [
        "## Setup\n",
        "\n",
        "Necessary imports:"
      ]
    },
    {
      "cell_type": "code",
      "execution_count": null,
      "metadata": {
        "id": "5-T2qzKHJF5k"
      },
      "outputs": [],
      "source": [
        "import random\n",
        "import threading\n",
        "import multiprocessing\n",
        "import os\n",
        "import time\n",
        "import zmq\n",
        "import sys\n",
        "import numpy as np"
      ]
    },
    {
      "cell_type": "markdown",
      "metadata": {
        "id": "2aL0oIQ0z-9F"
      },
      "source": [
        "You will be sending and receiving messages via sockets. We will use ZeroMQ library, is a  high-performance asynchronous messaging library, aimed at use in distributed or concurrent applications. ZeroMQ simplifies communication handling between distributed nodes. ZeroMQ reference guide: https://zguide.zeromq.org/docs/chapter2/ \n",
        "\n",
        "\n",
        "Below you will find an example of generating a pair of communicating nodes, which periodically exchange messages. Both nodes eventually terminate. "
      ]
    },
    {
      "cell_type": "code",
      "execution_count": null,
      "metadata": {
        "id": "80QhwUJjBA06"
      },
      "outputs": [],
      "source": [
        "def gossip(n, N, msgNet):\n",
        "    # create a listener\n",
        "    listener_thread = threading.Thread(target=responder,args=(n, N, msgNet))\n",
        "    listener_thread.start()\n",
        "\n",
        "    # Creates a publisher socket for sending messages\n",
        "    context = zmq.Context()\n",
        "    s = context.socket(zmq.PUB)\n",
        "    s.bind(f\"tcp://127.0.0.1:{(5550 + n)}\")\n",
        "    msgNet[n]['SOCKET'] = s\n",
        "\n",
        "    # Waiting for the listener thread sockets to connect\n",
        "    time.sleep(3)\n",
        "\n",
        "    while(msgNet[n]['TERMINATE'] == False):\n",
        "        # Choose a random neighbor, compile and send it a GOSSIP message\n",
        "        p = n\n",
        "        while (p==n):\n",
        "          p = random.randint(0,N-1)\n",
        "        print(\"GOSSIP msg sent by {} to {}\".format(n, p))\n",
        "        status = {\"sender_id\": int(n), \"receiver_id\": p, \"msg\": True}\n",
        "        s.send_string(\"GOSSIP\", flags=zmq.SNDMORE)\n",
        "        s.send_json(status)\n",
        "        time.sleep(5)\n",
        "\n",
        "        # Process can fail with a small probability\n",
        "        if (random.randint(0,3)<1):\n",
        "            msgNet[n]['TERMINATE'] = True;\n",
        "        \n",
        "    print(\"Terminating {} ...\".format(n))\n",
        "    listener_thread.join()\n",
        "\n",
        "\n",
        "def responder(n, N, msgNet):\n",
        "    pid = os.getpid()\n",
        "    print(\"Listener:{}\".format(n))\n",
        "\n",
        "    context = zmq.Context()\n",
        "    \n",
        "    # Create subscriber sockets for each process\n",
        "    sockets = [k for k in range(N)]\n",
        "    for p in range(N):\n",
        "        s = context.socket(zmq.SUB)\n",
        "        s.connect(f\"tcp://127.0.0.1:{5550 + p}\")\n",
        "        s.subscribe(\"GOSSIP\")\n",
        "        s.subscribe(\"TERMINATE\")\n",
        "        sockets[p] = s\n",
        "\n",
        "    # Listening all nodes\n",
        "    while not msgNet[n]['TERMINATE']:\n",
        "        for p in range(N):\n",
        "            s = sockets[p]\n",
        "            try:\n",
        "                s.RCVTIMEO = 100\n",
        "                msg_type = s.recv_string()\n",
        "                msg = s.recv_json()\n",
        "\n",
        "                # Notifies the main thread to terminate\n",
        "                if(msg_type == \"TERMINATE\" and msg['receiver_id'] == n):\n",
        "                    print(\"TERMINATE msg received by {} from {}\".format(n, msg['sender_id']))\n",
        "                    break\n",
        "\n",
        "                elif(msg_type == \"GOSSIP\" and msg['receiver_id'] == n):\n",
        "                    print(\"GOSSIP msg received by {} from {}\".format(n, msg['sender_id']))\n",
        "            except:\n",
        "                pass\n",
        "            \n",
        "\n",
        "# Test above implementation on a pair of nodes\n",
        "numnodes = 2\n",
        "nodes = np.arange(numnodes)\n",
        "np.random.shuffle(nodes)\n",
        "print(\"Node IDs: \", nodes)\n",
        "\n",
        "msgNet = [dict() for k in range(numnodes)]\n",
        "for k in range(numnodes):\n",
        "    msgNet[k]['GOSSIP'] = False\n",
        "    msgNet[k]['TERMINATE'] = False\n",
        "    msgNet[k]['SOCKET'] = None\n",
        "\n",
        "processes = []\n",
        "for n in nodes:\n",
        "    p = multiprocessing.Process(target=gossip, args=(n, numnodes, msgNet))\n",
        "    processes.append(p)\n",
        "    \n",
        "# Start node processes\n",
        "for p in processes:\n",
        "    p.start()\n",
        " \n",
        "# Join node processes\n",
        "for p in processes:\n",
        "    p.join()"
      ]
    },
    {
      "cell_type": "markdown",
      "metadata": {
        "id": "NSKn39cG99jO"
      },
      "source": [
        "A sample output of the above example may look like this:\n",
        "```\n",
        "Node IDs:  [1 0]\n",
        "Listener:1\n",
        "Listener:0\n",
        "GOSSIP msg sent by 1 to 0\n",
        "GOSSIP msg received by 0 from 1\n",
        "GOSSIP msg sent by 0 to 1\n",
        "GOSSIP msg received by 1 from 0\n",
        "GOSSIP msg sent by 1 to 0\n",
        "Terminating 0 ...\n",
        "GOSSIP msg received by 0 from 1\n",
        "GOSSIP msg sent by 1 to 0\n",
        "GOSSIP msg sent by 1 to 0\n",
        "GOSSIP msg sent by 1 to 0\n",
        "GOSSIP msg sent by 1 to 0\n",
        "GOSSIP msg sent by 1 to 0\n",
        "Terminating 1 ...\n",
        "```"
      ]
    },
    {
      "cell_type": "markdown",
      "metadata": {
        "id": "k2wSog_eCU-H"
      },
      "source": [
        "## A Gossip Style Failure Detection Service\n",
        "\n",
        "In this homework, you are asked to modify and extend the above example to implement a gossip style failure detection protocol based on the following publication: https://www.cs.cornell.edu/home/rvr/papers/GossipFD.pdf. The protocol was also covered in the lecture. The essential points are summarized below (also see Section 2 in the paper and revisit the slides of Lecture 4 -- Coordination). \n",
        "\n",
        "Each node maintains a list with for each known node its address and an integer which is going to be used for failure detection. We call the integer the _heartbeat counter_. Every $T_{gossip}$ seconds, each node increments its own heartbeat counter, and selects one other node at random to send its list to. Upon receipt of such a gossip message, a node merges the list in the message with its own list, and adopts the maximum heartbeat counter for each node.\n",
        "\n",
        "Each node also maintains, for each other node in the list, the last time that its corresponding heartbeat counter has increased. If the heartbeat counter has not increased for more than $T_{fail}$ seconds, then the node is considered failed. $T_{fail}$ is selected so that the probability that anybody makes an erroneous failure detection is less than some small threshold $P_{mistake}$.\n",
        "\n",
        "After a node is considered faulty, it cannot immediately be forgotten about. The problem is that not all nodes will detect failures at the same time, and thus a node A may receive a gossip about another node B that A has previously detected as faulty. If A had forgotten about B, it would reinstall B in its membership list, since A would think that it was seeing B’s heartbeat for the first time. A would continue to gossip this information on to other nodes, and, in effect, the faulty node B never quite disappears from the membership.\n",
        "\n",
        "Therefore, the failure detector does not remove a node from its membership list until after $T_{cleanup}$ seconds ($T_{cleanup} \\geq T_{fail}$). $T_{cleanup}$ is chosen so that the probability that a gossip is received about this node, after it has been detected as faulty, is less than some small threshold $P_{cleanup}$. We can make $P_{cleanup}$ equal to $P_{fail}$ by setting $T_{cleanup}$ to $2 \\times T_{fail}$.\n",
        "\n",
        "To see why, let B be some failed node, and consider another node A that heard B’s last heartbeat at time $t$. With probability $P_{fail}$, every other node will have heard B’s last heartbeat by $t+T_{fail}$, and so every process will fail B by time $t+2\\times T_{fail}$. Thus, if we set $T_{cleanup}$ to $2\\times T_{fail}$, then with probability $P_{fail}$, no failed node will ever reappear on A’s list of nodes once that node has been removed."
      ]
    },
    {
      "cell_type": "markdown",
      "metadata": {
        "id": "llviuq-77XS7"
      },
      "source": [
        "## 1 - Gossiping Neighborship Lists [6 points]\n",
        "\n",
        "**Your task:** Modify the sample code above to make nodes gossip their neighborship lists to a randomly chosen neighbor."
      ]
    },
    {
      "cell_type": "markdown",
      "metadata": {
        "id": "MB9Und0-_BPu"
      },
      "source": [
        "## 2 - Receiving and Updating Neighborship Lists [6 points]\n",
        "\n",
        "**Your task:** Extend the code to correctly update the neighborship lists maintained by every node."
      ]
    },
    {
      "cell_type": "markdown",
      "metadata": {
        "id": "HPyhwbAT_BCM"
      },
      "source": [
        "## 3 - Detect Node Failures [8 points]\n",
        "\n",
        "**Your task:** Extend the code to correctly handle node failures by maintaining $T_{fail}$ and $T_{cleanup}$ timeouts and updating the neighborbood list according to the protocol."
      ]
    },
    {
      "cell_type": "markdown",
      "metadata": {
        "id": "5AXgCZ6pzoO4"
      },
      "source": [
        "## 4 - How to Submit Your Solution?\n",
        "\n",
        "Download your notebook (File --> Download --> Download .ipynb) and send per email to [saukh@tugraz.at](mailto:saukh@tugraz.at)."
      ]
    },
    {
      "cell_type": "code",
      "execution_count": null,
      "metadata": {
        "id": "hlA86iBu-9RG"
      },
      "outputs": [],
      "source": []
    }
  ],
  "metadata": {
    "colab": {
      "collapsed_sections": [],
      "provenance": [],
      "toc_visible": true
    },
    "kernelspec": {
      "display_name": "Python 3.10.6 64-bit",
      "language": "python",
      "name": "python3"
    },
    "language_info": {
      "name": "python",
      "version": "3.10.6"
    },
    "vscode": {
      "interpreter": {
        "hash": "916dbcbb3f70747c44a77c7bcd40155683ae19c65e1c03b4aa3499c5328201f1"
      }
    }
  },
  "nbformat": 4,
  "nbformat_minor": 0
}
