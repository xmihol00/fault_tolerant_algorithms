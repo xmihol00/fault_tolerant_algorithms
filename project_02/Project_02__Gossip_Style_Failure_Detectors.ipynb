{
  "cells": [
    {
      "cell_type": "markdown",
      "metadata": {
        "id": "hIG3sDBFyebw"
      },
      "source": [
        "# Project 2 -- Gossip Style Failure Detectors\n",
        "\n",
        "## Instructions\n",
        "\n",
        "Please read carefully:\n",
        "\n",
        "* Solve the project yourself. No teamwork.\n",
        "* If you have questions, please post these in the public channel on Slack. The answers may be relevant to others as well. \n",
        "* Feel free to import and use any additional Python package you need.\n",
        "* You are allowed to solve the project using a different programming language. In this case, please send me your full code and instructions how to run it (in this case you may have to use a different socket library).\n",
        "* Your code may be tested on more than 2 nodes. Two nodes are used for the sake of an example.\n",
        "* In case you experience errors when running your code - read the error carefully. It may happen that the port has not been freed and you just need to wait for a few more seconds to fix the problem.\n",
        "* Make sure to fill in your `student_name` in the following block below."
      ]
    },
    {
      "cell_type": "code",
      "execution_count": 1,
      "metadata": {
        "id": "NRQm4C5L0AsG"
      },
      "outputs": [],
      "source": [
        "student_name = 'David Mihola' # fill with your student name\n",
        "assert student_name != 'your_student_name', 'Please fill in your student_name before you start.'"
      ]
    },
    {
      "cell_type": "markdown",
      "metadata": {
        "id": "nmM9HxEAJCdX"
      },
      "source": [
        "## Setup\n",
        "\n",
        "Necessary imports:"
      ]
    },
    {
      "cell_type": "code",
      "execution_count": 4,
      "metadata": {
        "id": "5-T2qzKHJF5k"
      },
      "outputs": [
        {
          "ename": "TypeError",
          "evalue": "unsupported operand type(s) for -: 'list' and 'list'",
          "output_type": "error",
          "traceback": [
            "\u001b[0;31m---------------------------------------------------------------------------\u001b[0m",
            "\u001b[0;31mTypeError\u001b[0m                                 Traceback (most recent call last)",
            "\u001b[1;32m/mnt/sdc3/david/projs/fault_tolerant_systems/project_02/Project_02__Gossip_Style_Failure_Detectors.ipynb Cell 4\u001b[0m in \u001b[0;36m<cell line: 22>\u001b[0;34m()\u001b[0m\n\u001b[1;32m     <a href='vscode-notebook-cell:/mnt/sdc3/david/projs/fault_tolerant_systems/project_02/Project_02__Gossip_Style_Failure_Detectors.ipynb#W3sZmlsZQ%3D%3D?line=18'>19</a>\u001b[0m CONNECTION \u001b[39m=\u001b[39m \u001b[39m\"\u001b[39m\u001b[39mtcp://127.0.0.1\u001b[39m\u001b[39m\"\u001b[39m\n\u001b[1;32m     <a href='vscode-notebook-cell:/mnt/sdc3/david/projs/fault_tolerant_systems/project_02/Project_02__Gossip_Style_Failure_Detectors.ipynb#W3sZmlsZQ%3D%3D?line=19'>20</a>\u001b[0m T_GOSSIP \u001b[39m=\u001b[39m \u001b[39m5\u001b[39m\n\u001b[0;32m---> <a href='vscode-notebook-cell:/mnt/sdc3/david/projs/fault_tolerant_systems/project_02/Project_02__Gossip_Style_Failure_Detectors.ipynb#W3sZmlsZQ%3D%3D?line=21'>22</a>\u001b[0m [\u001b[39m2\u001b[39;49m, \u001b[39m3\u001b[39;49m] \u001b[39m-\u001b[39;49m [\u001b[39m1\u001b[39;49m, \u001b[39m2\u001b[39;49m]\n",
            "\u001b[0;31mTypeError\u001b[0m: unsupported operand type(s) for -: 'list' and 'list'"
          ]
        }
      ],
      "source": [
        "import random\n",
        "import threading\n",
        "import multiprocessing\n",
        "import os\n",
        "import time\n",
        "import zmq\n",
        "import sys\n",
        "import numpy as np\n",
        "\n",
        "# constants\n",
        "GOSSIP = \"GOSSIP\"\n",
        "TERMINATE = \"TERMINATE\"\n",
        "SOCKET = \"SOCKET\"\n",
        "HEARTBEATS = \"HEARTBEATS\"\n",
        "\n",
        "SENDER_ID = \"sender_id\"\n",
        "RECEIVER_ID = \"receiver_id\"\n",
        "\n",
        "CONNECTION = \"tcp://127.0.0.1\"\n",
        "T_GOSSIP = 5\n"
      ]
    },
    {
      "cell_type": "markdown",
      "metadata": {
        "id": "2aL0oIQ0z-9F"
      },
      "source": [
        "You will be sending and receiving messages via sockets. We will use ZeroMQ library, is a  high-performance asynchronous messaging library, aimed at use in distributed or concurrent applications. ZeroMQ simplifies communication handling between distributed nodes. ZeroMQ reference guide: https://zguide.zeromq.org/docs/chapter2/ \n",
        "\n",
        "\n",
        "Below you will find an example of generating a pair of communicating nodes, which periodically exchange messages. Both nodes eventually terminate. "
      ]
    },
    {
      "cell_type": "code",
      "execution_count": 4,
      "metadata": {
        "id": "80QhwUJjBA06"
      },
      "outputs": [
        {
          "name": "stdout",
          "output_type": "stream",
          "text": [
            "Node IDs:  [0 2 1]\n",
            "Sender is up and runinng, waits for 4.0265330069428895 s befor sending messages.Listener: 1 is up and running...Listener: 0 is up and running...Listener: 2 is up and running...\n",
            "\n",
            "\n",
            "Sender is up and runinng, waits for 2.291897107880947 s befor sending messages.\n",
            "Sender is up and runinng, waits for 2.4925370011348926 s befor sending messages.\n",
            "\n",
            "GOSSIP msg sent by 1 to 0\n",
            "GOSSIP message received by 0 from 1, heartbeats: [0, 1, 0]\n",
            "GOSSIP msg sent by 0 to 1\n",
            "GOSSIP message received by 1 from 0, heartbeats: [1, 1, 0]\n",
            "GOSSIP msg sent by 2 to 1\n",
            "GOSSIP message received by 1 from 2, heartbeats: [0, 0, 1]\n",
            "GOSSIP msg sent by 1 to 0\n",
            "GOSSIP message received by 0 from 1, heartbeats: [1, 2, 1]\n",
            "GOSSIP msg sent by 0 to 2\n",
            "GOSSIP message received by 2 from 0, heartbeats: [2, 2, 1]\n",
            "Terminating 2 ...\n",
            "Terminating 1 ...\n",
            "GOSSIP msg sent by 0 to 2\n",
            "GOSSIP msg sent by 0 to 1\n",
            "GOSSIP msg sent by 0 to 1\n",
            "GOSSIP msg sent by 0 to 2\n",
            "Terminating 0 ...\n"
          ]
        }
      ],
      "source": [
        "def gossip(n, N, msgNet):\n",
        "    # create a listener\n",
        "    listener_thread = threading.Thread(target=responder,args=(n, N, msgNet))\n",
        "    listener_thread.start()\n",
        "    current_process = msgNet[n]\n",
        "\n",
        "    # Creates a publisher socket for sending messages\n",
        "    context = zmq.Context()\n",
        "    s = context.socket(zmq.PUB)\n",
        "    s.bind(f\"{CONNECTION}:{(5550 + n)}\")\n",
        "    current_process[SOCKET] = s\n",
        "\n",
        "    # Randomly waiting for the listener thread sockets to connect, so the gossips messages send below are spreaded evenly accross time as \n",
        "    # described in the paper: \"In practice, the protocols are not run in rounds. Each member gossips at regular intervals, but the intervals \n",
        "    # are not synchronized.\"\n",
        "    sleep_time = random.uniform(2.0, N + 2.0)\n",
        "    print(f\"Sender is up and runinng, waits for {sleep_time} s befor sending messages.\")\n",
        "    time.sleep(random.randint(2, N + 2))\n",
        "\n",
        "    while not current_process[TERMINATE]:\n",
        "        # Choose a random neighbor, compile and send it a GOSSIP message\n",
        "        p = n\n",
        "        while p == n: # exclude the possibility of sending messages to itself\n",
        "          p = random.randint(0, N - 1)\n",
        "\n",
        "        print(f\"{GOSSIP} msg sent by {n} to {p}\")\n",
        "        current_process[HEARTBEATS][n] += 1 # increase its heartbeat\n",
        "        status = { SENDER_ID: int(n), RECEIVER_ID: p, HEARTBEATS: current_process[HEARTBEATS] }\n",
        "        s.send_string(GOSSIP, flags=zmq.SNDMORE)\n",
        "        s.send_json(status)\n",
        "        time.sleep(T_GOSSIP)\n",
        "\n",
        "        # Process can fail with a small probability\n",
        "        if random.randint(0, 3) < 1:\n",
        "            current_process[TERMINATE] = True\n",
        "        \n",
        "    print(f\"Terminating {n} ...\")\n",
        "    listener_thread.join()\n",
        "\n",
        "\n",
        "def responder(n, N, msgNet):\n",
        "    print(f\"Listener: {n} is up and running...\")\n",
        "    current_process = msgNet[n]\n",
        "\n",
        "    context = zmq.Context()\n",
        "    \n",
        "    # Create subscriber sockets for each process\n",
        "    sockets = [k for k in range(N)]\n",
        "    for p in range(N):\n",
        "        s = context.socket(zmq.SUB)\n",
        "        s.connect(f\"{CONNECTION}:{5550 + p}\")\n",
        "        s.subscribe(GOSSIP)\n",
        "        s.subscribe(TERMINATE)\n",
        "        sockets[p] = s\n",
        "\n",
        "    # Listening all nodes\n",
        "    while not current_process[TERMINATE]:\n",
        "        for p in range(N):\n",
        "            s = sockets[p]\n",
        "            try:\n",
        "                s.RCVTIMEO = 100\n",
        "                msg_type = s.recv_string()\n",
        "                msg = s.recv_json()\n",
        "\n",
        "                if msg_type == TERMINATE and msg[RECEIVER_ID] == n:\n",
        "                    print(f\"{TERMINATE} message received by {n} from {msg[SENDER_ID]}\")\n",
        "                    break\n",
        "\n",
        "                elif msg_type == GOSSIP and msg[RECEIVER_ID] == n:\n",
        "                    current_process[HEARTBEATS] = [int(x) for x in np.max(np.stack((current_process[HEARTBEATS], msg[HEARTBEATS])), axis=0)] # merge the heartbeats\n",
        "                    print(f\"{GOSSIP} message received by {n} from {msg[SENDER_ID]}, heartbeats: {msg[HEARTBEATS]}\")\n",
        "            except:\n",
        "                pass\n",
        "            \n",
        "def run_processes(nodes, N, msgNet, print_lock):\n",
        "    processes = []\n",
        "    for n in nodes:\n",
        "        p = multiprocessing.Process(target=gossip, args=(n, N, msgNet))\n",
        "        processes.append(p)\n",
        "        \n",
        "    # Start node processes\n",
        "    for p in processes:\n",
        "        p.start()\n",
        "    \n",
        "    # Join node processes\n",
        "    for p in processes:\n",
        "        p.join()\n",
        "\n",
        "if __name__ == \"__main__\":\n",
        "    numnodes = 3\n",
        "    nodes = np.arange(numnodes)\n",
        "    np.random.shuffle(nodes)\n",
        "    print(\"Node IDs: \", nodes)\n",
        "\n",
        "    msgNet = [dict() for _ in range(numnodes)]\n",
        "    for k in range(numnodes):\n",
        "        msgNet[k][TERMINATE] = False\n",
        "        msgNet[k][SOCKET] = None\n",
        "        msgNet[k][HEARTBEATS] = [0] * numnodes\n",
        "\n",
        "    try:\n",
        "        print_lock = threading.Lock() # ensure processes don't print over each other\n",
        "        run_processes(nodes, numnodes, msgNet, print_lock)\n",
        "    except KeyboardInterrupt: # ensure all sockets are closed after interupting the run\n",
        "        for process in msgNet:\n",
        "            if process[SOCKET] != None:\n",
        "                process[SOCKET].close()"
      ]
    },
    {
      "cell_type": "markdown",
      "metadata": {
        "id": "NSKn39cG99jO"
      },
      "source": [
        "A sample output of the above example may look like this:\n",
        "```\n",
        "Node IDs:  [1 0]\n",
        "Listener:1\n",
        "Listener:0\n",
        "GOSSIP msg sent by 1 to 0\n",
        "GOSSIP msg received by 0 from 1\n",
        "GOSSIP msg sent by 0 to 1\n",
        "GOSSIP msg received by 1 from 0\n",
        "GOSSIP msg sent by 1 to 0\n",
        "Terminating 0 ...\n",
        "GOSSIP msg received by 0 from 1\n",
        "GOSSIP msg sent by 1 to 0\n",
        "GOSSIP msg sent by 1 to 0\n",
        "GOSSIP msg sent by 1 to 0\n",
        "GOSSIP msg sent by 1 to 0\n",
        "GOSSIP msg sent by 1 to 0\n",
        "Terminating 1 ...\n",
        "```"
      ]
    },
    {
      "cell_type": "markdown",
      "metadata": {
        "id": "k2wSog_eCU-H"
      },
      "source": [
        "## A Gossip Style Failure Detection Service\n",
        "\n",
        "In this homework, you are asked to modify and extend the above example to implement a gossip style failure detection protocol based on the following publication: https://www.cs.cornell.edu/home/rvr/papers/GossipFD.pdf. The protocol was also covered in the lecture. The essential points are summarized below (also see Section 2 in the paper and revisit the slides of Lecture 4 -- Coordination). \n",
        "\n",
        "Each node maintains a list with for each known node its address and an integer which is going to be used for failure detection. We call the integer the _heartbeat counter_. Every $T_{gossip}$ seconds, each node increments its own heartbeat counter, and selects one other node at random to send its list to. Upon receipt of such a gossip message, a node merges the list in the message with its own list, and adopts the maximum heartbeat counter for each node.\n",
        "\n",
        "Each node also maintains, for each other node in the list, the last time that its corresponding heartbeat counter has increased. If the heartbeat counter has not increased for more than $T_{fail}$ seconds, then the node is considered failed. $T_{fail}$ is selected so that the probability that anybody makes an erroneous failure detection is less than some small threshold $P_{mistake}$.\n",
        "\n",
        "After a node is considered faulty, it cannot immediately be forgotten about. The problem is that not all nodes will detect failures at the same time, and thus a node A may receive a gossip about another node B that A has previously detected as faulty. If A had forgotten about B, it would reinstall B in its membership list, since A would think that it was seeing B’s heartbeat for the first time. A would continue to gossip this information on to other nodes, and, in effect, the faulty node B never quite disappears from the membership.\n",
        "\n",
        "Therefore, the failure detector does not remove a node from its membership list until after $T_{cleanup}$ seconds ($T_{cleanup} \\geq T_{fail}$). $T_{cleanup}$ is chosen so that the probability that a gossip is received about this node, after it has been detected as faulty, is less than some small threshold $P_{cleanup}$. We can make $P_{cleanup}$ equal to $P_{fail}$ by setting $T_{cleanup}$ to $2 \\times T_{fail}$.\n",
        "\n",
        "To see why, let B be some failed node, and consider another node A that heard B’s last heartbeat at time $t$. With probability $P_{fail}$, every other node will have heard B’s last heartbeat by $t+T_{fail}$, and so every process will fail B by time $t+2\\times T_{fail}$. Thus, if we set $T_{cleanup}$ to $2\\times T_{fail}$, then with probability $P_{fail}$, no failed node will ever reappear on A’s list of nodes once that node has been removed."
      ]
    },
    {
      "cell_type": "markdown",
      "metadata": {
        "id": "llviuq-77XS7"
      },
      "source": [
        "## 1 - Gossiping Neighborship Lists [6 points]\n",
        "\n",
        "**Your task:** Modify the sample code above to make nodes gossip their neighborship lists to a randomly chosen neighbor."
      ]
    },
    {
      "cell_type": "markdown",
      "metadata": {
        "id": "MB9Und0-_BPu"
      },
      "source": [
        "## 2 - Receiving and Updating Neighborship Lists [6 points]\n",
        "\n",
        "**Your task:** Extend the code to correctly update the neighborship lists maintained by every node."
      ]
    },
    {
      "cell_type": "markdown",
      "metadata": {
        "id": "HPyhwbAT_BCM"
      },
      "source": [
        "## 3 - Detect Node Failures [8 points]\n",
        "\n",
        "**Your task:** Extend the code to correctly handle node failures by maintaining $T_{fail}$ and $T_{cleanup}$ timeouts and updating the neighborbood list according to the protocol."
      ]
    },
    {
      "cell_type": "markdown",
      "metadata": {
        "id": "5AXgCZ6pzoO4"
      },
      "source": [
        "## 4 - How to Submit Your Solution?\n",
        "\n",
        "Download your notebook (File --> Download --> Download .ipynb) and send per email to [saukh@tugraz.at](mailto:saukh@tugraz.at)."
      ]
    }
  ],
  "metadata": {
    "colab": {
      "collapsed_sections": [],
      "provenance": [],
      "toc_visible": true
    },
    "kernelspec": {
      "display_name": "Python 3.10.6 64-bit",
      "language": "python",
      "name": "python3"
    },
    "language_info": {
      "codemirror_mode": {
        "name": "ipython",
        "version": 3
      },
      "file_extension": ".py",
      "mimetype": "text/x-python",
      "name": "python",
      "nbconvert_exporter": "python",
      "pygments_lexer": "ipython3",
      "version": "3.10.6"
    },
    "vscode": {
      "interpreter": {
        "hash": "916dbcbb3f70747c44a77c7bcd40155683ae19c65e1c03b4aa3499c5328201f1"
      }
    }
  },
  "nbformat": 4,
  "nbformat_minor": 0
}
