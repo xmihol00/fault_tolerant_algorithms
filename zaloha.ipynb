{
  "cells": [
    {
      "cell_type": "markdown",
      "metadata": {
        "id": "hIG3sDBFyebw"
      },
      "source": [
        "# Project 1 -- Time and Global State\n",
        "\n",
        "## Instructions\n",
        "\n",
        "Please read carefully:\n",
        "\n",
        "* Solve the project yourself. No teamwork.\n",
        "* If you have questions, please post these in the public channel on Slack. The answers may be relevant to others as well. \n",
        "* Feel free to import and use any additional Python packages you need.\n",
        "* Keep in mind that the correctness of your solution will also be verified on a *different input file*. This means that you are asked to provide an algorithm, not to hardcode the answer. If your solution for a task works only on the provided input (i.e., `sampledb.log` file), but does not work on the held back input, you will get only 50% of the points for that task.\n",
        "* You are allowed to solve the project using a different programming language. In this case, please send me your full code and instructions how to run it.\n",
        "* Make sure to fill in your `student_name` in the following block below."
      ]
    },
    {
      "cell_type": "code",
      "execution_count": 28,
      "metadata": {
        "id": "NRQm4C5L0AsG"
      },
      "outputs": [],
      "source": [
        "student_name = 'David Mihola' # fill with your student name\n",
        "assert student_name != 'your_student_name', 'Please fill in your student_name before you start.'\n",
        "mattrikel_nummer = 12211951"
      ]
    },
    {
      "cell_type": "markdown",
      "metadata": {
        "id": "2aL0oIQ0z-9F"
      },
      "source": [
        "## Setup\n",
        "\n",
        "In this mini-project, you will use your knowledge of logical clocks to analyse a sample distributed system execution. You are given a sample log file `sampledb.log` containing an event log of five communicating processes: Alice, Bob, Carol, Dave and Eve. The log file format is as follows:\n",
        "```\n",
        "(<event name>)\\n(<host>) (<local_clock>)\n",
        "```\n",
        "The code below installs the utility `gdown` and downloads `sampledb.log`."
      ]
    },
    {
      "cell_type": "code",
      "execution_count": 29,
      "metadata": {
        "id": "WFgW2nEdyX7r"
      },
      "outputs": [
        {
          "name": "stdout",
          "output_type": "stream",
          "text": [
            "Defaulting to user installation because normal site-packages is not writeable\n",
            "Requirement already satisfied: gdown in /mnt/sdc3/david/.local/lib/python3.10/site-packages (4.5.3)\n",
            "Requirement already satisfied: beautifulsoup4 in /mnt/sdc3/david/.local/lib/python3.10/site-packages (from gdown) (4.11.1)\n",
            "Requirement already satisfied: requests[socks] in /usr/lib/python3/dist-packages (from gdown) (2.25.1)\n",
            "Requirement already satisfied: six in /mnt/sdc3/david/.local/lib/python3.10/site-packages (from gdown) (1.16.0)\n",
            "Requirement already satisfied: filelock in /mnt/sdc3/david/.local/lib/python3.10/site-packages (from gdown) (3.8.0)\n",
            "Requirement already satisfied: tqdm in /mnt/sdc3/david/.local/lib/python3.10/site-packages (from gdown) (4.64.1)\n",
            "Requirement already satisfied: soupsieve>1.2 in /mnt/sdc3/david/.local/lib/python3.10/site-packages (from beautifulsoup4->gdown) (2.3.2.post1)\n",
            "Requirement already satisfied: PySocks!=1.5.7,>=1.5.6 in /mnt/sdc3/david/.local/lib/python3.10/site-packages (from requests[socks]->gdown) (1.7.1)\n",
            "Downloading...\n",
            "From: https://drive.google.com/uc?id=1s7BALY1RQyHjk06Okul7_lwUpoizZVNZ\n",
            "To: /mnt/sdc3/david/projs/fault_tolerant_systems/sampledb.log\n",
            "100%|██████████████████████████████████████| 3.09k/3.09k [00:00<00:00, 20.2MB/s]\n"
          ]
        }
      ],
      "source": [
        "# DO NOT CHANGE THESE LINES\n",
        "!pip install gdown\n",
        "!gdown https://drive.google.com/file/d/1s7BALY1RQyHjk06Okul7_lwUpoizZVNZ/view?usp=sharing --fuzzy"
      ]
    },
    {
      "cell_type": "markdown",
      "metadata": {
        "id": "KCzktHUUM3oD"
      },
      "source": [
        "To inspect the `sampledb.log` file click on the folder icon in your Google Colab called `Files` on the left. \n",
        "\n",
        "Examples of events in the log file:\n",
        "* Event `Making progress` finished on the host `Bob` at its local time 2.\n",
        "```\n",
        "Making progress \n",
        "Bob {\"Bob\":2}\n",
        "```\n",
        "* Event `Receive event` is a message receive event at the host `Alice` at its local clock time 3. The message comes from host `Bob` sent at its local time 2.\n",
        "```\n",
        "Receive event\n",
        "Alice {\"Alice\":3, \"Bob\":2}\n",
        "```\n",
        "* Event `Checkpoint` takes place on the host `Carol` at its local time 12.\n",
        "```\n",
        "Checkpoint\n",
        "Carol {\"Carol\":12}\n",
        "```\n",
        "\n",
        "The code below will help you to correctly parse the input file."
      ]
    },
    {
      "cell_type": "code",
      "execution_count": 30,
      "metadata": {
        "id": "80QhwUJjBA06"
      },
      "outputs": [
        {
          "name": "stdout",
          "output_type": "stream",
          "text": [
            "Events: [{'event': 'Init event', 'host': 'Alice', 'clock': {'Alice': 1}}, {'event': 'Init event', 'host': 'Bob', 'clock': {'Bob': 1}}, {'event': 'Send event', 'host': 'Alice', 'clock': {'Alice': 2}}, {'event': 'Making progress', 'host': 'Bob', 'clock': {'Bob': 2}}, {'event': 'Receive event', 'host': 'Bob', 'clock': {'Bob': 3, 'Alice': 2}}, {'event': 'Computing', 'host': 'Alice', 'clock': {'Alice': 3}}, {'event': 'Checkpoint', 'host': 'Alice', 'clock': {'Alice': 4}}, {'event': 'Making progress', 'host': 'Bob', 'clock': {'Bob': 4}}, {'event': 'Init event', 'host': 'Carol', 'clock': {'Carol': 1}}, {'event': 'Init event', 'host': 'Dave', 'clock': {'Dave': 1}}, {'event': 'Init event', 'host': 'Eve', 'clock': {'Eve': 1}}, {'event': 'Send event', 'host': 'Carol', 'clock': {'Carol': 2}}, {'event': 'Checkpoint', 'host': 'Carol', 'clock': {'Carol': 3}}, {'event': 'Send event', 'host': 'Carol', 'clock': {'Carol': 4}}, {'event': 'Send event', 'host': 'Bob', 'clock': {'Bob': 5}}, {'event': 'Receive event', 'host': 'Dave', 'clock': {'Dave': 2, 'Carol': 2}}, {'event': 'Checkpoint', 'host': 'Dave', 'clock': {'Dave': 3}}, {'event': 'Send event', 'host': 'Eve', 'clock': {'Eve': 2}}, {'event': 'Checkpoint', 'host': 'Eve', 'clock': {'Eve': 3}}, {'event': 'Receive event', 'host': 'Bob', 'clock': {'Bob': 6, 'Carol': 4}}, {'event': 'Checkpoint', 'host': 'Carol', 'clock': {'Carol': 5}}, {'event': 'Receive event', 'host': 'Eve', 'clock': {'Eve': 4, 'Carol': 2}}, {'event': 'Receive event', 'host': 'Dave', 'clock': {'Dave': 4, 'Eve': 2}}, {'event': 'Checkpoint', 'host': 'Dave', 'clock': {'Dave': 5}}, {'event': 'Receive event', 'host': 'Carol', 'clock': {'Carol': 6, 'Bob': 5}}, {'event': 'Making progress', 'host': 'Carol', 'clock': {'Carol': 7}}, {'event': 'Send event', 'host': 'Alice', 'clock': {'Alice': 5}}, {'event': 'Receive event', 'host': 'Alice', 'clock': {'Alice': 6, 'Carol': 4}}, {'event': 'Receive event', 'host': 'Bob', 'clock': {'Bob': 7, 'Alice': 5}}, {'event': 'Checkpoint', 'host': 'Bob', 'clock': {'Bob': 8}}, {'event': 'Send event', 'host': 'Alice', 'clock': {'Alice': 7}}, {'event': 'Making progress', 'host': 'Alice', 'clock': {'Alice': 8}}, {'event': 'Checkpoint', 'host': 'Alice', 'clock': {'Alice': 9}}, {'event': 'Computing', 'host': 'Eve', 'clock': {'Eve': 5}}, {'event': 'Processing results', 'host': 'Eve', 'clock': {'Eve': 6}}, {'event': 'Checkpoint', 'host': 'Carol', 'clock': {'Carol': 8}}, {'event': 'Send event', 'host': 'Dave', 'clock': {'Dave': 6}}, {'event': 'Receive event', 'host': 'Eve', 'clock': {'Eve': 7, 'Dave': 6}}, {'event': 'Making progress', 'host': 'Eve', 'clock': {'Eve': 8}}, {'event': 'Checkpoint', 'host': 'Eve', 'clock': {'Eve': 9}}, {'event': 'Receive event', 'host': 'Dave', 'clock': {'Dave': 7, 'Alice': 5}}, {'event': 'Receive event', 'host': 'Carol', 'clock': {'Carol': 9, 'Dave': 6}}, {'event': 'Receive event', 'host': 'Carol', 'clock': {'Carol': 10, 'Alice': 7}}, {'event': 'Send event', 'host': 'Carol', 'clock': {'Carol': 11}}, {'event': 'Receive event', 'host': 'Bob', 'clock': {'Bob': 9, 'Alice': 7}}, {'event': 'Checkpoint', 'host': 'Bob', 'clock': {'Bob': 10}}, {'event': 'Making progress', 'host': 'Carol', 'clock': {'Carol': 12}}, {'event': 'Receive event', 'host': 'Dave', 'clock': {'Dave': 8, 'Carol': 11}}, {'event': 'Checkpoint', 'host': 'Dave', 'clock': {'Dave': 9}}, {'event': 'Receive event', 'host': 'Dave', 'clock': {'Dave': 10, 'Alice': 7}}, {'event': 'Checkpoint', 'host': 'Dave', 'clock': {'Dave': 11}}, {'event': 'Send event', 'host': 'Bob', 'clock': {'Bob': 11}}, {'event': 'Receive event', 'host': 'Alice', 'clock': {'Alice': 10, 'Bob': 11}}, {'event': 'Receive event', 'host': 'Eve', 'clock': {'Eve': 10, 'Alice': 7}}, {'event': 'Receive event', 'host': 'Carol', 'clock': {'Carol': 13, 'Bob': 11}}, {'event': 'Checkpoint', 'host': 'Eve', 'clock': {'Eve': 11}}, {'event': 'Send event', 'host': 'Dave', 'clock': {'Dave': 12}}, {'event': 'Making progress', 'host': 'Dave', 'clock': {'Dave': 13}}, {'event': 'Checkpoint', 'host': 'Carol', 'clock': {'Carol': 14}}, {'event': 'Receive event', 'host': 'Bob', 'clock': {'Bob': 12, 'Carol': 11}}, {'event': 'Checkpoint', 'host': 'Bob', 'clock': {'Bob': 13}}, {'event': 'Send event', 'host': 'Bob', 'clock': {'Bob': 14}}, {'event': 'Checkpoint', 'host': 'Dave', 'clock': {'Dave': 14}}, {'event': 'Send event', 'host': 'Dave', 'clock': {'Dave': 15}}, {'event': 'Computing', 'host': 'Alice', 'clock': {'Alice': 11}}, {'event': 'Receive event', 'host': 'Alice', 'clock': {'Alice': 12, 'Bob': 14}}, {'event': 'Checkpoint', 'host': 'Alice', 'clock': {'Alice': 13}}, {'event': 'Computing', 'host': 'Bob', 'clock': {'Bob': 15}}, {'event': 'Receive event', 'host': 'Alice', 'clock': {'Alice': 14, 'Dave': 6}}, {'event': 'Processing results', 'host': 'Bob', 'clock': {'Bob': 16}}, {'event': 'Receive event', 'host': 'Carol', 'clock': {'Carol': 15, 'Dave': 12}}, {'event': 'Receive event', 'host': 'Dave', 'clock': {'Dave': 16, 'Bob': 5}}, {'event': 'Receive event', 'host': 'Eve', 'clock': {'Eve': 12, 'Bob': 17}}, {'event': 'Checkpoint', 'host': 'Eve', 'clock': {'Eve': 13}}, {'event': 'Receive event', 'host': 'Bob', 'clock': {'Bob': 17, 'Dave': 12}}, {'event': 'Checkpoint', 'host': 'Bob', 'clock': {'Bob': 18}}, {'event': 'Send event', 'host': 'Bob', 'clock': {'Bob': 19}}, {'event': 'Receive event', 'host': 'Eve', 'clock': {'Eve': 14, 'Dave': 15}}, {'event': 'Computing', 'host': 'Eve', 'clock': {'Eve': 15}}, {'event': 'Processing results', 'host': 'Eve', 'clock': {'Eve': 16}}, {'event': 'Receive event', 'host': 'Carol', 'clock': {'Carol': 16, 'Dave': 15}}, {'event': 'Checkpoint', 'host': 'Carol', 'clock': {'Carol': 17}}, {'event': 'Receive event', 'host': 'Carol', 'clock': {'Carol': 18, 'Bob': 14}}, {'event': 'Checkpoint', 'host': 'Carol', 'clock': {'Carol': 19}}, {'event': 'Send event', 'host': 'Bob', 'clock': {'Bob': 20}}, {'event': 'Checkpoint', 'host': 'Bob', 'clock': {'Bob': 21}}, {'event': 'Send event', 'host': 'Bob', 'clock': {'Bob': 22}}, {'event': 'Receive event', 'host': 'Alice', 'clock': {'Alice': 15, 'Bob': 19}}, {'event': 'Making progress', 'host': 'Alice', 'clock': {'Alice': 16}}, {'event': 'Making progress', 'host': 'Dave', 'clock': {'Dave': 17}}, {'event': 'Receive event', 'host': 'Dave', 'clock': {'Dave': 18, 'Bob': 22}}, {'event': 'Receive event', 'host': 'Eve', 'clock': {'Eve': 17, 'Bob': 20}}, {'event': 'Receive event', 'host': 'Alice', 'clock': {'Alice': 17, 'Bob': 22}}, {'event': 'Receive event', 'host': 'Carol', 'clock': {'Carol': 20, 'Bob': 22}}]\n",
            "Total number of events: 94\n"
          ]
        }
      ],
      "source": [
        "# DO NOT CHANGE THESE LINES\n",
        "import re\n",
        "import ast\n",
        "\n",
        "regex = '(.*)\\n(\\S*) ({.*})'\n",
        "events = []\n",
        "\n",
        "with open(f'sampledb.log') as f:\n",
        "    events = [{'event': event, 'host': host, 'clock': ast.literal_eval(clock)}\n",
        "               for event, host, clock in re.findall(regex, f.read())]\n",
        "print('Events:', events)\n",
        "print('Total number of events:', len(events))"
      ]
    },
    {
      "cell_type": "markdown",
      "metadata": {},
      "source": [
        "## Process data into better format to plot them"
      ]
    },
    {
      "cell_type": "code",
      "execution_count": 31,
      "metadata": {},
      "outputs": [],
      "source": [
        "# !pip install py-linq\n",
        "from py_linq import Enumerable\n",
        "events_grouped = Enumerable(events).group_by([\"name\"], lambda x: x[\"host\"]).order_by(lambda x: x.key.name) # group the events by each person and order them alphabetically\n",
        "names_enumerable = events_grouped.select(lambda x: x.key.name) # get the names of each person and keep the enumerable\n",
        "names = names_enumerable.to_list() \n",
        "\n",
        "events_by_names_ordered_dict = dict( # create a dictornary from tuples\n",
        "                                 tuple( # make tuples ('name', 'events')\n",
        "                                    events_grouped.select(lambda x: [x.key.name, # name of the person\n",
        "                                                                     x.select(lambda y: [y[\"event\"], list(y[\"clock\"].items())]) # select the event name and time information for one person\n",
        "                                                                      .order_by(lambda y: y[1][0][1])  # events seem to be order, but might not be always the case, order them to be sure from 1 to N\n",
        "                                                                      .to_list() # make list of the events for one person\n",
        "                                                                    ]\n",
        "                                                         )\n",
        "                                                  .to_list() # make a list of lists ['name', 'events']\n",
        "                                      )\n",
        "                                    )\n",
        "\n",
        "for _ in range(1000): # 'while True:' would never finish, if the events are invalid\n",
        "    missplaced_recieve_event = (Enumerable(events_by_names_ordered_dict.values()).select_many(lambda x: x) # make one list of events from all people\n",
        "                                                                                 .where(lambda x: x[0] == \"Receive event\" and x[1][0][1] <= x[1][1][1]) # choose missplaced 'Recieve events'\n",
        "                                                                                 .select(lambda x: x[1]) # select the time information\n",
        "                                                                                 .order_by(lambda x: x[1][1]) # order the missplaced events by the time they happen from 1 to N\n",
        "                                                                                 .first_or_default()) # take the first one or 'None'\n",
        "    if missplaced_recieve_event == None: # no more missplaced events\n",
        "        break\n",
        "    \n",
        "    missplaced_name = missplaced_recieve_event[0][0] # get person X, whose timeline isn't correct\n",
        "    index = missplaced_recieve_event[0][1] - 1\n",
        "    nops = missplaced_recieve_event[1][1] - missplaced_recieve_event[0][1] + 1 # get the number of nooperations the person X must do to correct their timeline\n",
        "    timeline = events_by_names_ordered_dict[missplaced_name]\n",
        "    for i in range(nops):\n",
        "        timeline.insert(index, [\"Nop\", [(missplaced_name, index + nops - i)]]) # correct the timeline\n",
        "    \n",
        "    for event in timeline[index + nops:]:\n",
        "        event[1][0] = (event[1][0][0], event[1][0][1] + nops) \n",
        "\n",
        "    for name in names_enumerable.where(lambda x: x != missplaced_name): # get other people\n",
        "        timeline = events_by_names_ordered_dict[name]\n",
        "        for moved in Enumerable(timeline).where(lambda x: len(x[1]) > 1 and x[1][1][0] == missplaced_name and x[1][1][1] > index): # chose events affected by the change of timeline of person X\n",
        "            moved[1][1] = (missplaced_name, moved[1][1][1] + nops) # adjust corrected timeline in timelines of other people\n",
        "\n",
        "max_length = Enumerable(events_by_names_ordered_dict.values()).max(lambda x: len(x)) # find the longes timeline\n",
        "for key, value in events_by_names_ordered_dict.items():\n",
        "    while len(value) <= max_length:\n",
        "        value.append([\"Nop\", [(key, len(value))]]) # padd the shorter timelines\n"
      ]
    },
    {
      "cell_type": "markdown",
      "metadata": {},
      "source": [
        "## Plot the processed data"
      ]
    },
    {
      "cell_type": "code",
      "execution_count": 47,
      "metadata": {},
      "outputs": [
        {
          "data": {
            "image/png": "[encoded data removed]",
            "text/plain": [
              "<Figure size 1152x720 with 1 Axes>"
            ]
          },
          "metadata": {
            "needs_background": "light"
          },
          "output_type": "display_data"
        }
      ],
      "source": [
        "# !pip install numpy\n",
        "# !pip install matplotlib\n",
        "import matplotlib.pyplot as plt\n",
        "import numpy as np\n",
        "import matplotlib.animation as animation\n",
        "\n",
        "names_reversed = names.copy()\n",
        "names_reversed.reverse()\n",
        "\n",
        "figure, axis = plt.subplots(figsize=(16, 10))\n",
        "lin_space = np.linspace(0, 250, 250)\n",
        "line = np.ones(250, dtype=np.uint32) * 2\n",
        "other_line = np.ones(250, dtype=np.uint32) * 3\n",
        "plot, = axis.plot(lin_space, line)\n",
        "plot, = axis.plot(lin_space, other_line)\n",
        "axis.set_xticks(np.arange(25) * 10, np.arange(1, 26))\n",
        "axis.set_yticks(np.arange(len(names_reversed)) + 0.5, names_reversed)\n",
        "axis.set_ylim(0, 5)\n",
        "\n",
        "\n",
        "def update(time, lin_space, line, plot):\n",
        "    plot.set_data(lin_space[:time], line[:time])\n",
        "    return plot,\n",
        "\n",
        "line_animation = animation.FuncAnimation(figure, update, 250, fargs=[lin_space, line, plot], interval=10, blit=True)\n",
        "\n",
        "plt.show()\n"
      ]
    },
    {
      "cell_type": "code",
      "execution_count": 33,
      "metadata": {},
      "outputs": [
        {
          "data": {
            "text/plain": [
              "[['Init event', [('Alice', 1)]],\n",
              " ['Send event', [('Alice', 2)]],\n",
              " ['Computing', [('Alice', 3)]],\n",
              " ['Checkpoint', [('Alice', 4)]],\n",
              " ['Send event', [('Alice', 5)]],\n",
              " ['Receive event', [('Alice', 6), ('Carol', 4)]],\n",
              " ['Send event', [('Alice', 7)]],\n",
              " ['Making progress', [('Alice', 8)]],\n",
              " ['Checkpoint', [('Alice', 9)]],\n",
              " ['Nop', [('Alice', 10)]],\n",
              " ['Nop', [('Alice', 11)]],\n",
              " ['Receive event', [('Alice', 12), ('Bob', 11)]],\n",
              " ['Computing', [('Alice', 13)]],\n",
              " ['Nop', [('Alice', 14)]],\n",
              " ['Receive event', [('Alice', 15), ('Bob', 14)]],\n",
              " ['Checkpoint', [('Alice', 16)]],\n",
              " ['Receive event', [('Alice', 17), ('Dave', 7)]],\n",
              " ['Nop', [('Alice', 18)]],\n",
              " ['Nop', [('Alice', 19)]],\n",
              " ['Receive event', [('Alice', 20), ('Bob', 19)]],\n",
              " ['Making progress', [('Alice', 21)]],\n",
              " ['Nop', [('Alice', 22)]],\n",
              " ['Receive event', [('Alice', 23), ('Bob', 22)]],\n",
              " ['Nop', [('Alice', 23)]],\n",
              " ['Nop', [('Alice', 24)]]]"
            ]
          },
          "execution_count": 33,
          "metadata": {},
          "output_type": "execute_result"
        }
      ],
      "source": [
        "events_by_names_ordered_dict[names[0]]"
      ]
    },
    {
      "cell_type": "code",
      "execution_count": 34,
      "metadata": {},
      "outputs": [
        {
          "data": {
            "text/plain": [
              "[['Init event', [('Bob', 1)]],\n",
              " ['Making progress', [('Bob', 2)]],\n",
              " ['Receive event', [('Bob', 3), ('Alice', 2)]],\n",
              " ['Making progress', [('Bob', 4)]],\n",
              " ['Send event', [('Bob', 5)]],\n",
              " ['Receive event', [('Bob', 6), ('Carol', 4)]],\n",
              " ['Receive event', [('Bob', 7), ('Alice', 5)]],\n",
              " ['Checkpoint', [('Bob', 8)]],\n",
              " ['Receive event', [('Bob', 9), ('Alice', 7)]],\n",
              " ['Checkpoint', [('Bob', 10)]],\n",
              " ['Send event', [('Bob', 11)]],\n",
              " ['Receive event', [('Bob', 12), ('Carol', 11)]],\n",
              " ['Checkpoint', [('Bob', 13)]],\n",
              " ['Send event', [('Bob', 14)]],\n",
              " ['Computing', [('Bob', 15)]],\n",
              " ['Processing results', [('Bob', 16)]],\n",
              " ['Receive event', [('Bob', 17), ('Dave', 16)]],\n",
              " ['Checkpoint', [('Bob', 18)]],\n",
              " ['Send event', [('Bob', 19)]],\n",
              " ['Send event', [('Bob', 20)]],\n",
              " ['Checkpoint', [('Bob', 21)]],\n",
              " ['Send event', [('Bob', 22)]],\n",
              " ['Nop', [('Bob', 22)]],\n",
              " ['Nop', [('Bob', 23)]],\n",
              " ['Nop', [('Bob', 24)]]]"
            ]
          },
          "execution_count": 34,
          "metadata": {},
          "output_type": "execute_result"
        }
      ],
      "source": [
        "events_by_names_ordered_dict[names[1]]"
      ]
    },
    {
      "cell_type": "code",
      "execution_count": 35,
      "metadata": {},
      "outputs": [
        {
          "data": {
            "text/plain": [
              "[['Init event', [('Carol', 1)]],\n",
              " ['Send event', [('Carol', 2)]],\n",
              " ['Checkpoint', [('Carol', 3)]],\n",
              " ['Send event', [('Carol', 4)]],\n",
              " ['Checkpoint', [('Carol', 5)]],\n",
              " ['Receive event', [('Carol', 6), ('Bob', 5)]],\n",
              " ['Making progress', [('Carol', 7)]],\n",
              " ['Checkpoint', [('Carol', 8)]],\n",
              " ['Receive event', [('Carol', 9), ('Dave', 7)]],\n",
              " ['Receive event', [('Carol', 10), ('Alice', 7)]],\n",
              " ['Send event', [('Carol', 11)]],\n",
              " ['Making progress', [('Carol', 12)]],\n",
              " ['Receive event', [('Carol', 13), ('Bob', 11)]],\n",
              " ['Checkpoint', [('Carol', 14)]],\n",
              " ['Nop', [('Carol', 15)]],\n",
              " ['Nop', [('Carol', 16)]],\n",
              " ['Receive event', [('Carol', 17), ('Dave', 16)]],\n",
              " ['Nop', [('Carol', 18)]],\n",
              " ['Nop', [('Carol', 19)]],\n",
              " ['Receive event', [('Carol', 20), ('Dave', 19)]],\n",
              " ['Checkpoint', [('Carol', 21)]],\n",
              " ['Receive event', [('Carol', 22), ('Bob', 14)]],\n",
              " ['Checkpoint', [('Carol', 23)]],\n",
              " ['Receive event', [('Carol', 24), ('Bob', 22)]],\n",
              " ['Nop', [('Carol', 24)]]]"
            ]
          },
          "execution_count": 35,
          "metadata": {},
          "output_type": "execute_result"
        }
      ],
      "source": [
        "events_by_names_ordered_dict[names[2]]"
      ]
    },
    {
      "cell_type": "code",
      "execution_count": 36,
      "metadata": {},
      "outputs": [
        {
          "data": {
            "text/plain": [
              "[['Init event', [('Dave', 1)]],\n",
              " ['Nop', [('Dave', 2)]],\n",
              " ['Receive event', [('Dave', 3), ('Carol', 2)]],\n",
              " ['Checkpoint', [('Dave', 4)]],\n",
              " ['Receive event', [('Dave', 5), ('Eve', 2)]],\n",
              " ['Checkpoint', [('Dave', 6)]],\n",
              " ['Send event', [('Dave', 7)]],\n",
              " ['Receive event', [('Dave', 8), ('Alice', 5)]],\n",
              " ['Nop', [('Dave', 9)]],\n",
              " ['Nop', [('Dave', 10)]],\n",
              " ['Nop', [('Dave', 11)]],\n",
              " ['Receive event', [('Dave', 12), ('Carol', 11)]],\n",
              " ['Checkpoint', [('Dave', 13)]],\n",
              " ['Receive event', [('Dave', 14), ('Alice', 7)]],\n",
              " ['Checkpoint', [('Dave', 15)]],\n",
              " ['Send event', [('Dave', 16)]],\n",
              " ['Making progress', [('Dave', 17)]],\n",
              " ['Checkpoint', [('Dave', 18)]],\n",
              " ['Send event', [('Dave', 19)]],\n",
              " ['Receive event', [('Dave', 20), ('Bob', 5)]],\n",
              " ['Making progress', [('Dave', 21)]],\n",
              " ['Nop', [('Dave', 22)]],\n",
              " ['Receive event', [('Dave', 23), ('Bob', 22)]],\n",
              " ['Nop', [('Dave', 23)]],\n",
              " ['Nop', [('Dave', 24)]]]"
            ]
          },
          "execution_count": 36,
          "metadata": {},
          "output_type": "execute_result"
        }
      ],
      "source": [
        "events_by_names_ordered_dict[names[3]]"
      ]
    },
    {
      "cell_type": "code",
      "execution_count": 37,
      "metadata": {},
      "outputs": [
        {
          "data": {
            "text/plain": [
              "[['Init event', [('Eve', 1)]],\n",
              " ['Send event', [('Eve', 2)]],\n",
              " ['Checkpoint', [('Eve', 3)]],\n",
              " ['Receive event', [('Eve', 4), ('Carol', 2)]],\n",
              " ['Computing', [('Eve', 5)]],\n",
              " ['Processing results', [('Eve', 6)]],\n",
              " ['Nop', [('Eve', 7)]],\n",
              " ['Receive event', [('Eve', 8), ('Dave', 7)]],\n",
              " ['Making progress', [('Eve', 9)]],\n",
              " ['Checkpoint', [('Eve', 10)]],\n",
              " ['Receive event', [('Eve', 11), ('Alice', 7)]],\n",
              " ['Checkpoint', [('Eve', 12)]],\n",
              " ['Nop', [('Eve', 13)]],\n",
              " ['Nop', [('Eve', 14)]],\n",
              " ['Nop', [('Eve', 15)]],\n",
              " ['Nop', [('Eve', 16)]],\n",
              " ['Nop', [('Eve', 17)]],\n",
              " ['Receive event', [('Eve', 18), ('Bob', 17)]],\n",
              " ['Checkpoint', [('Eve', 19)]],\n",
              " ['Receive event', [('Eve', 20), ('Dave', 19)]],\n",
              " ['Computing', [('Eve', 21)]],\n",
              " ['Processing results', [('Eve', 22)]],\n",
              " ['Receive event', [('Eve', 23), ('Bob', 20)]],\n",
              " ['Nop', [('Eve', 23)]],\n",
              " ['Nop', [('Eve', 24)]]]"
            ]
          },
          "execution_count": 37,
          "metadata": {},
          "output_type": "execute_result"
        }
      ],
      "source": [
        "events_by_names_ordered_dict[names[4]]"
      ]
    },
    {
      "cell_type": "markdown",
      "metadata": {
        "id": "-kfZ2QiXKPhu"
      },
      "source": [
        "## 1 - Visualize Execution [5+ points]\n",
        "\n",
        "**Your task:** Visualize the execution (similarly to the visualizations in the lecture). The author of the best visualization gets 3 points on top!"
      ]
    },
    {
      "cell_type": "code",
      "execution_count": 38,
      "metadata": {
        "id": "XpFTw8EDJ9Wl"
      },
      "outputs": [],
      "source": [
        "### START CODE HERE ###\n",
        "None\n",
        "### END CODE HERE ###"
      ]
    },
    {
      "cell_type": "markdown",
      "metadata": {
        "id": "fbXvxZ2AJ984"
      },
      "source": [
        "## 2 - Count Concurrent Events [5 points]\n",
        "\n",
        "**Your task**: Count the *total number of unique* concurrent event pairs in the log file."
      ]
    },
    {
      "cell_type": "code",
      "execution_count": 39,
      "metadata": {
        "id": "fhc9XKyU41YB"
      },
      "outputs": [
        {
          "name": "stdout",
          "output_type": "stream",
          "text": [
            "Number of concurrent event pairs: None\n"
          ]
        }
      ],
      "source": [
        "def count_concurrent_events(events):\n",
        "  ### START CODE HERE ###\n",
        "  None\n",
        "  ### END CODE HERE ###\n",
        "\n",
        "print('Number of concurrent event pairs:', count_concurrent_events(events))"
      ]
    },
    {
      "cell_type": "markdown",
      "metadata": {
        "id": "1GoQ-dbnPGdk"
      },
      "source": [
        "## 3 - Assign Vector Clocks [4 points]\n",
        "\n",
        "**Your task:** Assign vector timestamps to each event. Annotate the event captions with the corresponting vector timestamp. E.g., \n",
        "```\n",
        "`Dummy event` --> `Dummy event [0,12,2,4,0]`.\n",
        "```\n"
      ]
    },
    {
      "cell_type": "code",
      "execution_count": 40,
      "metadata": {
        "id": "VcK9zClDNWYL"
      },
      "outputs": [
        {
          "name": "stdout",
          "output_type": "stream",
          "text": [
            "None\n"
          ]
        }
      ],
      "source": [
        "def assign_vector_timestamps(events):\n",
        "  ### START CODE HERE ###\n",
        "  None\n",
        "  ### END CODE HERE ###\n",
        "\n",
        "print(assign_vector_timestamps(events))"
      ]
    },
    {
      "cell_type": "markdown",
      "metadata": {
        "id": "hC1QuYiHzJpt"
      },
      "source": [
        "## 4 - Rollback Recovery [6 points]\n",
        "All events annotated with the `Checkpoint` in the title are checkpointing events. According to the provided log file `sampledb.log`, the hosts Alice, Bob, Carol, Dave and Eve are at their logical time 17, 22, 20, 18 and 17 respectively. Once of a sudden, Bob fails and has to rollback at least to its latest checkpoint.\n",
        "\n",
        "**Your task:** Write an algorithm to calculate the correct recovery line given one or multiple host failures."
      ]
    },
    {
      "cell_type": "code",
      "execution_count": 41,
      "metadata": {
        "id": "DIZcUW3EyykH"
      },
      "outputs": [
        {
          "name": "stdout",
          "output_type": "stream",
          "text": [
            "Computed recovery line:  None\n"
          ]
        }
      ],
      "source": [
        "def recovery_line(events, failed_processes):\n",
        "  ### START CODE HERE ###\n",
        "  None\n",
        "  ### END CODE HERE ###\n",
        "\n",
        "print(\"Computed recovery line: \", recovery_line(events, [\"Bob\"]))"
      ]
    },
    {
      "cell_type": "markdown",
      "metadata": {
        "id": "5AXgCZ6pzoO4"
      },
      "source": [
        "## 5 - How to Submit Your Solution?\n",
        "Download your notebook (File --> Download --> Download .ipynb) and send per email to [saukh@tugraz.at](mailto:saukh@tugraz.at)."
      ]
    },
    {
      "cell_type": "code",
      "execution_count": null,
      "metadata": {
        "id": "i8D4VSnBT5Iz"
      },
      "outputs": [],
      "source": []
    }
  ],
  "metadata": {
    "colab": {
      "collapsed_sections": [],
      "provenance": [],
      "toc_visible": true
    },
    "kernelspec": {
      "display_name": "Python 3.10.6 64-bit",
      "language": "python",
      "name": "python3"
    },
    "language_info": {
      "codemirror_mode": {
        "name": "ipython",
        "version": 3
      },
      "file_extension": ".py",
      "mimetype": "text/x-python",
      "name": "python",
      "nbconvert_exporter": "python",
      "pygments_lexer": "ipython3",
      "version": "3.10.6"
    },
    "vscode": {
      "interpreter": {
        "hash": "916dbcbb3f70747c44a77c7bcd40155683ae19c65e1c03b4aa3499c5328201f1"
      }
    }
  },
  "nbformat": 4,
  "nbformat_minor": 0
}
